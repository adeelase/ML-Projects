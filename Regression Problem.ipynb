{
  "cells": [
    {
      "cell_type": "code",
      "execution_count": null,
      "metadata": {
        "id": "Hi-pOAZRQzHW"
      },
      "outputs": [],
      "source": [
        "import numpy as np\n",
        "import pandas as pd\n",
        "import matplotlib.pyplot as plt\n",
        "\n",
        "from sklearn.model_selection import train_test_split\n"
      ]
    },
    {
      "cell_type": "code",
      "execution_count": null,
      "metadata": {
        "id": "B96hMqPLQzHk"
      },
      "outputs": [],
      "source": [
        "from sklearn.metrics import mean_squared_error, r2_score\n",
        "#Import Data from Input\n",
        "df= pd.read_csv(r\"C:\\\\Users\\\\shiny\\\\Downloads\\\\Automobile_data.csv\")"
      ]
    },
    {
      "cell_type": "code",
      "execution_count": null,
      "metadata": {
        "id": "NODKxKD9QzHl",
        "outputId": "1679d1b9-c9fa-41a5-d1d3-69f1bdedc967"
      },
      "outputs": [
        {
          "data": {
            "text/html": [
              "<div>\n",
              "<style scoped>\n",
              "    .dataframe tbody tr th:only-of-type {\n",
              "        vertical-align: middle;\n",
              "    }\n",
              "\n",
              "    .dataframe tbody tr th {\n",
              "        vertical-align: top;\n",
              "    }\n",
              "\n",
              "    .dataframe thead th {\n",
              "        text-align: right;\n",
              "    }\n",
              "</style>\n",
              "<table border=\"1\" class=\"dataframe\">\n",
              "  <thead>\n",
              "    <tr style=\"text-align: right;\">\n",
              "      <th></th>\n",
              "      <th>symboling</th>\n",
              "      <th>normalized-losses</th>\n",
              "      <th>make</th>\n",
              "      <th>fuel-type</th>\n",
              "      <th>aspiration</th>\n",
              "      <th>num-of-doors</th>\n",
              "      <th>body-style</th>\n",
              "      <th>drive-wheels</th>\n",
              "      <th>engine-location</th>\n",
              "      <th>wheel-base</th>\n",
              "      <th>...</th>\n",
              "      <th>engine-size</th>\n",
              "      <th>fuel-system</th>\n",
              "      <th>bore</th>\n",
              "      <th>stroke</th>\n",
              "      <th>compression-ratio</th>\n",
              "      <th>horsepower</th>\n",
              "      <th>peak-rpm</th>\n",
              "      <th>city-mpg</th>\n",
              "      <th>highway-mpg</th>\n",
              "      <th>price</th>\n",
              "    </tr>\n",
              "  </thead>\n",
              "  <tbody>\n",
              "    <tr>\n",
              "      <th>0</th>\n",
              "      <td>3</td>\n",
              "      <td>?</td>\n",
              "      <td>alfa-romero</td>\n",
              "      <td>gas</td>\n",
              "      <td>std</td>\n",
              "      <td>two</td>\n",
              "      <td>convertible</td>\n",
              "      <td>rwd</td>\n",
              "      <td>front</td>\n",
              "      <td>88.6</td>\n",
              "      <td>...</td>\n",
              "      <td>130</td>\n",
              "      <td>mpfi</td>\n",
              "      <td>3.47</td>\n",
              "      <td>2.68</td>\n",
              "      <td>9.0</td>\n",
              "      <td>111</td>\n",
              "      <td>5000</td>\n",
              "      <td>21</td>\n",
              "      <td>27</td>\n",
              "      <td>13495</td>\n",
              "    </tr>\n",
              "    <tr>\n",
              "      <th>1</th>\n",
              "      <td>3</td>\n",
              "      <td>?</td>\n",
              "      <td>alfa-romero</td>\n",
              "      <td>gas</td>\n",
              "      <td>std</td>\n",
              "      <td>two</td>\n",
              "      <td>convertible</td>\n",
              "      <td>rwd</td>\n",
              "      <td>front</td>\n",
              "      <td>88.6</td>\n",
              "      <td>...</td>\n",
              "      <td>130</td>\n",
              "      <td>mpfi</td>\n",
              "      <td>3.47</td>\n",
              "      <td>2.68</td>\n",
              "      <td>9.0</td>\n",
              "      <td>111</td>\n",
              "      <td>5000</td>\n",
              "      <td>21</td>\n",
              "      <td>27</td>\n",
              "      <td>16500</td>\n",
              "    </tr>\n",
              "    <tr>\n",
              "      <th>2</th>\n",
              "      <td>1</td>\n",
              "      <td>?</td>\n",
              "      <td>alfa-romero</td>\n",
              "      <td>gas</td>\n",
              "      <td>std</td>\n",
              "      <td>two</td>\n",
              "      <td>hatchback</td>\n",
              "      <td>rwd</td>\n",
              "      <td>front</td>\n",
              "      <td>94.5</td>\n",
              "      <td>...</td>\n",
              "      <td>152</td>\n",
              "      <td>mpfi</td>\n",
              "      <td>2.68</td>\n",
              "      <td>3.47</td>\n",
              "      <td>9.0</td>\n",
              "      <td>154</td>\n",
              "      <td>5000</td>\n",
              "      <td>19</td>\n",
              "      <td>26</td>\n",
              "      <td>16500</td>\n",
              "    </tr>\n",
              "    <tr>\n",
              "      <th>3</th>\n",
              "      <td>2</td>\n",
              "      <td>164</td>\n",
              "      <td>audi</td>\n",
              "      <td>gas</td>\n",
              "      <td>std</td>\n",
              "      <td>four</td>\n",
              "      <td>sedan</td>\n",
              "      <td>fwd</td>\n",
              "      <td>front</td>\n",
              "      <td>99.8</td>\n",
              "      <td>...</td>\n",
              "      <td>109</td>\n",
              "      <td>mpfi</td>\n",
              "      <td>3.19</td>\n",
              "      <td>3.4</td>\n",
              "      <td>10.0</td>\n",
              "      <td>102</td>\n",
              "      <td>5500</td>\n",
              "      <td>24</td>\n",
              "      <td>30</td>\n",
              "      <td>13950</td>\n",
              "    </tr>\n",
              "    <tr>\n",
              "      <th>4</th>\n",
              "      <td>2</td>\n",
              "      <td>164</td>\n",
              "      <td>audi</td>\n",
              "      <td>gas</td>\n",
              "      <td>std</td>\n",
              "      <td>four</td>\n",
              "      <td>sedan</td>\n",
              "      <td>4wd</td>\n",
              "      <td>front</td>\n",
              "      <td>99.4</td>\n",
              "      <td>...</td>\n",
              "      <td>136</td>\n",
              "      <td>mpfi</td>\n",
              "      <td>3.19</td>\n",
              "      <td>3.4</td>\n",
              "      <td>8.0</td>\n",
              "      <td>115</td>\n",
              "      <td>5500</td>\n",
              "      <td>18</td>\n",
              "      <td>22</td>\n",
              "      <td>17450</td>\n",
              "    </tr>\n",
              "  </tbody>\n",
              "</table>\n",
              "<p>5 rows × 26 columns</p>\n",
              "</div>"
            ],
            "text/plain": [
              "   symboling normalized-losses         make fuel-type aspiration num-of-doors  \\\n",
              "0          3                 ?  alfa-romero       gas        std          two   \n",
              "1          3                 ?  alfa-romero       gas        std          two   \n",
              "2          1                 ?  alfa-romero       gas        std          two   \n",
              "3          2               164         audi       gas        std         four   \n",
              "4          2               164         audi       gas        std         four   \n",
              "\n",
              "    body-style drive-wheels engine-location  wheel-base  ...  engine-size  \\\n",
              "0  convertible          rwd           front        88.6  ...          130   \n",
              "1  convertible          rwd           front        88.6  ...          130   \n",
              "2    hatchback          rwd           front        94.5  ...          152   \n",
              "3        sedan          fwd           front        99.8  ...          109   \n",
              "4        sedan          4wd           front        99.4  ...          136   \n",
              "\n",
              "   fuel-system  bore  stroke compression-ratio horsepower  peak-rpm city-mpg  \\\n",
              "0         mpfi  3.47    2.68               9.0        111      5000       21   \n",
              "1         mpfi  3.47    2.68               9.0        111      5000       21   \n",
              "2         mpfi  2.68    3.47               9.0        154      5000       19   \n",
              "3         mpfi  3.19     3.4              10.0        102      5500       24   \n",
              "4         mpfi  3.19     3.4               8.0        115      5500       18   \n",
              "\n",
              "  highway-mpg  price  \n",
              "0          27  13495  \n",
              "1          27  16500  \n",
              "2          26  16500  \n",
              "3          30  13950  \n",
              "4          22  17450  \n",
              "\n",
              "[5 rows x 26 columns]"
            ]
          },
          "execution_count": 148,
          "metadata": {},
          "output_type": "execute_result"
        }
      ],
      "source": [
        "df.head()"
      ]
    },
    {
      "cell_type": "code",
      "execution_count": null,
      "metadata": {
        "id": "on0UHaVSQzHo",
        "outputId": "a2a76566-e226-4f50-f38a-09081c0e2371"
      },
      "outputs": [
        {
          "data": {
            "text/plain": [
              "(205, 26)"
            ]
          },
          "execution_count": 149,
          "metadata": {},
          "output_type": "execute_result"
        }
      ],
      "source": [
        "df.shape\n"
      ]
    },
    {
      "cell_type": "code",
      "execution_count": null,
      "metadata": {
        "id": "_yEqvQ5kQzHq",
        "outputId": "49654c7b-80c9-48a1-b6dd-13474cd73d8f"
      },
      "outputs": [
        {
          "data": {
            "text/plain": [
              "Index(['symboling', 'normalized-losses', 'make', 'fuel-type', 'aspiration',\n",
              "       'num-of-doors', 'body-style', 'drive-wheels', 'engine-location',\n",
              "       'wheel-base', 'length', 'width', 'height', 'curb-weight', 'engine-type',\n",
              "       'num-of-cylinders', 'engine-size', 'fuel-system', 'bore', 'stroke',\n",
              "       'compression-ratio', 'horsepower', 'peak-rpm', 'city-mpg',\n",
              "       'highway-mpg', 'price'],\n",
              "      dtype='object')"
            ]
          },
          "execution_count": 150,
          "metadata": {},
          "output_type": "execute_result"
        }
      ],
      "source": [
        "df.columns"
      ]
    },
    {
      "cell_type": "code",
      "execution_count": null,
      "metadata": {
        "id": "eGX-DTHAQzHr",
        "outputId": "cefde1fb-850d-4e2f-fc62-c96b109855b1"
      },
      "outputs": [
        {
          "name": "stdout",
          "output_type": "stream",
          "text": [
            "<class 'pandas.core.frame.DataFrame'>\n",
            "RangeIndex: 205 entries, 0 to 204\n",
            "Data columns (total 26 columns):\n",
            " #   Column             Non-Null Count  Dtype  \n",
            "---  ------             --------------  -----  \n",
            " 0   symboling          205 non-null    int64  \n",
            " 1   normalized-losses  205 non-null    object \n",
            " 2   make               205 non-null    object \n",
            " 3   fuel-type          205 non-null    object \n",
            " 4   aspiration         205 non-null    object \n",
            " 5   num-of-doors       205 non-null    object \n",
            " 6   body-style         205 non-null    object \n",
            " 7   drive-wheels       205 non-null    object \n",
            " 8   engine-location    205 non-null    object \n",
            " 9   wheel-base         205 non-null    float64\n",
            " 10  length             205 non-null    float64\n",
            " 11  width              205 non-null    float64\n",
            " 12  height             205 non-null    float64\n",
            " 13  curb-weight        205 non-null    int64  \n",
            " 14  engine-type        205 non-null    object \n",
            " 15  num-of-cylinders   205 non-null    object \n",
            " 16  engine-size        205 non-null    int64  \n",
            " 17  fuel-system        205 non-null    object \n",
            " 18  bore               205 non-null    object \n",
            " 19  stroke             205 non-null    object \n",
            " 20  compression-ratio  205 non-null    float64\n",
            " 21  horsepower         205 non-null    object \n",
            " 22  peak-rpm           205 non-null    object \n",
            " 23  city-mpg           205 non-null    int64  \n",
            " 24  highway-mpg        205 non-null    int64  \n",
            " 25  price              205 non-null    object \n",
            "dtypes: float64(5), int64(5), object(16)\n",
            "memory usage: 41.8+ KB\n"
          ]
        }
      ],
      "source": [
        "df.info()"
      ]
    },
    {
      "cell_type": "code",
      "execution_count": null,
      "metadata": {
        "id": "t1Rs4Id_QzHt"
      },
      "outputs": [],
      "source": [
        "df = df.rename({\"normalized-losses\":\"normalizedlosses\"}, axis='columns')"
      ]
    },
    {
      "cell_type": "code",
      "execution_count": null,
      "metadata": {
        "id": "ZK52GvubQzHu",
        "outputId": "fc1396b3-d78e-492a-e6fb-c452f2a5337e"
      },
      "outputs": [
        {
          "name": "stdout",
          "output_type": "stream",
          "text": [
            "<class 'pandas.core.frame.DataFrame'>\n",
            "RangeIndex: 205 entries, 0 to 204\n",
            "Data columns (total 26 columns):\n",
            " #   Column             Non-Null Count  Dtype  \n",
            "---  ------             --------------  -----  \n",
            " 0   symboling          205 non-null    int64  \n",
            " 1   normalizedlosses   205 non-null    object \n",
            " 2   make               205 non-null    object \n",
            " 3   fuel-type          205 non-null    object \n",
            " 4   aspiration         205 non-null    object \n",
            " 5   num-of-doors       205 non-null    object \n",
            " 6   body-style         205 non-null    object \n",
            " 7   drive-wheels       205 non-null    object \n",
            " 8   engine-location    205 non-null    object \n",
            " 9   wheel-base         205 non-null    float64\n",
            " 10  length             205 non-null    float64\n",
            " 11  width              205 non-null    float64\n",
            " 12  height             205 non-null    float64\n",
            " 13  curb-weight        205 non-null    int64  \n",
            " 14  engine-type        205 non-null    object \n",
            " 15  num-of-cylinders   205 non-null    object \n",
            " 16  engine-size        205 non-null    int64  \n",
            " 17  fuel-system        205 non-null    object \n",
            " 18  bore               205 non-null    object \n",
            " 19  stroke             205 non-null    object \n",
            " 20  compression-ratio  205 non-null    float64\n",
            " 21  horsepower         205 non-null    object \n",
            " 22  peak-rpm           205 non-null    object \n",
            " 23  city-mpg           205 non-null    int64  \n",
            " 24  highway-mpg        205 non-null    int64  \n",
            " 25  price              205 non-null    object \n",
            "dtypes: float64(5), int64(5), object(16)\n",
            "memory usage: 41.8+ KB\n"
          ]
        }
      ],
      "source": [
        "df.info()"
      ]
    },
    {
      "cell_type": "code",
      "execution_count": null,
      "metadata": {
        "id": "mVS82CNCQzHy",
        "outputId": "5ff1f865-fadf-4716-ecdc-172ba6f02da2"
      },
      "outputs": [
        {
          "data": {
            "text/plain": [
              "array(['?', '164', '158', '192', '188', '121', '98', '81', '118', '148',\n",
              "       '110', '145', '137', '101', '78', '106', '85', '107', '104', '113',\n",
              "       '150', '129', '115', '93', '142', '161', '153', '125', '128',\n",
              "       '122', '103', '168', '108', '194', '231', '119', '154', '74',\n",
              "       '186', '83', '102', '89', '87', '77', '91', '134', '65', '197',\n",
              "       '90', '94', '256', '95'], dtype=object)"
            ]
          },
          "execution_count": 154,
          "metadata": {},
          "output_type": "execute_result"
        }
      ],
      "source": [
        "df.normalizedlosses.unique()"
      ]
    },
    {
      "cell_type": "code",
      "execution_count": null,
      "metadata": {
        "id": "zEE6rfA0QzH2"
      },
      "outputs": [],
      "source": [
        "df = df[df.normalizedlosses != \"?\"]\n",
        "df.normalizedlosses = df.normalizedlosses.astype(\"float\")"
      ]
    },
    {
      "cell_type": "code",
      "execution_count": null,
      "metadata": {
        "id": "qMDF9ox4QzH3",
        "outputId": "d9f6a8f1-90ab-45ce-fe8f-5de2b53009be"
      },
      "outputs": [
        {
          "data": {
            "text/plain": [
              "array(['102', '115', '110', '140', '101', '121', '48', '70', '68', '88',\n",
              "       '145', '58', '76', '60', '86', '100', '176', '135', '84', '120',\n",
              "       '123', '155', '116', '69', '55', '97', '152', '160', '200', '95',\n",
              "       '142', '143', '73', '82', '94', '111', '62', '56', '112', '92',\n",
              "       '161', '156', '52', '85', '90', '114', '162', '134', '106'],\n",
              "      dtype=object)"
            ]
          },
          "execution_count": 156,
          "metadata": {},
          "output_type": "execute_result"
        }
      ],
      "source": [
        "df.horsepower.unique()"
      ]
    },
    {
      "cell_type": "code",
      "execution_count": null,
      "metadata": {
        "id": "ImhEF2jMQzH4"
      },
      "outputs": [],
      "source": [
        "df = df[df.horsepower != \"?\"]\n",
        "df.horsepower = df.horsepower.astype(\"int\")"
      ]
    },
    {
      "cell_type": "code",
      "execution_count": null,
      "metadata": {
        "id": "DOCyO6gHQzH5",
        "outputId": "1898fddc-284e-4afc-88d6-801c83d0e31e"
      },
      "outputs": [
        {
          "data": {
            "text/plain": [
              "array(['3.4', '2.8', '3.19', '3.03', '3.11', '3.23', '3.39', '3.46',\n",
              "       '3.9', '3.41', '3.07', '3.58', '4.17', '3.15', '?', '3.16', '3.64',\n",
              "       '3.1', '3.29', '3.47', '3.27', '3.52', '2.19', '3.21', '2.07',\n",
              "       '2.36', '2.64', '3.35', '3.08', '3.5', '3.54', '2.87'],\n",
              "      dtype=object)"
            ]
          },
          "execution_count": 158,
          "metadata": {},
          "output_type": "execute_result"
        }
      ],
      "source": [
        "df.stroke.unique()"
      ]
    },
    {
      "cell_type": "code",
      "execution_count": null,
      "metadata": {
        "id": "8z0HkgvJQzH6"
      },
      "outputs": [],
      "source": [
        "df = df[df.stroke != \"?\"]\n",
        "df.stroke = df.stroke.astype(\"float\")"
      ]
    },
    {
      "cell_type": "code",
      "execution_count": null,
      "metadata": {
        "id": "jbmBAYj0QzH6"
      },
      "outputs": [],
      "source": [
        "df = df.rename({\"peak-rpm\":\"peakrpm\"}, axis='columns')"
      ]
    },
    {
      "cell_type": "code",
      "execution_count": null,
      "metadata": {
        "id": "-sdNaPznQzH7",
        "outputId": "9db53c36-7a43-4f12-ec64-9203a8ef05ad"
      },
      "outputs": [
        {
          "name": "stdout",
          "output_type": "stream",
          "text": [
            "<class 'pandas.core.frame.DataFrame'>\n",
            "Int64Index: 160 entries, 3 to 204\n",
            "Data columns (total 26 columns):\n",
            " #   Column             Non-Null Count  Dtype  \n",
            "---  ------             --------------  -----  \n",
            " 0   symboling          160 non-null    int64  \n",
            " 1   normalizedlosses   160 non-null    float64\n",
            " 2   make               160 non-null    object \n",
            " 3   fuel-type          160 non-null    object \n",
            " 4   aspiration         160 non-null    object \n",
            " 5   num-of-doors       160 non-null    object \n",
            " 6   body-style         160 non-null    object \n",
            " 7   drive-wheels       160 non-null    object \n",
            " 8   engine-location    160 non-null    object \n",
            " 9   wheel-base         160 non-null    float64\n",
            " 10  length             160 non-null    float64\n",
            " 11  width              160 non-null    float64\n",
            " 12  height             160 non-null    float64\n",
            " 13  curb-weight        160 non-null    int64  \n",
            " 14  engine-type        160 non-null    object \n",
            " 15  num-of-cylinders   160 non-null    object \n",
            " 16  engine-size        160 non-null    int64  \n",
            " 17  fuel-system        160 non-null    object \n",
            " 18  bore               160 non-null    object \n",
            " 19  stroke             160 non-null    float64\n",
            " 20  compression-ratio  160 non-null    float64\n",
            " 21  horsepower         160 non-null    int32  \n",
            " 22  peakrpm            160 non-null    object \n",
            " 23  city-mpg           160 non-null    int64  \n",
            " 24  highway-mpg        160 non-null    int64  \n",
            " 25  price              160 non-null    object \n",
            "dtypes: float64(7), int32(1), int64(5), object(13)\n",
            "memory usage: 33.1+ KB\n"
          ]
        }
      ],
      "source": [
        "df.info()"
      ]
    },
    {
      "cell_type": "code",
      "execution_count": null,
      "metadata": {
        "id": "ZM9Ng4tDQzH8",
        "outputId": "4529ccf6-2d15-45e4-8193-57899b5eefc9"
      },
      "outputs": [
        {
          "data": {
            "text/plain": [
              "array(['5500', '5800', '4250', '5100', '5400', '5000', '4800', '6000',\n",
              "       '4750', '4350', '5200', '4150', '5600', '5250', '4900', '4400',\n",
              "       '4500', '6600', '4200', '5300'], dtype=object)"
            ]
          },
          "execution_count": 162,
          "metadata": {},
          "output_type": "execute_result"
        }
      ],
      "source": [
        "df.peakrpm.unique()"
      ]
    },
    {
      "cell_type": "code",
      "execution_count": null,
      "metadata": {
        "id": "Mf04ZDkOQzH9"
      },
      "outputs": [],
      "source": [
        "df = df[df.peakrpm != \"?\"]\n",
        "df.peakrpm = df.peakrpm.astype(\"int\")"
      ]
    },
    {
      "cell_type": "code",
      "execution_count": null,
      "metadata": {
        "id": "XEIw67AgQzH-",
        "outputId": "e8638fe7-c9ed-4351-a583-0667241c9ba4"
      },
      "outputs": [
        {
          "data": {
            "text/plain": [
              "array(['13950', '17450', '17710', '23875', '16430', '16925', '20970',\n",
              "       '21105', '5151', '6295', '6575', '5572', '6377', '7957', '6229',\n",
              "       '6692', '7609', '8558', '8921', '12964', '6479', '6855', '5399',\n",
              "       '6529', '7129', '7295', '7895', '9095', '8845', '10295', '12945',\n",
              "       '10345', '32250', '5195', '6095', '6795', '6695', '7395', '8495',\n",
              "       '10595', '10245', '11245', '18280', '25552', '28248', '28176',\n",
              "       '31600', '35056', '5389', '6189', '6669', '7689', '9959', '8499',\n",
              "       '6989', '8189', '9279', '5499', '7099', '6649', '6849', '7349',\n",
              "       '7299', '7799', '7499', '7999', '8249', '8949', '9549', '13499',\n",
              "       '14399', '17199', '19699', '18399', '11900', '13200', '15580',\n",
              "       '16900', '16630', '17950', '18150', '22018', '11850', '12170',\n",
              "       '15040', '15510', '18620', '5118', '7053', '7603', '7126', '7775',\n",
              "       '9960', '9233', '11259', '7463', '10198', '8013', '11694', '5348',\n",
              "       '6338', '6488', '6918', '7898', '8778', '6938', '7198', '7788',\n",
              "       '7738', '8358', '9258', '8058', '8238', '9298', '9538', '8449',\n",
              "       '9639', '9989', '11199', '11549', '17669', '8948', '10698', '9988',\n",
              "       '10898', '11248', '16558', '15998', '15690', '7975', '7995',\n",
              "       '8195', '9495', '9995', '9980', '12940', '13415', '15985', '16515',\n",
              "       '18420', '18950', '16845', '19045', '21485', '22470', '22625'],\n",
              "      dtype=object)"
            ]
          },
          "execution_count": 164,
          "metadata": {},
          "output_type": "execute_result"
        }
      ],
      "source": [
        "df.price.unique()"
      ]
    },
    {
      "cell_type": "code",
      "execution_count": null,
      "metadata": {
        "id": "DVZBicdEQzH_"
      },
      "outputs": [],
      "source": [
        "df = df[df.price != \"?\"]\n",
        "df.price = df.price.astype(\"int\")"
      ]
    },
    {
      "cell_type": "code",
      "execution_count": null,
      "metadata": {
        "id": "nWBgWTWaQzIB",
        "outputId": "fbcdf414-c23e-4251-8dbe-1d5e5b702f52"
      },
      "outputs": [
        {
          "name": "stdout",
          "output_type": "stream",
          "text": [
            "<class 'pandas.core.frame.DataFrame'>\n",
            "Int64Index: 160 entries, 3 to 204\n",
            "Data columns (total 26 columns):\n",
            " #   Column             Non-Null Count  Dtype  \n",
            "---  ------             --------------  -----  \n",
            " 0   symboling          160 non-null    int64  \n",
            " 1   normalizedlosses   160 non-null    float64\n",
            " 2   make               160 non-null    object \n",
            " 3   fuel-type          160 non-null    object \n",
            " 4   aspiration         160 non-null    object \n",
            " 5   num-of-doors       160 non-null    object \n",
            " 6   body-style         160 non-null    object \n",
            " 7   drive-wheels       160 non-null    object \n",
            " 8   engine-location    160 non-null    object \n",
            " 9   wheel-base         160 non-null    float64\n",
            " 10  length             160 non-null    float64\n",
            " 11  width              160 non-null    float64\n",
            " 12  height             160 non-null    float64\n",
            " 13  curb-weight        160 non-null    int64  \n",
            " 14  engine-type        160 non-null    object \n",
            " 15  num-of-cylinders   160 non-null    object \n",
            " 16  engine-size        160 non-null    int64  \n",
            " 17  fuel-system        160 non-null    object \n",
            " 18  bore               160 non-null    object \n",
            " 19  stroke             160 non-null    float64\n",
            " 20  compression-ratio  160 non-null    float64\n",
            " 21  horsepower         160 non-null    int32  \n",
            " 22  peakrpm            160 non-null    int32  \n",
            " 23  city-mpg           160 non-null    int64  \n",
            " 24  highway-mpg        160 non-null    int64  \n",
            " 25  price              160 non-null    int32  \n",
            "dtypes: float64(7), int32(3), int64(5), object(11)\n",
            "memory usage: 31.9+ KB\n"
          ]
        }
      ],
      "source": [
        "df.info()"
      ]
    },
    {
      "cell_type": "code",
      "execution_count": null,
      "metadata": {
        "id": "YvfIPl8-QzIB",
        "outputId": "d1461db8-80a6-43cb-cc19-c2eeeade3eb6"
      },
      "outputs": [
        {
          "data": {
            "text/html": [
              "<div>\n",
              "<style scoped>\n",
              "    .dataframe tbody tr th:only-of-type {\n",
              "        vertical-align: middle;\n",
              "    }\n",
              "\n",
              "    .dataframe tbody tr th {\n",
              "        vertical-align: top;\n",
              "    }\n",
              "\n",
              "    .dataframe thead th {\n",
              "        text-align: right;\n",
              "    }\n",
              "</style>\n",
              "<table border=\"1\" class=\"dataframe\">\n",
              "  <thead>\n",
              "    <tr style=\"text-align: right;\">\n",
              "      <th></th>\n",
              "      <th>symboling</th>\n",
              "      <th>normalizedlosses</th>\n",
              "      <th>wheel-base</th>\n",
              "      <th>length</th>\n",
              "      <th>width</th>\n",
              "      <th>height</th>\n",
              "      <th>curb-weight</th>\n",
              "      <th>engine-size</th>\n",
              "      <th>stroke</th>\n",
              "      <th>compression-ratio</th>\n",
              "      <th>horsepower</th>\n",
              "      <th>peakrpm</th>\n",
              "      <th>city-mpg</th>\n",
              "      <th>highway-mpg</th>\n",
              "      <th>price</th>\n",
              "    </tr>\n",
              "  </thead>\n",
              "  <tbody>\n",
              "    <tr>\n",
              "      <th>count</th>\n",
              "      <td>160.000000</td>\n",
              "      <td>160.000000</td>\n",
              "      <td>160.000000</td>\n",
              "      <td>160.000000</td>\n",
              "      <td>160.000000</td>\n",
              "      <td>160.000000</td>\n",
              "      <td>160.000000</td>\n",
              "      <td>160.000000</td>\n",
              "      <td>160.000000</td>\n",
              "      <td>160.000000</td>\n",
              "      <td>160.000000</td>\n",
              "      <td>160.000000</td>\n",
              "      <td>160.000000</td>\n",
              "      <td>160.000000</td>\n",
              "      <td>160.000000</td>\n",
              "    </tr>\n",
              "    <tr>\n",
              "      <th>mean</th>\n",
              "      <td>0.737500</td>\n",
              "      <td>121.300000</td>\n",
              "      <td>98.235625</td>\n",
              "      <td>172.319375</td>\n",
              "      <td>65.596250</td>\n",
              "      <td>53.878750</td>\n",
              "      <td>2459.450000</td>\n",
              "      <td>119.093750</td>\n",
              "      <td>3.237312</td>\n",
              "      <td>10.145125</td>\n",
              "      <td>95.875000</td>\n",
              "      <td>5116.250000</td>\n",
              "      <td>26.506250</td>\n",
              "      <td>32.068750</td>\n",
              "      <td>11427.681250</td>\n",
              "    </tr>\n",
              "    <tr>\n",
              "      <th>std</th>\n",
              "      <td>1.189511</td>\n",
              "      <td>35.602417</td>\n",
              "      <td>5.163763</td>\n",
              "      <td>11.548860</td>\n",
              "      <td>1.946999</td>\n",
              "      <td>2.276608</td>\n",
              "      <td>480.897834</td>\n",
              "      <td>30.411186</td>\n",
              "      <td>0.294210</td>\n",
              "      <td>3.882507</td>\n",
              "      <td>30.625708</td>\n",
              "      <td>465.290536</td>\n",
              "      <td>6.081208</td>\n",
              "      <td>6.440948</td>\n",
              "      <td>5863.789011</td>\n",
              "    </tr>\n",
              "    <tr>\n",
              "      <th>min</th>\n",
              "      <td>-2.000000</td>\n",
              "      <td>65.000000</td>\n",
              "      <td>86.600000</td>\n",
              "      <td>141.100000</td>\n",
              "      <td>60.300000</td>\n",
              "      <td>49.400000</td>\n",
              "      <td>1488.000000</td>\n",
              "      <td>61.000000</td>\n",
              "      <td>2.070000</td>\n",
              "      <td>7.000000</td>\n",
              "      <td>48.000000</td>\n",
              "      <td>4150.000000</td>\n",
              "      <td>15.000000</td>\n",
              "      <td>18.000000</td>\n",
              "      <td>5118.000000</td>\n",
              "    </tr>\n",
              "    <tr>\n",
              "      <th>25%</th>\n",
              "      <td>0.000000</td>\n",
              "      <td>94.000000</td>\n",
              "      <td>94.500000</td>\n",
              "      <td>165.525000</td>\n",
              "      <td>64.000000</td>\n",
              "      <td>52.000000</td>\n",
              "      <td>2073.250000</td>\n",
              "      <td>97.000000</td>\n",
              "      <td>3.107500</td>\n",
              "      <td>8.700000</td>\n",
              "      <td>69.000000</td>\n",
              "      <td>4800.000000</td>\n",
              "      <td>23.000000</td>\n",
              "      <td>28.000000</td>\n",
              "      <td>7383.500000</td>\n",
              "    </tr>\n",
              "    <tr>\n",
              "      <th>50%</th>\n",
              "      <td>1.000000</td>\n",
              "      <td>114.000000</td>\n",
              "      <td>96.900000</td>\n",
              "      <td>172.200000</td>\n",
              "      <td>65.400000</td>\n",
              "      <td>54.100000</td>\n",
              "      <td>2338.500000</td>\n",
              "      <td>110.000000</td>\n",
              "      <td>3.270000</td>\n",
              "      <td>9.000000</td>\n",
              "      <td>88.000000</td>\n",
              "      <td>5200.000000</td>\n",
              "      <td>26.000000</td>\n",
              "      <td>32.000000</td>\n",
              "      <td>9164.000000</td>\n",
              "    </tr>\n",
              "    <tr>\n",
              "      <th>75%</th>\n",
              "      <td>2.000000</td>\n",
              "      <td>148.000000</td>\n",
              "      <td>100.600000</td>\n",
              "      <td>177.800000</td>\n",
              "      <td>66.500000</td>\n",
              "      <td>55.500000</td>\n",
              "      <td>2808.750000</td>\n",
              "      <td>134.500000</td>\n",
              "      <td>3.410000</td>\n",
              "      <td>9.400000</td>\n",
              "      <td>114.000000</td>\n",
              "      <td>5500.000000</td>\n",
              "      <td>31.000000</td>\n",
              "      <td>37.000000</td>\n",
              "      <td>14559.250000</td>\n",
              "    </tr>\n",
              "    <tr>\n",
              "      <th>max</th>\n",
              "      <td>3.000000</td>\n",
              "      <td>256.000000</td>\n",
              "      <td>115.600000</td>\n",
              "      <td>202.600000</td>\n",
              "      <td>71.700000</td>\n",
              "      <td>59.800000</td>\n",
              "      <td>4066.000000</td>\n",
              "      <td>258.000000</td>\n",
              "      <td>4.170000</td>\n",
              "      <td>23.000000</td>\n",
              "      <td>200.000000</td>\n",
              "      <td>6600.000000</td>\n",
              "      <td>49.000000</td>\n",
              "      <td>54.000000</td>\n",
              "      <td>35056.000000</td>\n",
              "    </tr>\n",
              "  </tbody>\n",
              "</table>\n",
              "</div>"
            ],
            "text/plain": [
              "        symboling  normalizedlosses  wheel-base      length       width  \\\n",
              "count  160.000000        160.000000  160.000000  160.000000  160.000000   \n",
              "mean     0.737500        121.300000   98.235625  172.319375   65.596250   \n",
              "std      1.189511         35.602417    5.163763   11.548860    1.946999   \n",
              "min     -2.000000         65.000000   86.600000  141.100000   60.300000   \n",
              "25%      0.000000         94.000000   94.500000  165.525000   64.000000   \n",
              "50%      1.000000        114.000000   96.900000  172.200000   65.400000   \n",
              "75%      2.000000        148.000000  100.600000  177.800000   66.500000   \n",
              "max      3.000000        256.000000  115.600000  202.600000   71.700000   \n",
              "\n",
              "           height  curb-weight  engine-size      stroke  compression-ratio  \\\n",
              "count  160.000000   160.000000   160.000000  160.000000         160.000000   \n",
              "mean    53.878750  2459.450000   119.093750    3.237312          10.145125   \n",
              "std      2.276608   480.897834    30.411186    0.294210           3.882507   \n",
              "min     49.400000  1488.000000    61.000000    2.070000           7.000000   \n",
              "25%     52.000000  2073.250000    97.000000    3.107500           8.700000   \n",
              "50%     54.100000  2338.500000   110.000000    3.270000           9.000000   \n",
              "75%     55.500000  2808.750000   134.500000    3.410000           9.400000   \n",
              "max     59.800000  4066.000000   258.000000    4.170000          23.000000   \n",
              "\n",
              "       horsepower      peakrpm    city-mpg  highway-mpg         price  \n",
              "count  160.000000   160.000000  160.000000   160.000000    160.000000  \n",
              "mean    95.875000  5116.250000   26.506250    32.068750  11427.681250  \n",
              "std     30.625708   465.290536    6.081208     6.440948   5863.789011  \n",
              "min     48.000000  4150.000000   15.000000    18.000000   5118.000000  \n",
              "25%     69.000000  4800.000000   23.000000    28.000000   7383.500000  \n",
              "50%     88.000000  5200.000000   26.000000    32.000000   9164.000000  \n",
              "75%    114.000000  5500.000000   31.000000    37.000000  14559.250000  \n",
              "max    200.000000  6600.000000   49.000000    54.000000  35056.000000  "
            ]
          },
          "execution_count": 167,
          "metadata": {},
          "output_type": "execute_result"
        }
      ],
      "source": [
        "df.describe()\n"
      ]
    },
    {
      "cell_type": "code",
      "execution_count": null,
      "metadata": {
        "id": "y7N0iTucQzIC",
        "outputId": "06702212-f532-4f0e-a446-f9a47ccf1b58"
      },
      "outputs": [
        {
          "data": {
            "text/plain": [
              "symboling            0\n",
              "normalizedlosses     0\n",
              "make                 0\n",
              "fuel-type            0\n",
              "aspiration           0\n",
              "num-of-doors         0\n",
              "body-style           0\n",
              "drive-wheels         0\n",
              "engine-location      0\n",
              "wheel-base           0\n",
              "length               0\n",
              "width                0\n",
              "height               0\n",
              "curb-weight          0\n",
              "engine-type          0\n",
              "num-of-cylinders     0\n",
              "engine-size          0\n",
              "fuel-system          0\n",
              "bore                 0\n",
              "stroke               0\n",
              "compression-ratio    0\n",
              "horsepower           0\n",
              "peakrpm              0\n",
              "city-mpg             0\n",
              "highway-mpg          0\n",
              "price                0\n",
              "dtype: int64"
            ]
          },
          "execution_count": 168,
          "metadata": {},
          "output_type": "execute_result"
        }
      ],
      "source": [
        "df.isnull().sum()"
      ]
    },
    {
      "cell_type": "code",
      "execution_count": null,
      "metadata": {
        "id": "pwSJ70znQzID",
        "outputId": "cbfdc4e6-493b-42fd-e99e-0294d843befd"
      },
      "outputs": [
        {
          "name": "stderr",
          "output_type": "stream",
          "text": [
            "E:\\Anaconda\\lib\\site-packages\\seaborn\\_decorators.py:36: FutureWarning: Pass the following variable as a keyword arg: x. From version 0.12, the only valid positional argument will be `data`, and passing other arguments without an explicit keyword will result in an error or misinterpretation.\n",
            "  warnings.warn(\n"
          ]
        },
        {
          "data": {
            "text/plain": [
              "<AxesSubplot:xlabel='price'>"
            ]
          },
          "execution_count": 169,
          "metadata": {},
          "output_type": "execute_result"
        },
        {
          "data": {
            "image/png": "[encoded data removed]",
            "text/plain": [
              "<Figure size 432x288 with 1 Axes>"
            ]
          },
          "metadata": {
            "needs_background": "light"
          },
          "output_type": "display_data"
        }
      ],
      "source": [
        "import seaborn as sns\n",
        "sns.boxplot(df[\"price\"])\n"
      ]
    },
    {
      "cell_type": "code",
      "execution_count": null,
      "metadata": {
        "id": "bDg1uV4IQzID"
      },
      "outputs": [],
      "source": [
        "def outliers_iqr(a):\n",
        "  z=[]\n",
        "  quartile_1,quartile_3=np.percentile(a,[25,75])\n",
        "  iqr=quartile_3-quartile_1\n",
        "  lower_bound=quartile_1-(iqr*1.5)\n",
        "  upper_bound=quartile_3+(iqr*1.5)\n",
        "  x=np.where((a>upper_bound)|(a<lower_bound))\n",
        "  for i in x:\n",
        "     z.append(x)\n",
        "  return(z)"
      ]
    },
    {
      "cell_type": "code",
      "execution_count": null,
      "metadata": {
        "id": "N2emrDZDQzIE",
        "outputId": "3d14af47-9552-4a34-91e2-3981d56872e5"
      },
      "outputs": [
        {
          "data": {
            "text/plain": [
              "[(array([33, 45, 46, 47, 48, 49], dtype=int64),)]"
            ]
          },
          "execution_count": 171,
          "metadata": {},
          "output_type": "execute_result"
        }
      ],
      "source": [
        "outliers_iqr(df[\"price\"])"
      ]
    },
    {
      "cell_type": "code",
      "execution_count": null,
      "metadata": {
        "id": "lt2XWMxlQzIE"
      },
      "outputs": [],
      "source": [
        "df.drop([32, 47],axis=0,inplace=True)"
      ]
    },
    {
      "cell_type": "code",
      "execution_count": null,
      "metadata": {
        "id": "hkYsAeYbQzIF",
        "outputId": "376c9ce1-896d-415e-bb8d-445cd4f8e0e5"
      },
      "outputs": [
        {
          "data": {
            "text/html": [
              "<div>\n",
              "<style scoped>\n",
              "    .dataframe tbody tr th:only-of-type {\n",
              "        vertical-align: middle;\n",
              "    }\n",
              "\n",
              "    .dataframe tbody tr th {\n",
              "        vertical-align: top;\n",
              "    }\n",
              "\n",
              "    .dataframe thead th {\n",
              "        text-align: right;\n",
              "    }\n",
              "</style>\n",
              "<table border=\"1\" class=\"dataframe\">\n",
              "  <thead>\n",
              "    <tr style=\"text-align: right;\">\n",
              "      <th></th>\n",
              "      <th>symboling</th>\n",
              "      <th>normalizedlosses</th>\n",
              "      <th>make</th>\n",
              "      <th>fuel-type</th>\n",
              "      <th>aspiration</th>\n",
              "      <th>num-of-doors</th>\n",
              "      <th>body-style</th>\n",
              "      <th>drive-wheels</th>\n",
              "      <th>engine-location</th>\n",
              "      <th>wheel-base</th>\n",
              "      <th>...</th>\n",
              "      <th>engine-size</th>\n",
              "      <th>fuel-system</th>\n",
              "      <th>bore</th>\n",
              "      <th>stroke</th>\n",
              "      <th>compression-ratio</th>\n",
              "      <th>horsepower</th>\n",
              "      <th>peakrpm</th>\n",
              "      <th>city-mpg</th>\n",
              "      <th>highway-mpg</th>\n",
              "      <th>price</th>\n",
              "    </tr>\n",
              "  </thead>\n",
              "  <tbody>\n",
              "    <tr>\n",
              "      <th>3</th>\n",
              "      <td>2</td>\n",
              "      <td>164.0</td>\n",
              "      <td>audi</td>\n",
              "      <td>gas</td>\n",
              "      <td>std</td>\n",
              "      <td>four</td>\n",
              "      <td>sedan</td>\n",
              "      <td>fwd</td>\n",
              "      <td>front</td>\n",
              "      <td>99.8</td>\n",
              "      <td>...</td>\n",
              "      <td>109</td>\n",
              "      <td>mpfi</td>\n",
              "      <td>3.19</td>\n",
              "      <td>3.4</td>\n",
              "      <td>10.0</td>\n",
              "      <td>102</td>\n",
              "      <td>5500</td>\n",
              "      <td>24</td>\n",
              "      <td>30</td>\n",
              "      <td>13950</td>\n",
              "    </tr>\n",
              "    <tr>\n",
              "      <th>4</th>\n",
              "      <td>2</td>\n",
              "      <td>164.0</td>\n",
              "      <td>audi</td>\n",
              "      <td>gas</td>\n",
              "      <td>std</td>\n",
              "      <td>four</td>\n",
              "      <td>sedan</td>\n",
              "      <td>4wd</td>\n",
              "      <td>front</td>\n",
              "      <td>99.4</td>\n",
              "      <td>...</td>\n",
              "      <td>136</td>\n",
              "      <td>mpfi</td>\n",
              "      <td>3.19</td>\n",
              "      <td>3.4</td>\n",
              "      <td>8.0</td>\n",
              "      <td>115</td>\n",
              "      <td>5500</td>\n",
              "      <td>18</td>\n",
              "      <td>22</td>\n",
              "      <td>17450</td>\n",
              "    </tr>\n",
              "    <tr>\n",
              "      <th>6</th>\n",
              "      <td>1</td>\n",
              "      <td>158.0</td>\n",
              "      <td>audi</td>\n",
              "      <td>gas</td>\n",
              "      <td>std</td>\n",
              "      <td>four</td>\n",
              "      <td>sedan</td>\n",
              "      <td>fwd</td>\n",
              "      <td>front</td>\n",
              "      <td>105.8</td>\n",
              "      <td>...</td>\n",
              "      <td>136</td>\n",
              "      <td>mpfi</td>\n",
              "      <td>3.19</td>\n",
              "      <td>3.4</td>\n",
              "      <td>8.5</td>\n",
              "      <td>110</td>\n",
              "      <td>5500</td>\n",
              "      <td>19</td>\n",
              "      <td>25</td>\n",
              "      <td>17710</td>\n",
              "    </tr>\n",
              "    <tr>\n",
              "      <th>8</th>\n",
              "      <td>1</td>\n",
              "      <td>158.0</td>\n",
              "      <td>audi</td>\n",
              "      <td>gas</td>\n",
              "      <td>turbo</td>\n",
              "      <td>four</td>\n",
              "      <td>sedan</td>\n",
              "      <td>fwd</td>\n",
              "      <td>front</td>\n",
              "      <td>105.8</td>\n",
              "      <td>...</td>\n",
              "      <td>131</td>\n",
              "      <td>mpfi</td>\n",
              "      <td>3.13</td>\n",
              "      <td>3.4</td>\n",
              "      <td>8.3</td>\n",
              "      <td>140</td>\n",
              "      <td>5500</td>\n",
              "      <td>17</td>\n",
              "      <td>20</td>\n",
              "      <td>23875</td>\n",
              "    </tr>\n",
              "    <tr>\n",
              "      <th>10</th>\n",
              "      <td>2</td>\n",
              "      <td>192.0</td>\n",
              "      <td>bmw</td>\n",
              "      <td>gas</td>\n",
              "      <td>std</td>\n",
              "      <td>two</td>\n",
              "      <td>sedan</td>\n",
              "      <td>rwd</td>\n",
              "      <td>front</td>\n",
              "      <td>101.2</td>\n",
              "      <td>...</td>\n",
              "      <td>108</td>\n",
              "      <td>mpfi</td>\n",
              "      <td>3.5</td>\n",
              "      <td>2.8</td>\n",
              "      <td>8.8</td>\n",
              "      <td>101</td>\n",
              "      <td>5800</td>\n",
              "      <td>23</td>\n",
              "      <td>29</td>\n",
              "      <td>16430</td>\n",
              "    </tr>\n",
              "  </tbody>\n",
              "</table>\n",
              "<p>5 rows × 26 columns</p>\n",
              "</div>"
            ],
            "text/plain": [
              "    symboling  normalizedlosses  make fuel-type aspiration num-of-doors  \\\n",
              "3           2             164.0  audi       gas        std         four   \n",
              "4           2             164.0  audi       gas        std         four   \n",
              "6           1             158.0  audi       gas        std         four   \n",
              "8           1             158.0  audi       gas      turbo         four   \n",
              "10          2             192.0   bmw       gas        std          two   \n",
              "\n",
              "   body-style drive-wheels engine-location  wheel-base  ...  engine-size  \\\n",
              "3       sedan          fwd           front        99.8  ...          109   \n",
              "4       sedan          4wd           front        99.4  ...          136   \n",
              "6       sedan          fwd           front       105.8  ...          136   \n",
              "8       sedan          fwd           front       105.8  ...          131   \n",
              "10      sedan          rwd           front       101.2  ...          108   \n",
              "\n",
              "    fuel-system  bore  stroke compression-ratio horsepower  peakrpm city-mpg  \\\n",
              "3          mpfi  3.19     3.4              10.0        102     5500       24   \n",
              "4          mpfi  3.19     3.4               8.0        115     5500       18   \n",
              "6          mpfi  3.19     3.4               8.5        110     5500       19   \n",
              "8          mpfi  3.13     3.4               8.3        140     5500       17   \n",
              "10         mpfi   3.5     2.8               8.8        101     5800       23   \n",
              "\n",
              "   highway-mpg  price  \n",
              "3           30  13950  \n",
              "4           22  17450  \n",
              "6           25  17710  \n",
              "8           20  23875  \n",
              "10          29  16430  \n",
              "\n",
              "[5 rows x 26 columns]"
            ]
          },
          "execution_count": 173,
          "metadata": {},
          "output_type": "execute_result"
        }
      ],
      "source": [
        "df.head()"
      ]
    },
    {
      "cell_type": "code",
      "execution_count": null,
      "metadata": {
        "id": "sZqOkTqmQzIF",
        "outputId": "f6eb0e65-6749-4993-efe8-c31c9610c495"
      },
      "outputs": [
        {
          "data": {
            "text/plain": [
              "symboling              int64\n",
              "normalizedlosses     float64\n",
              "make                  object\n",
              "fuel-type             object\n",
              "aspiration            object\n",
              "num-of-doors          object\n",
              "body-style            object\n",
              "drive-wheels          object\n",
              "engine-location       object\n",
              "wheel-base           float64\n",
              "length               float64\n",
              "width                float64\n",
              "height               float64\n",
              "curb-weight            int64\n",
              "engine-type           object\n",
              "num-of-cylinders      object\n",
              "engine-size            int64\n",
              "fuel-system           object\n",
              "bore                  object\n",
              "stroke               float64\n",
              "compression-ratio    float64\n",
              "horsepower             int32\n",
              "peakrpm                int32\n",
              "city-mpg               int64\n",
              "highway-mpg            int64\n",
              "price                  int32\n",
              "dtype: object"
            ]
          },
          "execution_count": 174,
          "metadata": {},
          "output_type": "execute_result"
        }
      ],
      "source": [
        "df.dtypes\n"
      ]
    },
    {
      "cell_type": "code",
      "execution_count": null,
      "metadata": {
        "id": "7WmgG4oBQzIG",
        "outputId": "453df28b-890e-4b22-961b-dc4c2c68e1cc"
      },
      "outputs": [
        {
          "data": {
            "text/plain": [
              "<AxesSubplot:>"
            ]
          },
          "execution_count": 175,
          "metadata": {},
          "output_type": "execute_result"
        },
        {
          "data": {
            "image/png": "[encoded data removed]",
            "text/plain": [
              "<Figure size 432x288 with 2 Axes>"
            ]
          },
          "metadata": {
            "needs_background": "light"
          },
          "output_type": "display_data"
        }
      ],
      "source": [
        "import seaborn as sns\n",
        "sns.heatmap(df.corr())"
      ]
    },
    {
      "cell_type": "code",
      "execution_count": null,
      "metadata": {
        "id": "G5KHRrz5QzIG",
        "outputId": "e56c70c3-74d6-40b8-8825-e2f3210282f0"
      },
      "outputs": [
        {
          "data": {
            "text/html": [
              "<div>\n",
              "<style scoped>\n",
              "    .dataframe tbody tr th:only-of-type {\n",
              "        vertical-align: middle;\n",
              "    }\n",
              "\n",
              "    .dataframe tbody tr th {\n",
              "        vertical-align: top;\n",
              "    }\n",
              "\n",
              "    .dataframe thead th {\n",
              "        text-align: right;\n",
              "    }\n",
              "</style>\n",
              "<table border=\"1\" class=\"dataframe\">\n",
              "  <thead>\n",
              "    <tr style=\"text-align: right;\">\n",
              "      <th></th>\n",
              "      <th>symboling</th>\n",
              "      <th>normalizedlosses</th>\n",
              "      <th>wheel-base</th>\n",
              "      <th>length</th>\n",
              "      <th>width</th>\n",
              "      <th>height</th>\n",
              "      <th>curb-weight</th>\n",
              "      <th>engine-size</th>\n",
              "      <th>stroke</th>\n",
              "      <th>compression-ratio</th>\n",
              "      <th>horsepower</th>\n",
              "      <th>peakrpm</th>\n",
              "      <th>city-mpg</th>\n",
              "      <th>highway-mpg</th>\n",
              "      <th>price</th>\n",
              "    </tr>\n",
              "  </thead>\n",
              "  <tbody>\n",
              "    <tr>\n",
              "      <th>symboling</th>\n",
              "      <td>1.000000</td>\n",
              "      <td>0.523757</td>\n",
              "      <td>-0.523751</td>\n",
              "      <td>-0.334714</td>\n",
              "      <td>-0.214297</td>\n",
              "      <td>-0.476549</td>\n",
              "      <td>-0.248088</td>\n",
              "      <td>-0.097918</td>\n",
              "      <td>-0.007610</td>\n",
              "      <td>-0.141386</td>\n",
              "      <td>0.008414</td>\n",
              "      <td>0.196657</td>\n",
              "      <td>0.080858</td>\n",
              "      <td>0.142379</td>\n",
              "      <td>-0.155052</td>\n",
              "    </tr>\n",
              "    <tr>\n",
              "      <th>normalizedlosses</th>\n",
              "      <td>0.523757</td>\n",
              "      <td>1.000000</td>\n",
              "      <td>-0.081658</td>\n",
              "      <td>0.012700</td>\n",
              "      <td>0.095007</td>\n",
              "      <td>-0.418840</td>\n",
              "      <td>0.108978</td>\n",
              "      <td>0.194837</td>\n",
              "      <td>0.052165</td>\n",
              "      <td>-0.128228</td>\n",
              "      <td>0.283859</td>\n",
              "      <td>0.248546</td>\n",
              "      <td>-0.227959</td>\n",
              "      <td>-0.179802</td>\n",
              "      <td>0.190182</td>\n",
              "    </tr>\n",
              "    <tr>\n",
              "      <th>wheel-base</th>\n",
              "      <td>-0.523751</td>\n",
              "      <td>-0.081658</td>\n",
              "      <td>1.000000</td>\n",
              "      <td>0.868740</td>\n",
              "      <td>0.809748</td>\n",
              "      <td>0.581891</td>\n",
              "      <td>0.797973</td>\n",
              "      <td>0.623488</td>\n",
              "      <td>0.110389</td>\n",
              "      <td>0.312633</td>\n",
              "      <td>0.487232</td>\n",
              "      <td>-0.283009</td>\n",
              "      <td>-0.560604</td>\n",
              "      <td>-0.592042</td>\n",
              "      <td>0.716217</td>\n",
              "    </tr>\n",
              "    <tr>\n",
              "      <th>length</th>\n",
              "      <td>-0.334714</td>\n",
              "      <td>0.012700</td>\n",
              "      <td>0.868740</td>\n",
              "      <td>1.000000</td>\n",
              "      <td>0.836138</td>\n",
              "      <td>0.521774</td>\n",
              "      <td>0.865367</td>\n",
              "      <td>0.715381</td>\n",
              "      <td>0.066097</td>\n",
              "      <td>0.202867</td>\n",
              "      <td>0.649432</td>\n",
              "      <td>-0.224970</td>\n",
              "      <td>-0.702174</td>\n",
              "      <td>-0.703970</td>\n",
              "      <td>0.749357</td>\n",
              "    </tr>\n",
              "    <tr>\n",
              "      <th>width</th>\n",
              "      <td>-0.214297</td>\n",
              "      <td>0.095007</td>\n",
              "      <td>0.809748</td>\n",
              "      <td>0.836138</td>\n",
              "      <td>1.000000</td>\n",
              "      <td>0.306984</td>\n",
              "      <td>0.869555</td>\n",
              "      <td>0.783252</td>\n",
              "      <td>0.156393</td>\n",
              "      <td>0.272791</td>\n",
              "      <td>0.666407</td>\n",
              "      <td>-0.225902</td>\n",
              "      <td>-0.652681</td>\n",
              "      <td>-0.679534</td>\n",
              "      <td>0.841577</td>\n",
              "    </tr>\n",
              "    <tr>\n",
              "      <th>height</th>\n",
              "      <td>-0.476549</td>\n",
              "      <td>-0.418840</td>\n",
              "      <td>0.581891</td>\n",
              "      <td>0.521774</td>\n",
              "      <td>0.306984</td>\n",
              "      <td>1.000000</td>\n",
              "      <td>0.391652</td>\n",
              "      <td>0.135868</td>\n",
              "      <td>-0.091001</td>\n",
              "      <td>0.236413</td>\n",
              "      <td>0.037015</td>\n",
              "      <td>-0.252132</td>\n",
              "      <td>-0.198367</td>\n",
              "      <td>-0.227341</td>\n",
              "      <td>0.266751</td>\n",
              "    </tr>\n",
              "    <tr>\n",
              "      <th>curb-weight</th>\n",
              "      <td>-0.248088</td>\n",
              "      <td>0.108978</td>\n",
              "      <td>0.797973</td>\n",
              "      <td>0.865367</td>\n",
              "      <td>0.869555</td>\n",
              "      <td>0.391652</td>\n",
              "      <td>1.000000</td>\n",
              "      <td>0.880760</td>\n",
              "      <td>0.108164</td>\n",
              "      <td>0.247980</td>\n",
              "      <td>0.775406</td>\n",
              "      <td>-0.250150</td>\n",
              "      <td>-0.751847</td>\n",
              "      <td>-0.779566</td>\n",
              "      <td>0.884532</td>\n",
              "    </tr>\n",
              "    <tr>\n",
              "      <th>engine-size</th>\n",
              "      <td>-0.097918</td>\n",
              "      <td>0.194837</td>\n",
              "      <td>0.623488</td>\n",
              "      <td>0.715381</td>\n",
              "      <td>0.783252</td>\n",
              "      <td>0.135868</td>\n",
              "      <td>0.880760</td>\n",
              "      <td>1.000000</td>\n",
              "      <td>0.224070</td>\n",
              "      <td>0.171508</td>\n",
              "      <td>0.803818</td>\n",
              "      <td>-0.279569</td>\n",
              "      <td>-0.691629</td>\n",
              "      <td>-0.705980</td>\n",
              "      <td>0.825681</td>\n",
              "    </tr>\n",
              "    <tr>\n",
              "      <th>stroke</th>\n",
              "      <td>-0.007610</td>\n",
              "      <td>0.052165</td>\n",
              "      <td>0.110389</td>\n",
              "      <td>0.066097</td>\n",
              "      <td>0.156393</td>\n",
              "      <td>-0.091001</td>\n",
              "      <td>0.108164</td>\n",
              "      <td>0.224070</td>\n",
              "      <td>1.000000</td>\n",
              "      <td>0.260303</td>\n",
              "      <td>0.098596</td>\n",
              "      <td>0.010461</td>\n",
              "      <td>0.024457</td>\n",
              "      <td>0.033848</td>\n",
              "      <td>0.090966</td>\n",
              "    </tr>\n",
              "    <tr>\n",
              "      <th>compression-ratio</th>\n",
              "      <td>-0.141386</td>\n",
              "      <td>-0.128228</td>\n",
              "      <td>0.312633</td>\n",
              "      <td>0.202867</td>\n",
              "      <td>0.272791</td>\n",
              "      <td>0.236413</td>\n",
              "      <td>0.247980</td>\n",
              "      <td>0.171508</td>\n",
              "      <td>0.260303</td>\n",
              "      <td>1.000000</td>\n",
              "      <td>-0.158575</td>\n",
              "      <td>-0.423378</td>\n",
              "      <td>0.279993</td>\n",
              "      <td>0.220564</td>\n",
              "      <td>0.233164</td>\n",
              "    </tr>\n",
              "    <tr>\n",
              "      <th>horsepower</th>\n",
              "      <td>0.008414</td>\n",
              "      <td>0.283859</td>\n",
              "      <td>0.487232</td>\n",
              "      <td>0.649432</td>\n",
              "      <td>0.666407</td>\n",
              "      <td>0.037015</td>\n",
              "      <td>0.775406</td>\n",
              "      <td>0.803818</td>\n",
              "      <td>0.098596</td>\n",
              "      <td>-0.158575</td>\n",
              "      <td>1.000000</td>\n",
              "      <td>0.096885</td>\n",
              "      <td>-0.832392</td>\n",
              "      <td>-0.821242</td>\n",
              "      <td>0.743867</td>\n",
              "    </tr>\n",
              "    <tr>\n",
              "      <th>peakrpm</th>\n",
              "      <td>0.196657</td>\n",
              "      <td>0.248546</td>\n",
              "      <td>-0.283009</td>\n",
              "      <td>-0.224970</td>\n",
              "      <td>-0.225902</td>\n",
              "      <td>-0.252132</td>\n",
              "      <td>-0.250150</td>\n",
              "      <td>-0.279569</td>\n",
              "      <td>0.010461</td>\n",
              "      <td>-0.423378</td>\n",
              "      <td>0.096885</td>\n",
              "      <td>1.000000</td>\n",
              "      <td>-0.076146</td>\n",
              "      <td>-0.053739</td>\n",
              "      <td>-0.158676</td>\n",
              "    </tr>\n",
              "    <tr>\n",
              "      <th>city-mpg</th>\n",
              "      <td>0.080858</td>\n",
              "      <td>-0.227959</td>\n",
              "      <td>-0.560604</td>\n",
              "      <td>-0.702174</td>\n",
              "      <td>-0.652681</td>\n",
              "      <td>-0.198367</td>\n",
              "      <td>-0.751847</td>\n",
              "      <td>-0.691629</td>\n",
              "      <td>0.024457</td>\n",
              "      <td>0.279993</td>\n",
              "      <td>-0.832392</td>\n",
              "      <td>-0.076146</td>\n",
              "      <td>1.000000</td>\n",
              "      <td>0.971208</td>\n",
              "      <td>-0.680407</td>\n",
              "    </tr>\n",
              "    <tr>\n",
              "      <th>highway-mpg</th>\n",
              "      <td>0.142379</td>\n",
              "      <td>-0.179802</td>\n",
              "      <td>-0.592042</td>\n",
              "      <td>-0.703970</td>\n",
              "      <td>-0.679534</td>\n",
              "      <td>-0.227341</td>\n",
              "      <td>-0.779566</td>\n",
              "      <td>-0.705980</td>\n",
              "      <td>0.033848</td>\n",
              "      <td>0.220564</td>\n",
              "      <td>-0.821242</td>\n",
              "      <td>-0.053739</td>\n",
              "      <td>0.971208</td>\n",
              "      <td>1.000000</td>\n",
              "      <td>-0.708165</td>\n",
              "    </tr>\n",
              "    <tr>\n",
              "      <th>price</th>\n",
              "      <td>-0.155052</td>\n",
              "      <td>0.190182</td>\n",
              "      <td>0.716217</td>\n",
              "      <td>0.749357</td>\n",
              "      <td>0.841577</td>\n",
              "      <td>0.266751</td>\n",
              "      <td>0.884532</td>\n",
              "      <td>0.825681</td>\n",
              "      <td>0.090966</td>\n",
              "      <td>0.233164</td>\n",
              "      <td>0.743867</td>\n",
              "      <td>-0.158676</td>\n",
              "      <td>-0.680407</td>\n",
              "      <td>-0.708165</td>\n",
              "      <td>1.000000</td>\n",
              "    </tr>\n",
              "  </tbody>\n",
              "</table>\n",
              "</div>"
            ],
            "text/plain": [
              "                   symboling  normalizedlosses  wheel-base    length  \\\n",
              "symboling           1.000000          0.523757   -0.523751 -0.334714   \n",
              "normalizedlosses    0.523757          1.000000   -0.081658  0.012700   \n",
              "wheel-base         -0.523751         -0.081658    1.000000  0.868740   \n",
              "length             -0.334714          0.012700    0.868740  1.000000   \n",
              "width              -0.214297          0.095007    0.809748  0.836138   \n",
              "height             -0.476549         -0.418840    0.581891  0.521774   \n",
              "curb-weight        -0.248088          0.108978    0.797973  0.865367   \n",
              "engine-size        -0.097918          0.194837    0.623488  0.715381   \n",
              "stroke             -0.007610          0.052165    0.110389  0.066097   \n",
              "compression-ratio  -0.141386         -0.128228    0.312633  0.202867   \n",
              "horsepower          0.008414          0.283859    0.487232  0.649432   \n",
              "peakrpm             0.196657          0.248546   -0.283009 -0.224970   \n",
              "city-mpg            0.080858         -0.227959   -0.560604 -0.702174   \n",
              "highway-mpg         0.142379         -0.179802   -0.592042 -0.703970   \n",
              "price              -0.155052          0.190182    0.716217  0.749357   \n",
              "\n",
              "                      width    height  curb-weight  engine-size    stroke  \\\n",
              "symboling         -0.214297 -0.476549    -0.248088    -0.097918 -0.007610   \n",
              "normalizedlosses   0.095007 -0.418840     0.108978     0.194837  0.052165   \n",
              "wheel-base         0.809748  0.581891     0.797973     0.623488  0.110389   \n",
              "length             0.836138  0.521774     0.865367     0.715381  0.066097   \n",
              "width              1.000000  0.306984     0.869555     0.783252  0.156393   \n",
              "height             0.306984  1.000000     0.391652     0.135868 -0.091001   \n",
              "curb-weight        0.869555  0.391652     1.000000     0.880760  0.108164   \n",
              "engine-size        0.783252  0.135868     0.880760     1.000000  0.224070   \n",
              "stroke             0.156393 -0.091001     0.108164     0.224070  1.000000   \n",
              "compression-ratio  0.272791  0.236413     0.247980     0.171508  0.260303   \n",
              "horsepower         0.666407  0.037015     0.775406     0.803818  0.098596   \n",
              "peakrpm           -0.225902 -0.252132    -0.250150    -0.279569  0.010461   \n",
              "city-mpg          -0.652681 -0.198367    -0.751847    -0.691629  0.024457   \n",
              "highway-mpg       -0.679534 -0.227341    -0.779566    -0.705980  0.033848   \n",
              "price              0.841577  0.266751     0.884532     0.825681  0.090966   \n",
              "\n",
              "                   compression-ratio  horsepower   peakrpm  city-mpg  \\\n",
              "symboling                  -0.141386    0.008414  0.196657  0.080858   \n",
              "normalizedlosses           -0.128228    0.283859  0.248546 -0.227959   \n",
              "wheel-base                  0.312633    0.487232 -0.283009 -0.560604   \n",
              "length                      0.202867    0.649432 -0.224970 -0.702174   \n",
              "width                       0.272791    0.666407 -0.225902 -0.652681   \n",
              "height                      0.236413    0.037015 -0.252132 -0.198367   \n",
              "curb-weight                 0.247980    0.775406 -0.250150 -0.751847   \n",
              "engine-size                 0.171508    0.803818 -0.279569 -0.691629   \n",
              "stroke                      0.260303    0.098596  0.010461  0.024457   \n",
              "compression-ratio           1.000000   -0.158575 -0.423378  0.279993   \n",
              "horsepower                 -0.158575    1.000000  0.096885 -0.832392   \n",
              "peakrpm                    -0.423378    0.096885  1.000000 -0.076146   \n",
              "city-mpg                    0.279993   -0.832392 -0.076146  1.000000   \n",
              "highway-mpg                 0.220564   -0.821242 -0.053739  0.971208   \n",
              "price                       0.233164    0.743867 -0.158676 -0.680407   \n",
              "\n",
              "                   highway-mpg     price  \n",
              "symboling             0.142379 -0.155052  \n",
              "normalizedlosses     -0.179802  0.190182  \n",
              "wheel-base           -0.592042  0.716217  \n",
              "length               -0.703970  0.749357  \n",
              "width                -0.679534  0.841577  \n",
              "height               -0.227341  0.266751  \n",
              "curb-weight          -0.779566  0.884532  \n",
              "engine-size          -0.705980  0.825681  \n",
              "stroke                0.033848  0.090966  \n",
              "compression-ratio     0.220564  0.233164  \n",
              "horsepower           -0.821242  0.743867  \n",
              "peakrpm              -0.053739 -0.158676  \n",
              "city-mpg              0.971208 -0.680407  \n",
              "highway-mpg           1.000000 -0.708165  \n",
              "price                -0.708165  1.000000  "
            ]
          },
          "execution_count": 176,
          "metadata": {},
          "output_type": "execute_result"
        }
      ],
      "source": [
        "df.corr()"
      ]
    },
    {
      "cell_type": "code",
      "execution_count": null,
      "metadata": {
        "id": "QcqBOF_LQzII",
        "outputId": "b7000edf-f670-4914-f347-04318816a48d"
      },
      "outputs": [
        {
          "data": {
            "text/plain": [
              "(158, 25)"
            ]
          },
          "execution_count": 177,
          "metadata": {},
          "output_type": "execute_result"
        }
      ],
      "source": [
        "df=df.drop([\"wheel-base\"],axis=1)\n",
        "df.head()\n",
        "df.shape"
      ]
    },
    {
      "cell_type": "code",
      "execution_count": null,
      "metadata": {
        "id": "qTJCRXH_QzIK",
        "outputId": "6f1fee67-7d52-48bb-8885-15d6c707efcb"
      },
      "outputs": [
        {
          "data": {
            "text/plain": [
              "(158, 24)"
            ]
          },
          "execution_count": 178,
          "metadata": {},
          "output_type": "execute_result"
        }
      ],
      "source": [
        "df=df.drop([\"make\"],axis=1)\n",
        "df.head()\n",
        "df.shape"
      ]
    },
    {
      "cell_type": "code",
      "execution_count": null,
      "metadata": {
        "id": "2giqftODQzIM",
        "outputId": "5377d3fc-a604-48b0-d558-40c03ea223cf"
      },
      "outputs": [
        {
          "data": {
            "text/plain": [
              "(158, 18)"
            ]
          },
          "execution_count": 179,
          "metadata": {},
          "output_type": "execute_result"
        }
      ],
      "source": [
        "df=df.drop([\"fuel-system\",\"aspiration\",\"num-of-doors\",\"body-style\",\"drive-wheels\",\"engine-location\",\"fuel-system\"],axis=1)\n",
        "df.head()\n",
        "df.shape"
      ]
    },
    {
      "cell_type": "code",
      "execution_count": null,
      "metadata": {
        "id": "LZPtHgq5QzIN",
        "outputId": "dea4a8c3-f446-4a74-bfe3-2cd16017c686"
      },
      "outputs": [
        {
          "data": {
            "text/plain": [
              "(158, 17)"
            ]
          },
          "execution_count": 180,
          "metadata": {},
          "output_type": "execute_result"
        }
      ],
      "source": [
        "df=df.drop([\"fuel-type\"],axis=1)\n",
        "df.head()\n",
        "df.shape"
      ]
    },
    {
      "cell_type": "code",
      "execution_count": null,
      "metadata": {
        "id": "ogdr1ZxEQzIO",
        "outputId": "ee98a6be-a096-4ee0-aea8-d1d39063c8fe"
      },
      "outputs": [
        {
          "data": {
            "text/plain": [
              "(158, 16)"
            ]
          },
          "execution_count": 181,
          "metadata": {},
          "output_type": "execute_result"
        }
      ],
      "source": [
        "df=df.drop([\"engine-type\"],axis=1)\n",
        "df.head()\n",
        "df.shape"
      ]
    },
    {
      "cell_type": "code",
      "execution_count": null,
      "metadata": {
        "id": "vrxmMhFCQzIP",
        "outputId": "28404a46-3fb4-417e-8dd2-1e3644def916"
      },
      "outputs": [
        {
          "data": {
            "text/plain": [
              "(158, 15)"
            ]
          },
          "execution_count": 182,
          "metadata": {},
          "output_type": "execute_result"
        }
      ],
      "source": [
        "df=df.drop([\"num-of-cylinders\"],axis=1)\n",
        "df.head()\n",
        "df.shape"
      ]
    },
    {
      "cell_type": "code",
      "execution_count": null,
      "metadata": {
        "id": "D176o5RZQzIR",
        "outputId": "f6349299-ee0f-4020-bfa6-3210cbe1154a"
      },
      "outputs": [
        {
          "data": {
            "text/html": [
              "<div>\n",
              "<style scoped>\n",
              "    .dataframe tbody tr th:only-of-type {\n",
              "        vertical-align: middle;\n",
              "    }\n",
              "\n",
              "    .dataframe tbody tr th {\n",
              "        vertical-align: top;\n",
              "    }\n",
              "\n",
              "    .dataframe thead th {\n",
              "        text-align: right;\n",
              "    }\n",
              "</style>\n",
              "<table border=\"1\" class=\"dataframe\">\n",
              "  <thead>\n",
              "    <tr style=\"text-align: right;\">\n",
              "      <th></th>\n",
              "      <th>symboling</th>\n",
              "      <th>normalizedlosses</th>\n",
              "      <th>length</th>\n",
              "      <th>width</th>\n",
              "      <th>height</th>\n",
              "      <th>curb-weight</th>\n",
              "      <th>engine-size</th>\n",
              "      <th>bore</th>\n",
              "      <th>stroke</th>\n",
              "      <th>compression-ratio</th>\n",
              "      <th>horsepower</th>\n",
              "      <th>peakrpm</th>\n",
              "      <th>city-mpg</th>\n",
              "      <th>highway-mpg</th>\n",
              "      <th>price</th>\n",
              "    </tr>\n",
              "  </thead>\n",
              "  <tbody>\n",
              "    <tr>\n",
              "      <th>3</th>\n",
              "      <td>2</td>\n",
              "      <td>164.0</td>\n",
              "      <td>176.6</td>\n",
              "      <td>66.2</td>\n",
              "      <td>54.3</td>\n",
              "      <td>2337</td>\n",
              "      <td>109</td>\n",
              "      <td>3.19</td>\n",
              "      <td>3.4</td>\n",
              "      <td>10.0</td>\n",
              "      <td>102</td>\n",
              "      <td>5500</td>\n",
              "      <td>24</td>\n",
              "      <td>30</td>\n",
              "      <td>13950</td>\n",
              "    </tr>\n",
              "    <tr>\n",
              "      <th>4</th>\n",
              "      <td>2</td>\n",
              "      <td>164.0</td>\n",
              "      <td>176.6</td>\n",
              "      <td>66.4</td>\n",
              "      <td>54.3</td>\n",
              "      <td>2824</td>\n",
              "      <td>136</td>\n",
              "      <td>3.19</td>\n",
              "      <td>3.4</td>\n",
              "      <td>8.0</td>\n",
              "      <td>115</td>\n",
              "      <td>5500</td>\n",
              "      <td>18</td>\n",
              "      <td>22</td>\n",
              "      <td>17450</td>\n",
              "    </tr>\n",
              "    <tr>\n",
              "      <th>6</th>\n",
              "      <td>1</td>\n",
              "      <td>158.0</td>\n",
              "      <td>192.7</td>\n",
              "      <td>71.4</td>\n",
              "      <td>55.7</td>\n",
              "      <td>2844</td>\n",
              "      <td>136</td>\n",
              "      <td>3.19</td>\n",
              "      <td>3.4</td>\n",
              "      <td>8.5</td>\n",
              "      <td>110</td>\n",
              "      <td>5500</td>\n",
              "      <td>19</td>\n",
              "      <td>25</td>\n",
              "      <td>17710</td>\n",
              "    </tr>\n",
              "    <tr>\n",
              "      <th>8</th>\n",
              "      <td>1</td>\n",
              "      <td>158.0</td>\n",
              "      <td>192.7</td>\n",
              "      <td>71.4</td>\n",
              "      <td>55.9</td>\n",
              "      <td>3086</td>\n",
              "      <td>131</td>\n",
              "      <td>3.13</td>\n",
              "      <td>3.4</td>\n",
              "      <td>8.3</td>\n",
              "      <td>140</td>\n",
              "      <td>5500</td>\n",
              "      <td>17</td>\n",
              "      <td>20</td>\n",
              "      <td>23875</td>\n",
              "    </tr>\n",
              "    <tr>\n",
              "      <th>10</th>\n",
              "      <td>2</td>\n",
              "      <td>192.0</td>\n",
              "      <td>176.8</td>\n",
              "      <td>64.8</td>\n",
              "      <td>54.3</td>\n",
              "      <td>2395</td>\n",
              "      <td>108</td>\n",
              "      <td>3.5</td>\n",
              "      <td>2.8</td>\n",
              "      <td>8.8</td>\n",
              "      <td>101</td>\n",
              "      <td>5800</td>\n",
              "      <td>23</td>\n",
              "      <td>29</td>\n",
              "      <td>16430</td>\n",
              "    </tr>\n",
              "  </tbody>\n",
              "</table>\n",
              "</div>"
            ],
            "text/plain": [
              "    symboling  normalizedlosses  length  width  height  curb-weight  \\\n",
              "3           2             164.0   176.6   66.2    54.3         2337   \n",
              "4           2             164.0   176.6   66.4    54.3         2824   \n",
              "6           1             158.0   192.7   71.4    55.7         2844   \n",
              "8           1             158.0   192.7   71.4    55.9         3086   \n",
              "10          2             192.0   176.8   64.8    54.3         2395   \n",
              "\n",
              "    engine-size  bore  stroke  compression-ratio  horsepower  peakrpm  \\\n",
              "3           109  3.19     3.4               10.0         102     5500   \n",
              "4           136  3.19     3.4                8.0         115     5500   \n",
              "6           136  3.19     3.4                8.5         110     5500   \n",
              "8           131  3.13     3.4                8.3         140     5500   \n",
              "10          108   3.5     2.8                8.8         101     5800   \n",
              "\n",
              "    city-mpg  highway-mpg  price  \n",
              "3         24           30  13950  \n",
              "4         18           22  17450  \n",
              "6         19           25  17710  \n",
              "8         17           20  23875  \n",
              "10        23           29  16430  "
            ]
          },
          "execution_count": 183,
          "metadata": {},
          "output_type": "execute_result"
        }
      ],
      "source": [
        "df.head()"
      ]
    },
    {
      "cell_type": "code",
      "execution_count": null,
      "metadata": {
        "id": "qeU0ANfRQzIV",
        "outputId": "6475f671-697b-4d1b-c17b-9dfef07254fe"
      },
      "outputs": [
        {
          "data": {
            "text/plain": [
              "PCA(n_components=1)"
            ]
          },
          "execution_count": 184,
          "metadata": {},
          "output_type": "execute_result"
        }
      ],
      "source": [
        "from sklearn.decomposition import PCA\n",
        "pca = PCA(n_components=1)\n",
        "pca"
      ]
    },
    {
      "cell_type": "code",
      "execution_count": null,
      "metadata": {
        "id": "rxS0EJ2jQzIk"
      },
      "outputs": [],
      "source": [
        "principalComponents = pca.fit_transform(df)\n"
      ]
    },
    {
      "cell_type": "code",
      "execution_count": null,
      "metadata": {
        "id": "VsZ5PZI0QzIl",
        "outputId": "ae08d366-4abf-4cec-ba51-c471ba8eeb1f"
      },
      "outputs": [
        {
          "data": {
            "text/plain": [
              "(158, 1)"
            ]
          },
          "execution_count": 186,
          "metadata": {},
          "output_type": "execute_result"
        }
      ],
      "source": [
        "principalComponents.shape"
      ]
    },
    {
      "cell_type": "code",
      "execution_count": null,
      "metadata": {
        "id": "xzZm-ts5QzIn",
        "outputId": "3f19749e-018b-4772-89b4-9ab65f8a03d6"
      },
      "outputs": [
        {
          "name": "stdout",
          "output_type": "stream",
          "text": [
            "[[ 2595.28031554]\n",
            " [ 6121.21712957]\n",
            " [ 6381.95115049]\n",
            " [12547.68375819]\n",
            " [ 5068.73388433]\n",
            " [ 5562.37248451]\n",
            " [ 9639.9412759 ]\n",
            " [ 9778.56675541]\n",
            " [-6236.47886471]\n",
            " [-5071.32507407]\n",
            " [-4789.56777207]\n",
            " [-5793.49308563]\n",
            " [-4990.70048048]\n",
            " [-3396.55508139]\n",
            " [-5131.64464088]\n",
            " [-4668.31937731]\n",
            " [-3753.84152692]\n",
            " [-2792.5940468 ]\n",
            " [-2398.95706433]\n",
            " [ 1653.39275246]\n",
            " [-4891.62328263]\n",
            " [-4524.72507763]\n",
            " [-4841.06637537]\n",
            " [-4241.55393477]\n",
            " [-4072.05531666]\n",
            " [-4071.08532144]\n",
            " [-3454.51933067]\n",
            " [-2253.96840302]\n",
            " [-2502.20400175]\n",
            " [-1051.25142549]\n",
            " [ 1598.28427912]\n",
            " [-1003.08708259]\n",
            " [-6161.82398094]\n",
            " [-5263.57897355]\n",
            " [-4565.1409342 ]\n",
            " [-4661.9368335 ]\n",
            " [-3963.49879291]\n",
            " [-2482.99527051]\n",
            " [-2830.23243486]\n",
            " [ -737.80853313]\n",
            " [-1085.04569748]\n",
            " [  -86.70610008]\n",
            " [ 6944.3287484 ]\n",
            " [14266.51442304]\n",
            " [16972.17667301]\n",
            " [16881.83860748]\n",
            " [20316.42824154]\n",
            " [23751.82641139]\n",
            " [-5972.87774324]\n",
            " [-5173.18199344]\n",
            " [-4690.14206989]\n",
            " [-3662.53109573]\n",
            " [-1382.30422828]\n",
            " [-2834.79307445]\n",
            " [-4337.98529516]\n",
            " [-3138.37906294]\n",
            " [-2058.0699862 ]\n",
            " [-2058.05554879]\n",
            " [-5861.31599765]\n",
            " [-4251.17484494]\n",
            " [-4712.37160132]\n",
            " [-4511.47549665]\n",
            " [-4006.61672115]\n",
            " [-4061.76131157]\n",
            " [-3557.54070681]\n",
            " [-3860.86520691]\n",
            " [-3357.45980898]\n",
            " [-3110.1886973 ]\n",
            " [-2388.99683363]\n",
            " [-1792.24581044]\n",
            " [ 2205.04227992]\n",
            " [ 3117.15382812]\n",
            " [ 2202.47542957]\n",
            " [ 5893.2116818 ]\n",
            " [ 8391.4378866 ]\n",
            " [ 7094.90869368]\n",
            " [  607.20932328]\n",
            " [ 1927.84849304]\n",
            " [ 4281.0766047 ]\n",
            " [ 5621.66866898]\n",
            " [ 5328.19655037]\n",
            " [ 6668.78071141]\n",
            " [ 6840.31515345]\n",
            " [-5790.4397967 ]\n",
            " [-3396.55388377]\n",
            " [-5131.63745512]\n",
            " [-4668.29720452]\n",
            " [-3739.10710461]\n",
            " [-2399.00017864]\n",
            " [10673.49353585]\n",
            " [  527.77201003]\n",
            " [  849.52555962]\n",
            " [ 3712.5588639 ]\n",
            " [ 4184.91724348]\n",
            " [ 6818.23936722]\n",
            " [ 7289.72569081]\n",
            " [-6225.66754051]\n",
            " [-4284.2210145 ]\n",
            " [-3727.01411254]\n",
            " [-4214.82326904]\n",
            " [-3559.04305704]\n",
            " [-1379.68104523]\n",
            " [-2096.16248395]\n",
            " [  -66.54011887]\n",
            " [-3868.21967088]\n",
            " [-1133.99048233]\n",
            " [-3310.28390391]\n",
            " [  377.42467802]\n",
            " [-5999.7473195 ]\n",
            " [-5008.46978645]\n",
            " [-4860.71464294]\n",
            " [-4412.61869583]\n",
            " [-3434.57578515]\n",
            " [-2497.39571169]\n",
            " [-4407.0663937 ]\n",
            " [-4145.74680006]\n",
            " [-3431.64772723]\n",
            " [-3541.35683288]\n",
            " [-3608.3357638 ]\n",
            " [-2987.98878313]\n",
            " [-2089.15613551]\n",
            " [-3283.65329582]\n",
            " [-3101.6049635 ]\n",
            " [-2063.716419  ]\n",
            " [-1821.83311282]\n",
            " [-2866.41036695]\n",
            " [-1679.97406105]\n",
            " [-1329.84668039]\n",
            " [ -113.87309119]\n",
            " [  237.70766705]\n",
            " [ 6359.84168578]\n",
            " [-2376.68429242]\n",
            " [ -624.39580003]\n",
            " [-1333.14696118]\n",
            " [ -425.64974942]\n",
            " [  -73.41507959]\n",
            " [ 5247.05675746]\n",
            " [ 4691.50447679]\n",
            " [ 4392.56635284]\n",
            " [-3559.32753444]\n",
            " [-3369.41209594]\n",
            " [-3339.74815722]\n",
            " [-3149.83271871]\n",
            " [-2846.07971008]\n",
            " [-1835.84383934]\n",
            " [-1351.63260585]\n",
            " [-1372.18399233]\n",
            " [ 1631.29313889]\n",
            " [ 2113.81766183]\n",
            " [ 4669.58872602]\n",
            " [ 5205.8719418 ]\n",
            " [ 7110.00529637]\n",
            " [ 7646.65185655]\n",
            " [ 5528.4502409 ]\n",
            " [ 7730.95721211]\n",
            " [10158.94507065]\n",
            " [11165.15568529]\n",
            " [11300.55156605]]\n"
          ]
        }
      ],
      "source": [
        "print(principalComponents[:])\n"
      ]
    },
    {
      "cell_type": "code",
      "execution_count": null,
      "metadata": {
        "id": "fafZ92AQQzIp",
        "outputId": "48a5b567-f435-404b-dfc0-fbb693d851f1"
      },
      "outputs": [
        {
          "data": {
            "text/plain": [
              "array([0.99192393])"
            ]
          },
          "execution_count": 188,
          "metadata": {},
          "output_type": "execute_result"
        }
      ],
      "source": [
        "pca.explained_variance_ratio_"
      ]
    },
    {
      "cell_type": "code",
      "execution_count": null,
      "metadata": {
        "id": "GMA36gwEQzIp",
        "outputId": "2df148c4-da9f-4717-aabe-cfe47c8adcf8"
      },
      "outputs": [
        {
          "ename": "ValueError",
          "evalue": "x and y must have same first dimension, but have shapes (2,) and (1,)",
          "output_type": "error",
          "traceback": [
            "\u001b[1;31m---------------------------------------------------------------------------\u001b[0m",
            "\u001b[1;31mValueError\u001b[0m                                Traceback (most recent call last)",
            "Input \u001b[1;32mIn [189]\u001b[0m, in \u001b[0;36m<cell line: 1>\u001b[1;34m()\u001b[0m\n\u001b[1;32m----> 1\u001b[0m \u001b[43mplt\u001b[49m\u001b[38;5;241;43m.\u001b[39;49m\u001b[43mplot\u001b[49m\u001b[43m(\u001b[49m\u001b[38;5;28;43mrange\u001b[39;49m\u001b[43m(\u001b[49m\u001b[38;5;241;43m2\u001b[39;49m\u001b[43m)\u001b[49m\u001b[43m,\u001b[49m\u001b[43m \u001b[49m\u001b[43mpca\u001b[49m\u001b[38;5;241;43m.\u001b[39;49m\u001b[43mexplained_variance_ratio_\u001b[49m\u001b[43m,\u001b[49m\u001b[43mlabel\u001b[49m\u001b[38;5;241;43m=\u001b[39;49m\u001b[38;5;124;43m\"\u001b[39;49m\u001b[38;5;124;43mVariance-ratio\u001b[39;49m\u001b[38;5;124;43m\"\u001b[39;49m\u001b[43m)\u001b[49m\n\u001b[0;32m      2\u001b[0m plt\u001b[38;5;241m.\u001b[39mplot(\u001b[38;5;28mrange\u001b[39m(\u001b[38;5;241m2\u001b[39m), np\u001b[38;5;241m.\u001b[39mcumsum(pca\u001b[38;5;241m.\u001b[39mexplained_variance_ratio_),label\u001b[38;5;241m=\u001b[39m\u001b[38;5;124m\"\u001b[39m\u001b[38;5;124mcumulative variance-ratio\u001b[39m\u001b[38;5;124m\"\u001b[39m)\n\u001b[0;32m      3\u001b[0m plt\u001b[38;5;241m.\u001b[39mtitle(\u001b[38;5;124m\"\u001b[39m\u001b[38;5;124mComponent-wise and Cumulative Explained Variance\u001b[39m\u001b[38;5;124m\"\u001b[39m)\n",
            "File \u001b[1;32mE:\\Anaconda\\lib\\site-packages\\matplotlib\\pyplot.py:2757\u001b[0m, in \u001b[0;36mplot\u001b[1;34m(scalex, scaley, data, *args, **kwargs)\u001b[0m\n\u001b[0;32m   2755\u001b[0m \u001b[38;5;129m@_copy_docstring_and_deprecators\u001b[39m(Axes\u001b[38;5;241m.\u001b[39mplot)\n\u001b[0;32m   2756\u001b[0m \u001b[38;5;28;01mdef\u001b[39;00m \u001b[38;5;21mplot\u001b[39m(\u001b[38;5;241m*\u001b[39margs, scalex\u001b[38;5;241m=\u001b[39m\u001b[38;5;28;01mTrue\u001b[39;00m, scaley\u001b[38;5;241m=\u001b[39m\u001b[38;5;28;01mTrue\u001b[39;00m, data\u001b[38;5;241m=\u001b[39m\u001b[38;5;28;01mNone\u001b[39;00m, \u001b[38;5;241m*\u001b[39m\u001b[38;5;241m*\u001b[39mkwargs):\n\u001b[1;32m-> 2757\u001b[0m     \u001b[38;5;28;01mreturn\u001b[39;00m gca()\u001b[38;5;241m.\u001b[39mplot(\n\u001b[0;32m   2758\u001b[0m         \u001b[38;5;241m*\u001b[39margs, scalex\u001b[38;5;241m=\u001b[39mscalex, scaley\u001b[38;5;241m=\u001b[39mscaley,\n\u001b[0;32m   2759\u001b[0m         \u001b[38;5;241m*\u001b[39m\u001b[38;5;241m*\u001b[39m({\u001b[38;5;124m\"\u001b[39m\u001b[38;5;124mdata\u001b[39m\u001b[38;5;124m\"\u001b[39m: data} \u001b[38;5;28;01mif\u001b[39;00m data \u001b[38;5;129;01mis\u001b[39;00m \u001b[38;5;129;01mnot\u001b[39;00m \u001b[38;5;28;01mNone\u001b[39;00m \u001b[38;5;28;01melse\u001b[39;00m {}), \u001b[38;5;241m*\u001b[39m\u001b[38;5;241m*\u001b[39mkwargs)\n",
            "File \u001b[1;32mE:\\Anaconda\\lib\\site-packages\\matplotlib\\axes\\_axes.py:1632\u001b[0m, in \u001b[0;36mAxes.plot\u001b[1;34m(self, scalex, scaley, data, *args, **kwargs)\u001b[0m\n\u001b[0;32m   1390\u001b[0m \u001b[38;5;124;03m\"\"\"\u001b[39;00m\n\u001b[0;32m   1391\u001b[0m \u001b[38;5;124;03mPlot y versus x as lines and/or markers.\u001b[39;00m\n\u001b[0;32m   1392\u001b[0m \n\u001b[1;32m   (...)\u001b[0m\n\u001b[0;32m   1629\u001b[0m \u001b[38;5;124;03m(``'green'``) or hex strings (``'#008000'``).\u001b[39;00m\n\u001b[0;32m   1630\u001b[0m \u001b[38;5;124;03m\"\"\"\u001b[39;00m\n\u001b[0;32m   1631\u001b[0m kwargs \u001b[38;5;241m=\u001b[39m cbook\u001b[38;5;241m.\u001b[39mnormalize_kwargs(kwargs, mlines\u001b[38;5;241m.\u001b[39mLine2D)\n\u001b[1;32m-> 1632\u001b[0m lines \u001b[38;5;241m=\u001b[39m [\u001b[38;5;241m*\u001b[39m\u001b[38;5;28mself\u001b[39m\u001b[38;5;241m.\u001b[39m_get_lines(\u001b[38;5;241m*\u001b[39margs, data\u001b[38;5;241m=\u001b[39mdata, \u001b[38;5;241m*\u001b[39m\u001b[38;5;241m*\u001b[39mkwargs)]\n\u001b[0;32m   1633\u001b[0m \u001b[38;5;28;01mfor\u001b[39;00m line \u001b[38;5;129;01min\u001b[39;00m lines:\n\u001b[0;32m   1634\u001b[0m     \u001b[38;5;28mself\u001b[39m\u001b[38;5;241m.\u001b[39madd_line(line)\n",
            "File \u001b[1;32mE:\\Anaconda\\lib\\site-packages\\matplotlib\\axes\\_base.py:312\u001b[0m, in \u001b[0;36m_process_plot_var_args.__call__\u001b[1;34m(self, data, *args, **kwargs)\u001b[0m\n\u001b[0;32m    310\u001b[0m     this \u001b[38;5;241m+\u001b[39m\u001b[38;5;241m=\u001b[39m args[\u001b[38;5;241m0\u001b[39m],\n\u001b[0;32m    311\u001b[0m     args \u001b[38;5;241m=\u001b[39m args[\u001b[38;5;241m1\u001b[39m:]\n\u001b[1;32m--> 312\u001b[0m \u001b[38;5;28;01myield from\u001b[39;00m \u001b[38;5;28;43mself\u001b[39;49m\u001b[38;5;241;43m.\u001b[39;49m\u001b[43m_plot_args\u001b[49m\u001b[43m(\u001b[49m\u001b[43mthis\u001b[49m\u001b[43m,\u001b[49m\u001b[43m \u001b[49m\u001b[43mkwargs\u001b[49m\u001b[43m)\u001b[49m\n",
            "File \u001b[1;32mE:\\Anaconda\\lib\\site-packages\\matplotlib\\axes\\_base.py:498\u001b[0m, in \u001b[0;36m_process_plot_var_args._plot_args\u001b[1;34m(self, tup, kwargs, return_kwargs)\u001b[0m\n\u001b[0;32m    495\u001b[0m     \u001b[38;5;28mself\u001b[39m\u001b[38;5;241m.\u001b[39maxes\u001b[38;5;241m.\u001b[39myaxis\u001b[38;5;241m.\u001b[39mupdate_units(y)\n\u001b[0;32m    497\u001b[0m \u001b[38;5;28;01mif\u001b[39;00m x\u001b[38;5;241m.\u001b[39mshape[\u001b[38;5;241m0\u001b[39m] \u001b[38;5;241m!=\u001b[39m y\u001b[38;5;241m.\u001b[39mshape[\u001b[38;5;241m0\u001b[39m]:\n\u001b[1;32m--> 498\u001b[0m     \u001b[38;5;28;01mraise\u001b[39;00m \u001b[38;5;167;01mValueError\u001b[39;00m(\u001b[38;5;124mf\u001b[39m\u001b[38;5;124m\"\u001b[39m\u001b[38;5;124mx and y must have same first dimension, but \u001b[39m\u001b[38;5;124m\"\u001b[39m\n\u001b[0;32m    499\u001b[0m                      \u001b[38;5;124mf\u001b[39m\u001b[38;5;124m\"\u001b[39m\u001b[38;5;124mhave shapes \u001b[39m\u001b[38;5;132;01m{\u001b[39;00mx\u001b[38;5;241m.\u001b[39mshape\u001b[38;5;132;01m}\u001b[39;00m\u001b[38;5;124m and \u001b[39m\u001b[38;5;132;01m{\u001b[39;00my\u001b[38;5;241m.\u001b[39mshape\u001b[38;5;132;01m}\u001b[39;00m\u001b[38;5;124m\"\u001b[39m)\n\u001b[0;32m    500\u001b[0m \u001b[38;5;28;01mif\u001b[39;00m x\u001b[38;5;241m.\u001b[39mndim \u001b[38;5;241m>\u001b[39m \u001b[38;5;241m2\u001b[39m \u001b[38;5;129;01mor\u001b[39;00m y\u001b[38;5;241m.\u001b[39mndim \u001b[38;5;241m>\u001b[39m \u001b[38;5;241m2\u001b[39m:\n\u001b[0;32m    501\u001b[0m     \u001b[38;5;28;01mraise\u001b[39;00m \u001b[38;5;167;01mValueError\u001b[39;00m(\u001b[38;5;124mf\u001b[39m\u001b[38;5;124m\"\u001b[39m\u001b[38;5;124mx and y can be no greater than 2D, but have \u001b[39m\u001b[38;5;124m\"\u001b[39m\n\u001b[0;32m    502\u001b[0m                      \u001b[38;5;124mf\u001b[39m\u001b[38;5;124m\"\u001b[39m\u001b[38;5;124mshapes \u001b[39m\u001b[38;5;132;01m{\u001b[39;00mx\u001b[38;5;241m.\u001b[39mshape\u001b[38;5;132;01m}\u001b[39;00m\u001b[38;5;124m and \u001b[39m\u001b[38;5;132;01m{\u001b[39;00my\u001b[38;5;241m.\u001b[39mshape\u001b[38;5;132;01m}\u001b[39;00m\u001b[38;5;124m\"\u001b[39m)\n",
            "\u001b[1;31mValueError\u001b[0m: x and y must have same first dimension, but have shapes (2,) and (1,)"
          ]
        },
        {
          "data": {
            "image/png": "[encoded data removed]",
            "text/plain": [
              "<Figure size 432x288 with 1 Axes>"
            ]
          },
          "metadata": {
            "needs_background": "light"
          },
          "output_type": "display_data"
        }
      ],
      "source": [
        "plt.plot(range(2), pca.explained_variance_ratio_,label=\"Variance-ratio\")\n",
        "plt.plot(range(2), np.cumsum(pca.explained_variance_ratio_),label=\"cumulative variance-ratio\")\n",
        "plt.title(\"Component-wise and Cumulative Explained Variance\")\n",
        "plt.xlabel(\"No.of components\")\n",
        "plt.ylabel(\"Data_explained\")"
      ]
    },
    {
      "cell_type": "code",
      "execution_count": null,
      "metadata": {
        "id": "u9cJs8oGQzIq"
      },
      "outputs": [],
      "source": [
        "#Linear Regression\n",
        "import numpy as np\n",
        "import pandas as pd\n",
        "import matplotlib.pyplot as plt\n",
        "from sklearn.model_selection import train_test_split\n"
      ]
    },
    {
      "cell_type": "code",
      "execution_count": null,
      "metadata": {
        "id": "Xe0X0dblQzIr"
      },
      "outputs": [],
      "source": [
        "from sklearn.metrics import mean_squared_error, r2_score"
      ]
    },
    {
      "cell_type": "code",
      "execution_count": null,
      "metadata": {
        "id": "JKRN3tKWQzIr"
      },
      "outputs": [],
      "source": [
        "training_features = [ 'length','width','curb-weight','horsepower']\n",
        "target = 'price'"
      ]
    },
    {
      "cell_type": "code",
      "execution_count": null,
      "metadata": {
        "id": "u_z72mLFQzIs"
      },
      "outputs": [],
      "source": [
        "X_train, X_test, Y_train, Y_test = train_test_split(df[training_features],\n",
        "                                                    df[target],\n",
        "                                                     test_size=0.1,random_state=222)"
      ]
    },
    {
      "cell_type": "code",
      "execution_count": null,
      "metadata": {
        "id": "wYFfgRfwQzIt"
      },
      "outputs": [],
      "source": [
        "from sklearn import linear_model\n",
        "model = linear_model.LinearRegression()\n",
        "model.fit(X_train,Y_train)"
      ]
    },
    {
      "cell_type": "code",
      "execution_count": null,
      "metadata": {
        "id": "1LS7g6kxQzIt"
      },
      "outputs": [],
      "source": [
        "model.coef_\n"
      ]
    },
    {
      "cell_type": "code",
      "execution_count": null,
      "metadata": {
        "id": "Coc4fyIaQzIu"
      },
      "outputs": [],
      "source": [
        "model.intercept_"
      ]
    },
    {
      "cell_type": "code",
      "execution_count": null,
      "metadata": {
        "id": "OCpY3Ha5QzIv"
      },
      "outputs": [],
      "source": [
        "predicted=model.predict(X_test)\n",
        "print(\"Mean squared error: %.2f\"\n",
        "              % mean_squared_error(Y_test, predicted))"
      ]
    },
    {
      "cell_type": "code",
      "execution_count": null,
      "metadata": {
        "scrolled": false,
        "id": "OtXJG5rTQzIv"
      },
      "outputs": [],
      "source": [
        "print('R Square score: %.2f' % r2_score(Y_test, predicted))"
      ]
    },
    {
      "cell_type": "code",
      "execution_count": null,
      "metadata": {
        "id": "4RMNQtDVQzIw"
      },
      "outputs": [],
      "source": [
        "from sklearn.model_selection import cross_val_score"
      ]
    },
    {
      "cell_type": "code",
      "execution_count": null,
      "metadata": {
        "id": "TAZDKd-vQzIy"
      },
      "outputs": [],
      "source": [
        "scores = cross_val_score(model, X_train, Y_train,cv=10)\n"
      ]
    },
    {
      "cell_type": "code",
      "execution_count": null,
      "metadata": {
        "id": "5blyGwIBQzI0"
      },
      "outputs": [],
      "source": [
        "scores"
      ]
    },
    {
      "cell_type": "code",
      "execution_count": null,
      "metadata": {
        "id": "HNkzAGqgQzI1",
        "outputId": "3befbf0c-bcc7-4eeb-dc9f-c654f8c6f74b"
      },
      "outputs": [
        {
          "name": "stdout",
          "output_type": "stream",
          "text": [
            "Accuracy: 0.73 (+/- 0.30)\n"
          ]
        }
      ],
      "source": [
        "print(\"Accuracy: %0.2f (+/- %0.2f)\" % (scores.mean(), 3* scores.std() ))"
      ]
    },
    {
      "cell_type": "code",
      "execution_count": null,
      "metadata": {
        "id": "Rl0dXq4FQzI3"
      },
      "outputs": [],
      "source": [
        "#Lasso Regression\n",
        "\n",
        "\n",
        "model =linear_model.Lasso(alpha=5)\n",
        "model.fit(X_train,Y_train)\n",
        "\n",
        "from sklearn.metrics import mean_squared_error, r2_score\n",
        "training_features = [ 'length','width','curb-weight','horsepower']\n",
        "target = 'price'\n",
        "X_train, X_test, Y_train, Y_test = train_test_split(df[training_features],\n",
        "                                                    df[target],\n",
        "                                                     test_size=0.1,random_state=222)\n",
        "\n"
      ]
    },
    {
      "cell_type": "code",
      "execution_count": null,
      "metadata": {
        "id": "yaCmr7eTQzI5",
        "outputId": "387712f6-3496-4f3c-b446-34d2d5456fcc"
      },
      "outputs": [
        {
          "name": "stdout",
          "output_type": "stream",
          "text": [
            "Mean squared error: 5874511.49\n",
            "R Square score: 0.80\n"
          ]
        }
      ],
      "source": [
        "predicted=model.predict(X_test)\n",
        "print(\"Mean squared error: %.2f\"\n",
        "              % mean_squared_error(Y_test, predicted))\n",
        "print('R Square score: %.2f' % r2_score(Y_test, predicted))"
      ]
    },
    {
      "cell_type": "code",
      "execution_count": null,
      "metadata": {
        "id": "8IPJ65RxQzI6",
        "outputId": "cd8e5f3d-3818-496e-b8c8-936ac3591051"
      },
      "outputs": [
        {
          "data": {
            "text/plain": [
              "array([0.85283967, 0.5496465 , 0.09993309, 0.82811057, 0.78175393,\n",
              "       0.83087709, 0.75097281, 0.68421817, 0.71114213, 0.81003868])"
            ]
          },
          "execution_count": 193,
          "metadata": {},
          "output_type": "execute_result"
        }
      ],
      "source": [
        "from sklearn.model_selection import cross_val_score\n",
        "\n",
        "scores = cross_val_score(model, X_train, Y_train,cv=10)\n",
        "\n",
        "scores\n"
      ]
    },
    {
      "cell_type": "code",
      "execution_count": null,
      "metadata": {
        "id": "q3VOHT24QzI7",
        "outputId": "4eb8eb63-f529-4236-af08-5446941f0b42"
      },
      "outputs": [
        {
          "name": "stdout",
          "output_type": "stream",
          "text": [
            "Accuracy: 0.69 (+/- 0.64)\n"
          ]
        }
      ],
      "source": [
        "print(\"Accuracy: %0.2f (+/- %0.2f)\" % (scores.mean(), 3* scores.std() ))"
      ]
    },
    {
      "cell_type": "code",
      "execution_count": null,
      "metadata": {
        "id": "DyORTOmYQzI8"
      },
      "outputs": [],
      "source": [
        "#RidgeRegression\n",
        "\n",
        "\n",
        "import numpy as np\n",
        "import pandas as pd\n",
        "import matplotlib.pyplot as plt\n",
        "from sklearn.model_selection import train_test_split\n",
        "\n",
        "from sklearn.metrics import mean_squared_error, r2_score\n",
        "training_features = [ 'length','width','curb-weight','horsepower']\n",
        "target = 'price'\n",
        "X_train, X_test, Y_train, Y_test = train_test_split(df[training_features],\n",
        "                                                    df[target],\n",
        "                                                     test_size=0.1,random_state=222)\n",
        "\n"
      ]
    },
    {
      "cell_type": "code",
      "execution_count": null,
      "metadata": {
        "id": "xjZAvpdEQzI9",
        "outputId": "5c7e6d15-adef-4377-98f2-0b47a3c42229"
      },
      "outputs": [
        {
          "data": {
            "text/plain": [
              "Ridge(alpha=10)"
            ]
          },
          "execution_count": 196,
          "metadata": {},
          "output_type": "execute_result"
        }
      ],
      "source": [
        "model =linear_model.Ridge(alpha=10)\n",
        "model.fit(X_train,Y_train)"
      ]
    },
    {
      "cell_type": "code",
      "execution_count": null,
      "metadata": {
        "id": "xZzF8vaHQzI-",
        "outputId": "eff0b484-e27a-409d-a9d0-38eeb7f6fe8f"
      },
      "outputs": [
        {
          "name": "stdout",
          "output_type": "stream",
          "text": [
            "Mean squared error: 6109120.80\n",
            "R Square score: 0.79\n"
          ]
        }
      ],
      "source": [
        "predicted=model.predict(X_test)\n",
        "print(\"Mean squared error: %.2f\"\n",
        "              % mean_squared_error(Y_test, predicted))\n",
        "\n",
        "print('R Square score: %.2f' % r2_score(Y_test, predicted))"
      ]
    },
    {
      "cell_type": "code",
      "execution_count": null,
      "metadata": {
        "id": "j594vpcuQzI_",
        "outputId": "c9b8979d-a682-42ef-f6f9-138cdf68d330"
      },
      "outputs": [
        {
          "data": {
            "text/plain": [
              "array([0.85029325, 0.52637566, 0.13488245, 0.82427246, 0.78136647,\n",
              "       0.83054025, 0.76262181, 0.69171734, 0.71140007, 0.80903254])"
            ]
          },
          "execution_count": 198,
          "metadata": {},
          "output_type": "execute_result"
        }
      ],
      "source": [
        "\n",
        "from sklearn.model_selection import cross_val_score\n",
        "\n",
        "scores = cross_val_score(model, X_train, Y_train,cv=10)\n",
        "\n",
        "scores\n"
      ]
    },
    {
      "cell_type": "code",
      "execution_count": null,
      "metadata": {
        "id": "U1rAdnCHQzJA",
        "outputId": "1b69f9dd-e405-4db5-e861-c463ce1800fe"
      },
      "outputs": [
        {
          "name": "stdout",
          "output_type": "stream",
          "text": [
            "Accuracy: 0.69 (+/- 0.62)\n"
          ]
        }
      ],
      "source": [
        "print(\"Accuracy: %0.2f (+/- %0.2f)\" % (scores.mean(), 3* scores.std() ))"
      ]
    },
    {
      "cell_type": "code",
      "execution_count": null,
      "metadata": {
        "id": "GAQyXqUzQzJB",
        "outputId": "c3d60525-a417-472e-f7c2-0e015fba0d2a"
      },
      "outputs": [
        {
          "data": {
            "text/plain": [
              "KNeighborsRegressor(n_neighbors=4, weights='distance')"
            ]
          },
          "execution_count": 200,
          "metadata": {},
          "output_type": "execute_result"
        }
      ],
      "source": [
        "#KNN Regressor\n",
        "\n",
        "\n",
        "from sklearn.neighbors import KNeighborsRegressor\n",
        "model = KNeighborsRegressor(n_neighbors=4,\n",
        "                             p=2,weights='distance')\n",
        "model.fit(X_train,Y_train)"
      ]
    },
    {
      "cell_type": "code",
      "execution_count": null,
      "metadata": {
        "id": "Muk7rsl_QzJD",
        "outputId": "c90db261-9fea-443e-a57c-31f89ef04dc3"
      },
      "outputs": [
        {
          "name": "stdout",
          "output_type": "stream",
          "text": [
            "Mean squared error: 12388238.85\n",
            "R Square score: 0.58\n"
          ]
        }
      ],
      "source": [
        "predicted=model.predict(X_test)\n",
        "print(\"Mean squared error: %.2f\"\n",
        "              % mean_squared_error(Y_test, predicted))\n",
        "\n",
        "print('R Square score: %.2f' % r2_score(Y_test, predicted))"
      ]
    },
    {
      "cell_type": "code",
      "execution_count": null,
      "metadata": {
        "id": "zp3dTLJRQzJE",
        "outputId": "84cc46e0-8777-441b-8ed7-5aa9d80491e6"
      },
      "outputs": [
        {
          "data": {
            "text/plain": [
              "array([0.85893749, 0.63650288, 0.45239699, 0.87645662, 0.88335373,\n",
              "       0.77703851, 0.84099436, 0.55447214, 0.70865977, 0.94697372])"
            ]
          },
          "execution_count": 202,
          "metadata": {},
          "output_type": "execute_result"
        }
      ],
      "source": [
        "\n",
        "from sklearn.model_selection import cross_val_score\n",
        "\n",
        "scores = cross_val_score(model, X_train, Y_train,cv=10)\n",
        "\n",
        "scores\n"
      ]
    },
    {
      "cell_type": "code",
      "execution_count": null,
      "metadata": {
        "id": "L-EU1b5VQzJF",
        "outputId": "1da691f2-a310-472e-dc30-e616562736fe"
      },
      "outputs": [
        {
          "name": "stdout",
          "output_type": "stream",
          "text": [
            "Accuracy: 0.75 (+/- 0.46)\n"
          ]
        }
      ],
      "source": [
        "print(\"Accuracy: %0.2f (+/- %0.2f)\" % (scores.mean(), 3* scores.std() ))"
      ]
    },
    {
      "cell_type": "code",
      "execution_count": null,
      "metadata": {
        "id": "GsT0-jkxQzJG"
      },
      "outputs": [],
      "source": [
        "#Neural Network\n",
        "\n",
        "from sklearn.neural_network import MLPRegressor"
      ]
    },
    {
      "cell_type": "code",
      "execution_count": null,
      "metadata": {
        "id": "70MgC5DrQzJI"
      },
      "outputs": [],
      "source": [
        "from sklearn.metrics import mean_squared_error, r2_score\n",
        "training_features = [ 'length','width','curb-weight','horsepower']\n",
        "target = 'price'\n",
        "X_train, X_test, Y_train, Y_test = train_test_split(df[training_features],\n",
        "                                                    df[target],\n",
        "                                                     test_size=0.1,random_state=222)\n"
      ]
    },
    {
      "cell_type": "code",
      "execution_count": null,
      "metadata": {
        "id": "miKclc0LQzJJ"
      },
      "outputs": [],
      "source": [
        "model =MLPRegressor(hidden_layer_sizes=(100,10,50),activation='tanh')"
      ]
    },
    {
      "cell_type": "code",
      "execution_count": null,
      "metadata": {
        "id": "tupQKWi6QzJK",
        "outputId": "fb9cb94e-0175-4f9a-d9ae-ea2936f90c9d"
      },
      "outputs": [
        {
          "name": "stderr",
          "output_type": "stream",
          "text": [
            "E:\\Anaconda\\lib\\site-packages\\sklearn\\neural_network\\_multilayer_perceptron.py:692: ConvergenceWarning: Stochastic Optimizer: Maximum iterations (200) reached and the optimization hasn't converged yet.\n",
            "  warnings.warn(\n"
          ]
        },
        {
          "data": {
            "text/plain": [
              "MLPRegressor(activation='tanh', hidden_layer_sizes=(100, 10, 50))"
            ]
          },
          "execution_count": 207,
          "metadata": {},
          "output_type": "execute_result"
        }
      ],
      "source": [
        "model.fit(X_train,Y_train)"
      ]
    },
    {
      "cell_type": "code",
      "execution_count": null,
      "metadata": {
        "id": "bJO0A5MJQzJL",
        "outputId": "cbbb181e-a64b-4afb-ff70-e0c04fd9e491"
      },
      "outputs": [
        {
          "name": "stdout",
          "output_type": "stream",
          "text": [
            "Mean squared error: 222069320.54\n",
            "R Square score: -6.54\n"
          ]
        }
      ],
      "source": [
        "predicted=model.predict(X_test)\n",
        "print(\"Mean squared error: %.2f\"\n",
        "              % mean_squared_error(Y_test, predicted))\n",
        "\n",
        "print('R Square score: %.2f' % r2_score(Y_test, predicted))"
      ]
    },
    {
      "cell_type": "code",
      "execution_count": null,
      "metadata": {
        "id": "ytdSeBaRQzJM",
        "outputId": "3a3d0323-382d-4f12-9b21-815df6f1df10"
      },
      "outputs": [
        {
          "name": "stderr",
          "output_type": "stream",
          "text": [
            "E:\\Anaconda\\lib\\site-packages\\sklearn\\neural_network\\_multilayer_perceptron.py:692: ConvergenceWarning: Stochastic Optimizer: Maximum iterations (200) reached and the optimization hasn't converged yet.\n",
            "  warnings.warn(\n",
            "E:\\Anaconda\\lib\\site-packages\\sklearn\\neural_network\\_multilayer_perceptron.py:692: ConvergenceWarning: Stochastic Optimizer: Maximum iterations (200) reached and the optimization hasn't converged yet.\n",
            "  warnings.warn(\n",
            "E:\\Anaconda\\lib\\site-packages\\sklearn\\neural_network\\_multilayer_perceptron.py:692: ConvergenceWarning: Stochastic Optimizer: Maximum iterations (200) reached and the optimization hasn't converged yet.\n",
            "  warnings.warn(\n",
            "E:\\Anaconda\\lib\\site-packages\\sklearn\\neural_network\\_multilayer_perceptron.py:692: ConvergenceWarning: Stochastic Optimizer: Maximum iterations (200) reached and the optimization hasn't converged yet.\n",
            "  warnings.warn(\n",
            "E:\\Anaconda\\lib\\site-packages\\sklearn\\neural_network\\_multilayer_perceptron.py:692: ConvergenceWarning: Stochastic Optimizer: Maximum iterations (200) reached and the optimization hasn't converged yet.\n",
            "  warnings.warn(\n",
            "E:\\Anaconda\\lib\\site-packages\\sklearn\\neural_network\\_multilayer_perceptron.py:692: ConvergenceWarning: Stochastic Optimizer: Maximum iterations (200) reached and the optimization hasn't converged yet.\n",
            "  warnings.warn(\n",
            "E:\\Anaconda\\lib\\site-packages\\sklearn\\neural_network\\_multilayer_perceptron.py:692: ConvergenceWarning: Stochastic Optimizer: Maximum iterations (200) reached and the optimization hasn't converged yet.\n",
            "  warnings.warn(\n",
            "E:\\Anaconda\\lib\\site-packages\\sklearn\\neural_network\\_multilayer_perceptron.py:692: ConvergenceWarning: Stochastic Optimizer: Maximum iterations (200) reached and the optimization hasn't converged yet.\n",
            "  warnings.warn(\n",
            "E:\\Anaconda\\lib\\site-packages\\sklearn\\neural_network\\_multilayer_perceptron.py:692: ConvergenceWarning: Stochastic Optimizer: Maximum iterations (200) reached and the optimization hasn't converged yet.\n",
            "  warnings.warn(\n",
            "E:\\Anaconda\\lib\\site-packages\\sklearn\\neural_network\\_multilayer_perceptron.py:692: ConvergenceWarning: Stochastic Optimizer: Maximum iterations (200) reached and the optimization hasn't converged yet.\n",
            "  warnings.warn(\n"
          ]
        },
        {
          "data": {
            "text/plain": [
              "array([ -4.72904487,  -6.76958747, -13.35388065,  -2.4503772 ,\n",
              "        -3.35492748,  -5.91468527,  -4.16524559,  -5.31747154,\n",
              "        -6.16531129,  -3.29268685])"
            ]
          },
          "execution_count": 209,
          "metadata": {},
          "output_type": "execute_result"
        }
      ],
      "source": [
        "from sklearn.model_selection import cross_val_score\n",
        "\n",
        "scores = cross_val_score(model, X_train, Y_train,cv=10)\n",
        "\n",
        "scores\n"
      ]
    },
    {
      "cell_type": "code",
      "execution_count": null,
      "metadata": {
        "id": "Zx3mTeNvQzJO",
        "outputId": "c6632816-3ecb-4065-fdda-a4f081c3b780"
      },
      "outputs": [
        {
          "name": "stdout",
          "output_type": "stream",
          "text": [
            "Accuracy: -5.55 (+/- 8.75)\n"
          ]
        }
      ],
      "source": [
        "\n",
        "print(\"Accuracy: %0.2f (+/- %0.2f)\" % (scores.mean(), 3* scores.std() ))\n"
      ]
    },
    {
      "cell_type": "code",
      "execution_count": null,
      "metadata": {
        "id": "X4Lp9_nvQzJP"
      },
      "outputs": [],
      "source": []
    },
    {
      "cell_type": "code",
      "execution_count": null,
      "metadata": {
        "id": "b5jC22ddQzJQ",
        "outputId": "445eeac5-92e8-422c-fcb8-4ddb3f457d24"
      },
      "outputs": [
        {
          "name": "stderr",
          "output_type": "stream",
          "text": [
            "E:\\Anaconda\\lib\\site-packages\\sklearn\\tree\\_classes.py:366: FutureWarning: Criterion 'mae' was deprecated in v1.0 and will be removed in version 1.2. Use `criterion='absolute_error'` which is equivalent.\n",
            "  warnings.warn(\n"
          ]
        },
        {
          "data": {
            "text/plain": [
              "DecisionTreeRegressor(criterion='mae', max_depth=5, min_samples_leaf=4,\n",
              "                      min_samples_split=4)"
            ]
          },
          "execution_count": 211,
          "metadata": {},
          "output_type": "execute_result"
        }
      ],
      "source": [
        "#Regression trees\n",
        "\n",
        "from sklearn.model_selection import train_test_split,GridSearchCV\n",
        "\n",
        "from sklearn import datasets, linear_model\n",
        "from sklearn.metrics import mean_squared_error, r2_score\n",
        "from sklearn.model_selection import train_test_split\n",
        "from sklearn.tree import DecisionTreeRegressor\n",
        "model = DecisionTreeRegressor(criterion='mae',max_depth=5,min_samples_leaf=4,min_samples_split=4)\n",
        "model.fit(X_train,Y_train)"
      ]
    },
    {
      "cell_type": "code",
      "execution_count": null,
      "metadata": {
        "id": "2TOMbOibQzJR",
        "outputId": "2e94aa6f-4214-4880-ffbb-03df9e774e15"
      },
      "outputs": [
        {
          "name": "stdout",
          "output_type": "stream",
          "text": [
            "Mean squared error: 9519435.94\n",
            "R Square score: 0.68\n"
          ]
        }
      ],
      "source": [
        "predicted=model.predict(X_test)\n",
        "print(\"Mean squared error: %.2f\"\n",
        "              % mean_squared_error(Y_test, predicted))\n",
        "\n",
        "print('R Square score: %.2f' % r2_score(Y_test, predicted))"
      ]
    },
    {
      "cell_type": "code",
      "execution_count": null,
      "metadata": {
        "id": "kMh-UtjTQzJS",
        "outputId": "4cc27955-7fd7-46ff-90e0-a71c3834cd2c"
      },
      "outputs": [
        {
          "data": {
            "text/plain": [
              "[Text(0.6176470588235294, 0.9166666666666666, 'X[2] <= 2664.0\\nmae = 3818.239\\nsamples = 142\\nvalue = 8948.5'),\n",
              " Text(0.36764705882352944, 0.75, 'X[2] <= 2291.5\\nmae = 1502.549\\nsamples = 102\\nvalue = 7896.5'),\n",
              " Text(0.19117647058823528, 0.5833333333333334, 'X[2] <= 1998.5\\nmae = 835.453\\nsamples = 64\\nvalue = 7163.5'),\n",
              " Text(0.11764705882352941, 0.4166666666666667, 'X[2] <= 1902.5\\nmae = 558.679\\nsamples = 28\\nvalue = 6504.0'),\n",
              " Text(0.058823529411764705, 0.25, 'X[2] <= 1875.0\\nmae = 509.889\\nsamples = 9\\nvalue = 6095.0'),\n",
              " Text(0.029411764705882353, 0.08333333333333333, 'mae = 472.0\\nsamples = 4\\nvalue = 6387.0'),\n",
              " Text(0.08823529411764706, 0.08333333333333333, 'mae = 355.6\\nsamples = 5\\nvalue = 5572.0'),\n",
              " Text(0.17647058823529413, 0.25, 'X[0] <= 158.75\\nmae = 487.0\\nsamples = 19\\nvalue = 6692.0'),\n",
              " Text(0.14705882352941177, 0.08333333333333333, 'mae = 546.1\\nsamples = 10\\nvalue = 6229.0'),\n",
              " Text(0.20588235294117646, 0.08333333333333333, 'mae = 270.111\\nsamples = 9\\nvalue = 6795.0'),\n",
              " Text(0.2647058823529412, 0.4166666666666667, 'X[1] <= 63.7\\nmae = 631.056\\nsamples = 36\\nvalue = 7775.0'),\n",
              " Text(0.23529411764705882, 0.25, 'mae = 503.0\\nsamples = 5\\nvalue = 6488.0'),\n",
              " Text(0.29411764705882354, 0.25, 'X[3] <= 83.5\\nmae = 506.71\\nsamples = 31\\nvalue = 7799.0'),\n",
              " Text(0.2647058823529412, 0.08333333333333333, 'mae = 388.667\\nsamples = 21\\nvalue = 7738.0'),\n",
              " Text(0.3235294117647059, 0.08333333333333333, 'mae = 571.5\\nsamples = 10\\nvalue = 8345.0'),\n",
              " Text(0.5441176470588235, 0.5833333333333334, 'X[2] <= 2422.5\\nmae = 1254.974\\nsamples = 38\\nvalue = 9959.5'),\n",
              " Text(0.47058823529411764, 0.4166666666666667, 'X[3] <= 90.0\\nmae = 1217.846\\nsamples = 26\\nvalue = 9516.5'),\n",
              " Text(0.4117647058823529, 0.25, 'X[1] <= 65.45\\nmae = 806.5\\nsamples = 12\\nvalue = 8845.0'),\n",
              " Text(0.38235294117647056, 0.08333333333333333, 'mae = 740.286\\nsamples = 7\\nvalue = 8499.0'),\n",
              " Text(0.4411764705882353, 0.08333333333333333, 'mae = 700.0\\nsamples = 5\\nvalue = 9495.0'),\n",
              " Text(0.5294117647058824, 0.25, 'X[0] <= 174.5\\nmae = 1360.0\\nsamples = 14\\nvalue = 9959.5'),\n",
              " Text(0.5, 0.08333333333333333, 'mae = 357.111\\nsamples = 9\\nvalue = 9549.0'),\n",
              " Text(0.5588235294117647, 0.08333333333333333, 'mae = 2883.8\\nsamples = 5\\nvalue = 10898.0'),\n",
              " Text(0.6176470588235294, 0.4166666666666667, 'X[2] <= 2522.5\\nmae = 1028.917\\nsamples = 12\\nvalue = 10971.5'),\n",
              " Text(0.5882352941176471, 0.25, 'mae = 551.833\\nsamples = 6\\nvalue = 11246.5'),\n",
              " Text(0.6470588235294118, 0.25, 'mae = 1087.333\\nsamples = 6\\nvalue = 9814.0'),\n",
              " Text(0.8676470588235294, 0.75, 'X[2] <= 3373.5\\nmae = 3922.7\\nsamples = 40\\nvalue = 16872.5'),\n",
              " Text(0.8382352941176471, 0.5833333333333334, 'X[3] <= 118.0\\nmae = 2622.4\\nsamples = 35\\nvalue = 16558.0'),\n",
              " Text(0.7647058823529411, 0.4166666666666667, 'X[1] <= 67.8\\nmae = 2366.647\\nsamples = 17\\nvalue = 15510.0'),\n",
              " Text(0.7058823529411765, 0.25, 'X[1] <= 66.85\\nmae = 1995.889\\nsamples = 9\\nvalue = 13415.0'),\n",
              " Text(0.6764705882352942, 0.08333333333333333, 'mae = 2114.6\\nsamples = 5\\nvalue = 12170.0'),\n",
              " Text(0.7352941176470589, 0.08333333333333333, 'mae = 1536.25\\nsamples = 4\\nvalue = 14700.0'),\n",
              " Text(0.8235294117647058, 0.25, 'X[2] <= 3136.0\\nmae = 2106.875\\nsamples = 8\\nvalue = 16737.5'),\n",
              " Text(0.7941176470588235, 0.08333333333333333, 'mae = 1498.75\\nsamples = 4\\nvalue = 16105.0'),\n",
              " Text(0.8529411764705882, 0.08333333333333333, 'mae = 2580.0\\nsamples = 4\\nvalue = 17425.0'),\n",
              " Text(0.9117647058823529, 0.4166666666666667, 'X[3] <= 138.0\\nmae = 2083.5\\nsamples = 18\\nvalue = 18339.5'),\n",
              " Text(0.8823529411764706, 0.25, 'mae = 835.0\\nsamples = 4\\nvalue = 21037.5'),\n",
              " Text(0.9411764705882353, 0.25, 'X[1] <= 67.8\\nmae = 2037.357\\nsamples = 14\\nvalue = 18150.0'),\n",
              " Text(0.9117647058823529, 0.08333333333333333, 'mae = 1847.333\\nsamples = 9\\nvalue = 15998.0'),\n",
              " Text(0.9705882352941176, 0.08333333333333333, 'mae = 1033.6\\nsamples = 5\\nvalue = 19045.0'),\n",
              " Text(0.8970588235294118, 0.5833333333333334, 'mae = 2585.6\\nsamples = 5\\nvalue = 28248.0')]"
            ]
          },
          "execution_count": 213,
          "metadata": {},
          "output_type": "execute_result"
        },
        {
          "data": {
            "image/png": "[encoded data removed]",
            "text/plain": [
              "<Figure size 432x288 with 1 Axes>"
            ]
          },
          "metadata": {
            "needs_background": "light"
          },
          "output_type": "display_data"
        }
      ],
      "source": [
        "from sklearn.tree import plot_tree\n",
        "plot_tree(model,filled=True)"
      ]
    },
    {
      "cell_type": "code",
      "execution_count": null,
      "metadata": {
        "id": "99kLbJeZQzJS",
        "outputId": "a18ae26b-4679-4726-cc79-a8c4ba4e579d"
      },
      "outputs": [
        {
          "name": "stderr",
          "output_type": "stream",
          "text": [
            "E:\\Anaconda\\lib\\site-packages\\sklearn\\tree\\_classes.py:366: FutureWarning: Criterion 'mae' was deprecated in v1.0 and will be removed in version 1.2. Use `criterion='absolute_error'` which is equivalent.\n",
            "  warnings.warn(\n",
            "E:\\Anaconda\\lib\\site-packages\\sklearn\\tree\\_classes.py:366: FutureWarning: Criterion 'mae' was deprecated in v1.0 and will be removed in version 1.2. Use `criterion='absolute_error'` which is equivalent.\n",
            "  warnings.warn(\n",
            "E:\\Anaconda\\lib\\site-packages\\sklearn\\tree\\_classes.py:366: FutureWarning: Criterion 'mae' was deprecated in v1.0 and will be removed in version 1.2. Use `criterion='absolute_error'` which is equivalent.\n",
            "  warnings.warn(\n",
            "E:\\Anaconda\\lib\\site-packages\\sklearn\\tree\\_classes.py:366: FutureWarning: Criterion 'mae' was deprecated in v1.0 and will be removed in version 1.2. Use `criterion='absolute_error'` which is equivalent.\n",
            "  warnings.warn(\n",
            "E:\\Anaconda\\lib\\site-packages\\sklearn\\tree\\_classes.py:366: FutureWarning: Criterion 'mae' was deprecated in v1.0 and will be removed in version 1.2. Use `criterion='absolute_error'` which is equivalent.\n",
            "  warnings.warn(\n",
            "E:\\Anaconda\\lib\\site-packages\\sklearn\\tree\\_classes.py:366: FutureWarning: Criterion 'mae' was deprecated in v1.0 and will be removed in version 1.2. Use `criterion='absolute_error'` which is equivalent.\n",
            "  warnings.warn(\n",
            "E:\\Anaconda\\lib\\site-packages\\sklearn\\tree\\_classes.py:366: FutureWarning: Criterion 'mae' was deprecated in v1.0 and will be removed in version 1.2. Use `criterion='absolute_error'` which is equivalent.\n",
            "  warnings.warn(\n",
            "E:\\Anaconda\\lib\\site-packages\\sklearn\\tree\\_classes.py:366: FutureWarning: Criterion 'mae' was deprecated in v1.0 and will be removed in version 1.2. Use `criterion='absolute_error'` which is equivalent.\n",
            "  warnings.warn(\n",
            "E:\\Anaconda\\lib\\site-packages\\sklearn\\tree\\_classes.py:366: FutureWarning: Criterion 'mae' was deprecated in v1.0 and will be removed in version 1.2. Use `criterion='absolute_error'` which is equivalent.\n",
            "  warnings.warn(\n",
            "E:\\Anaconda\\lib\\site-packages\\sklearn\\tree\\_classes.py:366: FutureWarning: Criterion 'mae' was deprecated in v1.0 and will be removed in version 1.2. Use `criterion='absolute_error'` which is equivalent.\n",
            "  warnings.warn(\n"
          ]
        },
        {
          "data": {
            "text/plain": [
              "array([0.81474477, 0.62690434, 0.44097421, 0.82795639, 0.89808225,\n",
              "       0.74624446, 0.88347892, 0.71621996, 0.77092197, 0.94997441])"
            ]
          },
          "execution_count": 214,
          "metadata": {},
          "output_type": "execute_result"
        }
      ],
      "source": [
        "from sklearn.model_selection import cross_val_score\n",
        "\n",
        "scores = cross_val_score(model, X_train, Y_train,cv=10)\n",
        "\n",
        "scores"
      ]
    },
    {
      "cell_type": "code",
      "execution_count": null,
      "metadata": {
        "id": "3q10fj7CQzJU",
        "outputId": "025de1db-daa3-46f1-ddfc-984399c9a38d"
      },
      "outputs": [
        {
          "name": "stdout",
          "output_type": "stream",
          "text": [
            "Accuracy: 0.77 (+/- 0.42)\n"
          ]
        }
      ],
      "source": [
        "print(\"Accuracy: %0.2f (+/- %0.2f)\" % (scores.mean(), 3* scores.std() ))"
      ]
    },
    {
      "cell_type": "code",
      "execution_count": null,
      "metadata": {
        "id": "I9qlbzcSQzJV",
        "outputId": "65f694d6-5f1a-4482-8160-9f685ba44702"
      },
      "outputs": [
        {
          "data": {
            "text/plain": [
              "SVR(kernel='linear')"
            ]
          },
          "execution_count": 216,
          "metadata": {},
          "output_type": "execute_result"
        }
      ],
      "source": [
        "#SVR\n",
        "\n",
        "from sklearn.svm import SVR\n",
        "model = SVR(kernel='linear')\n",
        "model.fit(X_train,Y_train)"
      ]
    },
    {
      "cell_type": "code",
      "execution_count": null,
      "metadata": {
        "id": "wK8pGVf9QzJW",
        "outputId": "dc5f4217-67c3-47c8-d749-5ab909f4d2a7"
      },
      "outputs": [
        {
          "name": "stdout",
          "output_type": "stream",
          "text": [
            "Mean squared error: 9794854.40\n",
            "R Square score: 0.67\n"
          ]
        }
      ],
      "source": [
        "predicted=model.predict(X_test)\n",
        "print(\"Mean squared error: %.2f\"\n",
        "              % mean_squared_error(Y_test, predicted))\n",
        "\n",
        "print('R Square score: %.2f' % r2_score(Y_test, predicted))"
      ]
    },
    {
      "cell_type": "code",
      "execution_count": null,
      "metadata": {
        "id": "FSudmeAXQzJX",
        "outputId": "dcbec464-f813-4c21-fea7-3a8b126e72b0"
      },
      "outputs": [
        {
          "data": {
            "text/plain": [
              "array([0.81111938, 0.6505549 , 0.48148009, 0.73129806, 0.73213532,\n",
              "       0.80326901, 0.81236196, 0.68020696, 0.81925003, 0.76819261])"
            ]
          },
          "execution_count": 218,
          "metadata": {},
          "output_type": "execute_result"
        }
      ],
      "source": [
        "\n",
        "from sklearn.model_selection import cross_val_score\n",
        "\n",
        "scores = cross_val_score(model, X_train, Y_train,cv=10)\n",
        "\n",
        "scores"
      ]
    },
    {
      "cell_type": "code",
      "execution_count": null,
      "metadata": {
        "id": "hiPEtE4hQzJY",
        "outputId": "407e1292-a171-44ad-95ea-f07a23ab0bd8"
      },
      "outputs": [
        {
          "name": "stdout",
          "output_type": "stream",
          "text": [
            "Accuracy: 0.73 (+/- 0.30)\n"
          ]
        }
      ],
      "source": [
        "print(\"Accuracy: %0.2f (+/- %0.2f)\" % (scores.mean(), 3* scores.std() ))"
      ]
    },
    {
      "cell_type": "code",
      "execution_count": null,
      "metadata": {
        "id": "6ySs9ERrQzJZ"
      },
      "outputs": [],
      "source": []
    },
    {
      "cell_type": "code",
      "execution_count": null,
      "metadata": {
        "id": "HxClgQ2MQzJa"
      },
      "outputs": [],
      "source": []
    },
    {
      "cell_type": "code",
      "execution_count": null,
      "metadata": {
        "id": "_FvoOIKBQzJa"
      },
      "outputs": [],
      "source": []
    },
    {
      "cell_type": "code",
      "execution_count": null,
      "metadata": {
        "id": "QGoc0mr5QzJa"
      },
      "outputs": [],
      "source": []
    },
    {
      "cell_type": "code",
      "execution_count": null,
      "metadata": {
        "id": "hoZGyqJuQzJb"
      },
      "outputs": [],
      "source": []
    }
  ],
  "metadata": {
    "kernelspec": {
      "display_name": "Python 3 (ipykernel)",
      "language": "python",
      "name": "python3"
    },
    "language_info": {
      "codemirror_mode": {
        "name": "ipython",
        "version": 3
      },
      "file_extension": ".py",
      "mimetype": "text/x-python",
      "name": "python",
      "nbconvert_exporter": "python",
      "pygments_lexer": "ipython3",
      "version": "3.9.12"
    },
    "colab": {
      "provenance": []
    }
  },
  "nbformat": 4,
  "nbformat_minor": 0
}