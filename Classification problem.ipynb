{
  "cells": [
    {
      "cell_type": "code",
      "execution_count": null,
      "metadata": {
        "id": "_B0T8tzI-sHh"
      },
      "outputs": [],
      "source": [
        "import numpy as np\n",
        "import pandas as pd\n",
        "import matplotlib.pyplot as plt\n",
        "\n",
        "from sklearn.model_selection import train_test_split\n"
      ]
    },
    {
      "cell_type": "code",
      "execution_count": null,
      "metadata": {
        "id": "9mzpcs7j-sHm"
      },
      "outputs": [],
      "source": [
        "from sklearn.metrics import mean_squared_error, r2_score\n",
        "#Import Data from Input\n",
        "df= pd.read_csv(r\"C:\\Users\\shiny\\Downloads\\crx_data.csv.csv\")"
      ]
    },
    {
      "cell_type": "code",
      "execution_count": null,
      "metadata": {
        "id": "dFv4p8_h-sHn",
        "outputId": "dc5f76d6-1e50-403c-d739-583c1691a61b"
      },
      "outputs": [
        {
          "data": {
            "text/html": [
              "<div>\n",
              "<style scoped>\n",
              "    .dataframe tbody tr th:only-of-type {\n",
              "        vertical-align: middle;\n",
              "    }\n",
              "\n",
              "    .dataframe tbody tr th {\n",
              "        vertical-align: top;\n",
              "    }\n",
              "\n",
              "    .dataframe thead th {\n",
              "        text-align: right;\n",
              "    }\n",
              "</style>\n",
              "<table border=\"1\" class=\"dataframe\">\n",
              "  <thead>\n",
              "    <tr style=\"text-align: right;\">\n",
              "      <th></th>\n",
              "      <th>A1</th>\n",
              "      <th>A2</th>\n",
              "      <th>A3</th>\n",
              "      <th>A4</th>\n",
              "      <th>A5</th>\n",
              "      <th>A6</th>\n",
              "      <th>A7</th>\n",
              "      <th>A8</th>\n",
              "      <th>A9</th>\n",
              "      <th>A10</th>\n",
              "      <th>A11</th>\n",
              "      <th>A12</th>\n",
              "      <th>A13</th>\n",
              "      <th>A14</th>\n",
              "      <th>A15</th>\n",
              "      <th>A16</th>\n",
              "    </tr>\n",
              "  </thead>\n",
              "  <tbody>\n",
              "    <tr>\n",
              "      <th>0</th>\n",
              "      <td>b</td>\n",
              "      <td>30.83</td>\n",
              "      <td>0.000</td>\n",
              "      <td>u</td>\n",
              "      <td>g</td>\n",
              "      <td>w</td>\n",
              "      <td>v</td>\n",
              "      <td>1.25</td>\n",
              "      <td>t</td>\n",
              "      <td>t</td>\n",
              "      <td>1</td>\n",
              "      <td>f</td>\n",
              "      <td>g</td>\n",
              "      <td>202</td>\n",
              "      <td>0</td>\n",
              "      <td>+</td>\n",
              "    </tr>\n",
              "    <tr>\n",
              "      <th>1</th>\n",
              "      <td>a</td>\n",
              "      <td>58.67</td>\n",
              "      <td>4.460</td>\n",
              "      <td>u</td>\n",
              "      <td>g</td>\n",
              "      <td>q</td>\n",
              "      <td>h</td>\n",
              "      <td>3.04</td>\n",
              "      <td>t</td>\n",
              "      <td>t</td>\n",
              "      <td>6</td>\n",
              "      <td>f</td>\n",
              "      <td>g</td>\n",
              "      <td>43</td>\n",
              "      <td>560</td>\n",
              "      <td>+</td>\n",
              "    </tr>\n",
              "    <tr>\n",
              "      <th>2</th>\n",
              "      <td>a</td>\n",
              "      <td>24.5</td>\n",
              "      <td>0.500</td>\n",
              "      <td>u</td>\n",
              "      <td>g</td>\n",
              "      <td>q</td>\n",
              "      <td>h</td>\n",
              "      <td>1.50</td>\n",
              "      <td>t</td>\n",
              "      <td>f</td>\n",
              "      <td>0</td>\n",
              "      <td>f</td>\n",
              "      <td>g</td>\n",
              "      <td>280</td>\n",
              "      <td>824</td>\n",
              "      <td>+</td>\n",
              "    </tr>\n",
              "    <tr>\n",
              "      <th>3</th>\n",
              "      <td>b</td>\n",
              "      <td>27.83</td>\n",
              "      <td>1.540</td>\n",
              "      <td>u</td>\n",
              "      <td>g</td>\n",
              "      <td>w</td>\n",
              "      <td>v</td>\n",
              "      <td>3.75</td>\n",
              "      <td>t</td>\n",
              "      <td>t</td>\n",
              "      <td>5</td>\n",
              "      <td>t</td>\n",
              "      <td>g</td>\n",
              "      <td>100</td>\n",
              "      <td>3</td>\n",
              "      <td>+</td>\n",
              "    </tr>\n",
              "    <tr>\n",
              "      <th>4</th>\n",
              "      <td>b</td>\n",
              "      <td>20.17</td>\n",
              "      <td>5.625</td>\n",
              "      <td>u</td>\n",
              "      <td>g</td>\n",
              "      <td>w</td>\n",
              "      <td>v</td>\n",
              "      <td>1.71</td>\n",
              "      <td>t</td>\n",
              "      <td>f</td>\n",
              "      <td>0</td>\n",
              "      <td>f</td>\n",
              "      <td>s</td>\n",
              "      <td>120</td>\n",
              "      <td>0</td>\n",
              "      <td>+</td>\n",
              "    </tr>\n",
              "  </tbody>\n",
              "</table>\n",
              "</div>"
            ],
            "text/plain": [
              "  A1     A2     A3 A4 A5 A6 A7    A8 A9 A10  A11 A12 A13  A14  A15 A16\n",
              "0  b  30.83  0.000  u  g  w  v  1.25  t   t    1   f   g  202    0   +\n",
              "1  a  58.67  4.460  u  g  q  h  3.04  t   t    6   f   g   43  560   +\n",
              "2  a   24.5  0.500  u  g  q  h  1.50  t   f    0   f   g  280  824   +\n",
              "3  b  27.83  1.540  u  g  w  v  3.75  t   t    5   t   g  100    3   +\n",
              "4  b  20.17  5.625  u  g  w  v  1.71  t   f    0   f   s  120    0   +"
            ]
          },
          "execution_count": 5,
          "metadata": {},
          "output_type": "execute_result"
        }
      ],
      "source": [
        "df.head()"
      ]
    },
    {
      "cell_type": "markdown",
      "metadata": {
        "id": "Kw6D3SEv-sHo"
      },
      "source": [
        "df.columns\n"
      ]
    },
    {
      "cell_type": "code",
      "execution_count": null,
      "metadata": {
        "id": "JNNpD_51-sH4",
        "outputId": "6f70c90d-cb21-4859-c830-4ea538a5d0d1"
      },
      "outputs": [
        {
          "data": {
            "text/plain": [
              "(690, 16)"
            ]
          },
          "execution_count": 6,
          "metadata": {},
          "output_type": "execute_result"
        }
      ],
      "source": [
        "df.shape\n"
      ]
    },
    {
      "cell_type": "code",
      "execution_count": null,
      "metadata": {
        "id": "Ei__5OYT-sH5",
        "outputId": "cc3684f3-680e-492e-d7e5-fc1ba685ef97"
      },
      "outputs": [
        {
          "data": {
            "text/plain": [
              "Index(['A1', 'A2', 'A3', 'A4', 'A5', 'A6', 'A7', 'A8', 'A9', 'A10', 'A11',\n",
              "       'A12', 'A13', 'A14', 'A15', 'A16'],\n",
              "      dtype='object')"
            ]
          },
          "execution_count": 7,
          "metadata": {},
          "output_type": "execute_result"
        }
      ],
      "source": [
        "df.columns"
      ]
    },
    {
      "cell_type": "code",
      "execution_count": null,
      "metadata": {
        "id": "Tr__oUTJ-sH5",
        "outputId": "1e103659-2d48-48a1-f585-a3ca8a21ca04"
      },
      "outputs": [
        {
          "name": "stdout",
          "output_type": "stream",
          "text": [
            "<class 'pandas.core.frame.DataFrame'>\n",
            "RangeIndex: 690 entries, 0 to 689\n",
            "Data columns (total 16 columns):\n",
            " #   Column  Non-Null Count  Dtype  \n",
            "---  ------  --------------  -----  \n",
            " 0   A1      690 non-null    object \n",
            " 1   A2      690 non-null    object \n",
            " 2   A3      690 non-null    float64\n",
            " 3   A4      690 non-null    object \n",
            " 4   A5      690 non-null    object \n",
            " 5   A6      690 non-null    object \n",
            " 6   A7      690 non-null    object \n",
            " 7   A8      690 non-null    float64\n",
            " 8   A9      690 non-null    object \n",
            " 9   A10     690 non-null    object \n",
            " 10  A11     690 non-null    int64  \n",
            " 11  A12     690 non-null    object \n",
            " 12  A13     690 non-null    object \n",
            " 13  A14     690 non-null    object \n",
            " 14  A15     690 non-null    int64  \n",
            " 15  A16     690 non-null    object \n",
            "dtypes: float64(2), int64(2), object(12)\n",
            "memory usage: 86.4+ KB\n"
          ]
        }
      ],
      "source": [
        "df.info()"
      ]
    },
    {
      "cell_type": "code",
      "execution_count": null,
      "metadata": {
        "id": "T_KrDIBQ-sH6",
        "outputId": "bef59494-e627-42f8-f4fb-d194110673e4"
      },
      "outputs": [
        {
          "data": {
            "text/html": [
              "<div>\n",
              "<style scoped>\n",
              "    .dataframe tbody tr th:only-of-type {\n",
              "        vertical-align: middle;\n",
              "    }\n",
              "\n",
              "    .dataframe tbody tr th {\n",
              "        vertical-align: top;\n",
              "    }\n",
              "\n",
              "    .dataframe thead th {\n",
              "        text-align: right;\n",
              "    }\n",
              "</style>\n",
              "<table border=\"1\" class=\"dataframe\">\n",
              "  <thead>\n",
              "    <tr style=\"text-align: right;\">\n",
              "      <th></th>\n",
              "      <th>A3</th>\n",
              "      <th>A8</th>\n",
              "      <th>A11</th>\n",
              "      <th>A15</th>\n",
              "    </tr>\n",
              "  </thead>\n",
              "  <tbody>\n",
              "    <tr>\n",
              "      <th>count</th>\n",
              "      <td>690.000000</td>\n",
              "      <td>690.000000</td>\n",
              "      <td>690.00000</td>\n",
              "      <td>690.000000</td>\n",
              "    </tr>\n",
              "    <tr>\n",
              "      <th>mean</th>\n",
              "      <td>4.758725</td>\n",
              "      <td>2.223406</td>\n",
              "      <td>2.40000</td>\n",
              "      <td>1017.385507</td>\n",
              "    </tr>\n",
              "    <tr>\n",
              "      <th>std</th>\n",
              "      <td>4.978163</td>\n",
              "      <td>3.346513</td>\n",
              "      <td>4.86294</td>\n",
              "      <td>5210.102598</td>\n",
              "    </tr>\n",
              "    <tr>\n",
              "      <th>min</th>\n",
              "      <td>0.000000</td>\n",
              "      <td>0.000000</td>\n",
              "      <td>0.00000</td>\n",
              "      <td>0.000000</td>\n",
              "    </tr>\n",
              "    <tr>\n",
              "      <th>25%</th>\n",
              "      <td>1.000000</td>\n",
              "      <td>0.165000</td>\n",
              "      <td>0.00000</td>\n",
              "      <td>0.000000</td>\n",
              "    </tr>\n",
              "    <tr>\n",
              "      <th>50%</th>\n",
              "      <td>2.750000</td>\n",
              "      <td>1.000000</td>\n",
              "      <td>0.00000</td>\n",
              "      <td>5.000000</td>\n",
              "    </tr>\n",
              "    <tr>\n",
              "      <th>75%</th>\n",
              "      <td>7.207500</td>\n",
              "      <td>2.625000</td>\n",
              "      <td>3.00000</td>\n",
              "      <td>395.500000</td>\n",
              "    </tr>\n",
              "    <tr>\n",
              "      <th>max</th>\n",
              "      <td>28.000000</td>\n",
              "      <td>28.500000</td>\n",
              "      <td>67.00000</td>\n",
              "      <td>100000.000000</td>\n",
              "    </tr>\n",
              "  </tbody>\n",
              "</table>\n",
              "</div>"
            ],
            "text/plain": [
              "               A3          A8        A11            A15\n",
              "count  690.000000  690.000000  690.00000     690.000000\n",
              "mean     4.758725    2.223406    2.40000    1017.385507\n",
              "std      4.978163    3.346513    4.86294    5210.102598\n",
              "min      0.000000    0.000000    0.00000       0.000000\n",
              "25%      1.000000    0.165000    0.00000       0.000000\n",
              "50%      2.750000    1.000000    0.00000       5.000000\n",
              "75%      7.207500    2.625000    3.00000     395.500000\n",
              "max     28.000000   28.500000   67.00000  100000.000000"
            ]
          },
          "execution_count": 9,
          "metadata": {},
          "output_type": "execute_result"
        }
      ],
      "source": [
        "df.describe()\n"
      ]
    },
    {
      "cell_type": "code",
      "execution_count": null,
      "metadata": {
        "id": "1oK7fNUU-sH6",
        "outputId": "0a239431-e50a-4b95-8ad6-af76ba19b8a4"
      },
      "outputs": [
        {
          "data": {
            "text/html": [
              "<div>\n",
              "<style scoped>\n",
              "    .dataframe tbody tr th:only-of-type {\n",
              "        vertical-align: middle;\n",
              "    }\n",
              "\n",
              "    .dataframe tbody tr th {\n",
              "        vertical-align: top;\n",
              "    }\n",
              "\n",
              "    .dataframe thead th {\n",
              "        text-align: right;\n",
              "    }\n",
              "</style>\n",
              "<table border=\"1\" class=\"dataframe\">\n",
              "  <thead>\n",
              "    <tr style=\"text-align: right;\">\n",
              "      <th></th>\n",
              "      <th>A1</th>\n",
              "      <th>A2</th>\n",
              "      <th>A3</th>\n",
              "      <th>A4</th>\n",
              "      <th>A5</th>\n",
              "      <th>A6</th>\n",
              "      <th>A7</th>\n",
              "      <th>A8</th>\n",
              "      <th>A9</th>\n",
              "      <th>A10</th>\n",
              "      <th>A11</th>\n",
              "      <th>A12</th>\n",
              "      <th>A13</th>\n",
              "      <th>A14</th>\n",
              "      <th>A15</th>\n",
              "      <th>A16</th>\n",
              "    </tr>\n",
              "  </thead>\n",
              "  <tbody>\n",
              "    <tr>\n",
              "      <th>0</th>\n",
              "      <td>b</td>\n",
              "      <td>30.83</td>\n",
              "      <td>0.000</td>\n",
              "      <td>u</td>\n",
              "      <td>g</td>\n",
              "      <td>w</td>\n",
              "      <td>v</td>\n",
              "      <td>1.25</td>\n",
              "      <td>t</td>\n",
              "      <td>t</td>\n",
              "      <td>1</td>\n",
              "      <td>f</td>\n",
              "      <td>g</td>\n",
              "      <td>202</td>\n",
              "      <td>0</td>\n",
              "      <td>+</td>\n",
              "    </tr>\n",
              "    <tr>\n",
              "      <th>1</th>\n",
              "      <td>a</td>\n",
              "      <td>58.67</td>\n",
              "      <td>4.460</td>\n",
              "      <td>u</td>\n",
              "      <td>g</td>\n",
              "      <td>q</td>\n",
              "      <td>h</td>\n",
              "      <td>3.04</td>\n",
              "      <td>t</td>\n",
              "      <td>t</td>\n",
              "      <td>6</td>\n",
              "      <td>f</td>\n",
              "      <td>g</td>\n",
              "      <td>43</td>\n",
              "      <td>560</td>\n",
              "      <td>+</td>\n",
              "    </tr>\n",
              "    <tr>\n",
              "      <th>2</th>\n",
              "      <td>a</td>\n",
              "      <td>24.5</td>\n",
              "      <td>0.500</td>\n",
              "      <td>u</td>\n",
              "      <td>g</td>\n",
              "      <td>q</td>\n",
              "      <td>h</td>\n",
              "      <td>1.50</td>\n",
              "      <td>t</td>\n",
              "      <td>f</td>\n",
              "      <td>0</td>\n",
              "      <td>f</td>\n",
              "      <td>g</td>\n",
              "      <td>280</td>\n",
              "      <td>824</td>\n",
              "      <td>+</td>\n",
              "    </tr>\n",
              "    <tr>\n",
              "      <th>3</th>\n",
              "      <td>b</td>\n",
              "      <td>27.83</td>\n",
              "      <td>1.540</td>\n",
              "      <td>u</td>\n",
              "      <td>g</td>\n",
              "      <td>w</td>\n",
              "      <td>v</td>\n",
              "      <td>3.75</td>\n",
              "      <td>t</td>\n",
              "      <td>t</td>\n",
              "      <td>5</td>\n",
              "      <td>t</td>\n",
              "      <td>g</td>\n",
              "      <td>100</td>\n",
              "      <td>3</td>\n",
              "      <td>+</td>\n",
              "    </tr>\n",
              "    <tr>\n",
              "      <th>4</th>\n",
              "      <td>b</td>\n",
              "      <td>20.17</td>\n",
              "      <td>5.625</td>\n",
              "      <td>u</td>\n",
              "      <td>g</td>\n",
              "      <td>w</td>\n",
              "      <td>v</td>\n",
              "      <td>1.71</td>\n",
              "      <td>t</td>\n",
              "      <td>f</td>\n",
              "      <td>0</td>\n",
              "      <td>f</td>\n",
              "      <td>s</td>\n",
              "      <td>120</td>\n",
              "      <td>0</td>\n",
              "      <td>+</td>\n",
              "    </tr>\n",
              "  </tbody>\n",
              "</table>\n",
              "</div>"
            ],
            "text/plain": [
              "  A1     A2     A3 A4 A5 A6 A7    A8 A9 A10  A11 A12 A13  A14  A15 A16\n",
              "0  b  30.83  0.000  u  g  w  v  1.25  t   t    1   f   g  202    0   +\n",
              "1  a  58.67  4.460  u  g  q  h  3.04  t   t    6   f   g   43  560   +\n",
              "2  a   24.5  0.500  u  g  q  h  1.50  t   f    0   f   g  280  824   +\n",
              "3  b  27.83  1.540  u  g  w  v  3.75  t   t    5   t   g  100    3   +\n",
              "4  b  20.17  5.625  u  g  w  v  1.71  t   f    0   f   s  120    0   +"
            ]
          },
          "execution_count": 10,
          "metadata": {},
          "output_type": "execute_result"
        }
      ],
      "source": [
        "df.head()"
      ]
    },
    {
      "cell_type": "code",
      "execution_count": null,
      "metadata": {
        "id": "k2K9ws8_-sH7",
        "outputId": "ba4f653c-4f49-48a2-fd27-d1089c2e841f"
      },
      "outputs": [
        {
          "data": {
            "text/plain": [
              "A1      object\n",
              "A2      object\n",
              "A3     float64\n",
              "A4      object\n",
              "A5      object\n",
              "A6      object\n",
              "A7      object\n",
              "A8     float64\n",
              "A9      object\n",
              "A10     object\n",
              "A11      int64\n",
              "A12     object\n",
              "A13     object\n",
              "A14     object\n",
              "A15      int64\n",
              "A16     object\n",
              "dtype: object"
            ]
          },
          "execution_count": 11,
          "metadata": {},
          "output_type": "execute_result"
        }
      ],
      "source": [
        "df.dtypes\n"
      ]
    },
    {
      "cell_type": "code",
      "execution_count": null,
      "metadata": {
        "id": "-RLDE-o7-sH8",
        "outputId": "37685451-d21d-4985-f63b-997c11ce15cb"
      },
      "outputs": [
        {
          "data": {
            "text/plain": [
              "array(['30.83', '58.67', '24.5', '27.83', '20.17', '32.08', '33.17',\n",
              "       '22.92', '54.42', '42.5', '22.08', '29.92', '38.25', '48.08',\n",
              "       '45.83', '36.67', '28.25', '23.25', '21.83', '19.17', '25',\n",
              "       '47.75', '27.42', '41.17', '15.83', '47', '56.58', '57.42',\n",
              "       '42.08', '29.25', '42', '49.5', '36.75', '22.58', '27.25', '23',\n",
              "       '27.75', '54.58', '34.17', '28.92', '29.67', '39.58', '56.42',\n",
              "       '54.33', '41', '31.92', '41.5', '23.92', '25.75', '26', '37.42',\n",
              "       '34.92', '34.25', '23.33', '23.17', '44.33', '35.17', '43.25',\n",
              "       '56.75', '31.67', '23.42', '20.42', '26.67', '36', '25.5', '19.42',\n",
              "       '32.33', '34.83', '38.58', '44.25', '44.83', '20.67', '34.08',\n",
              "       '21.67', '21.5', '49.58', '27.67', '39.83', '?', '37.17', '25.67',\n",
              "       '34', '49', '62.5', '31.42', '52.33', '28.75', '28.58', '22.5',\n",
              "       '28.5', '37.5', '35.25', '18.67', '54.83', '40.92', '19.75',\n",
              "       '29.17', '24.58', '33.75', '25.42', '37.75', '52.5', '57.83',\n",
              "       '20.75', '39.92', '24.75', '44.17', '23.5', '47.67', '22.75',\n",
              "       '34.42', '28.42', '67.75', '47.42', '36.25', '32.67', '48.58',\n",
              "       '33.58', '18.83', '26.92', '31.25', '56.5', '43', '22.33', '32.83',\n",
              "       '40.33', '30.5', '52.83', '46.67', '58.33', '37.33', '23.08',\n",
              "       '32.75', '68.67', '28', '44', '25.08', '32', '60.58', '40.83',\n",
              "       '19.33', '41.33', '56', '49.83', '22.67', '27', '26.08', '18.42',\n",
              "       '21.25', '57.08', '22.42', '48.75', '40', '40.58', '28.67',\n",
              "       '33.08', '21.33', '41.75', '34.5', '48.17', '27.58', '24.08',\n",
              "       '24.83', '36.33', '35.42', '71.58', '39.5', '39.33', '24.33',\n",
              "       '60.08', '55.92', '53.92', '18.92', '50.08', '65.42', '17.58',\n",
              "       '18.08', '19.67', '25.17', '33.5', '58.42', '26.17', '42.83',\n",
              "       '38.17', '20.5', '48.25', '28.33', '18.75', '18.5', '45', '40.25',\n",
              "       '41.42', '17.83', '18.17', '20', '52.17', '50.75', '17.08',\n",
              "       '18.33', '59.67', '18', '37.58', '30.67', '18.58', '16.25',\n",
              "       '21.17', '17.67', '16.5', '29.5', '21.75', '18.25', '35.75',\n",
              "       '16.08', '69.17', '32.92', '16.33', '22.17', '57.58', '15.92',\n",
              "       '31.75', '19', '17.5', '33.67', '30.17', '33.25', '25.25', '34.75',\n",
              "       '47.33', '39.08', '42.75', '38.92', '62.75', '32.25', '26.75',\n",
              "       '63.33', '30.75', '16', '19.5', '32.42', '30.25', '26.83', '16.92',\n",
              "       '24.42', '39.42', '23.58', '21.42', '33', '26.33', '26.25',\n",
              "       '28.17', '20.83', '43.17', '56.83', '15.17', '29.83', '31',\n",
              "       '51.92', '69.5', '19.58', '22.25', '38.42', '26.58', '35', '29.42',\n",
              "       '49.17', '51.83', '58.58', '53.33', '27.17', '25.92', '30.58',\n",
              "       '17.25', '27.33', '36.5', '29.75', '52.42', '36.17', '34.58',\n",
              "       '21.92', '36.58', '31.08', '30.42', '21.08', '17.42', '39.17',\n",
              "       '26.5', '17.33', '23.75', '34.67', '74.83', '45.33', '47.25',\n",
              "       '24.17', '39.25', '39', '64.08', '31.33', '21', '13.75', '46',\n",
              "       '20.25', '60.92', '30', '22.83', '45.17', '41.58', '55.75',\n",
              "       '25.33', '31.83', '33.92', '24.92', '80.25', '30.08', '48.33',\n",
              "       '76.75', '51.33', '41.92', '29.58', '32.17', '51.42', '42.17',\n",
              "       '43.08', '59.5', '65.17', '20.33', '48.5', '28.08', '73.42',\n",
              "       '51.58', '38.67', '46.08', '20.08', '42.25', '16.17', '47.83',\n",
              "       '22', '38.33', '25.58', '21.58', '36.08', '38.75', '35.58',\n",
              "       '31.58', '15.75', '17.92', '30.33', '47.17', '25.83', '50.25',\n",
              "       '36.42'], dtype=object)"
            ]
          },
          "execution_count": 12,
          "metadata": {},
          "output_type": "execute_result"
        }
      ],
      "source": [
        "df.A2.unique()"
      ]
    },
    {
      "cell_type": "code",
      "execution_count": null,
      "metadata": {
        "id": "SgIdCW0S-sH9"
      },
      "outputs": [],
      "source": [
        "df = df[df.A2 != \"?\"]\n",
        "df.A2 = df.A2.astype(\"float\")"
      ]
    },
    {
      "cell_type": "code",
      "execution_count": null,
      "metadata": {
        "id": "Bl1nsDGL-sH9",
        "outputId": "3f654b44-4f9d-49c1-dfe7-d6f2d97a2fd5"
      },
      "outputs": [
        {
          "data": {
            "text/plain": [
              "array(['202', '43', '280', '100', '120', '360', '164', '80', '180', '52',\n",
              "       '128', '260', '0', '320', '396', '96', '200', '300', '145', '500',\n",
              "       '168', '434', '583', '30', '240', '70', '455', '311', '216', '491',\n",
              "       '400', '239', '160', '711', '250', '520', '515', '420', '?', '980',\n",
              "       '443', '140', '94', '368', '288', '188', '112', '171', '268',\n",
              "       '167', '75', '152', '176', '329', '212', '410', '274', '375',\n",
              "       '408', '350', '204', '40', '181', '399', '440', '93', '60', '395',\n",
              "       '393', '21', '29', '102', '431', '370', '24', '20', '129', '510',\n",
              "       '195', '144', '380', '49', '50', '381', '150', '117', '56', '211',\n",
              "       '230', '156', '22', '228', '519', '253', '487', '220', '88', '73',\n",
              "       '121', '470', '136', '132', '292', '154', '272', '340', '108',\n",
              "       '720', '450', '232', '170', '1160', '460', '348', '480', '640',\n",
              "       '372', '276', '221', '352', '141', '178', '600', '550', '2000',\n",
              "       '225', '210', '110', '356', '45', '62', '92', '174', '17', '86',\n",
              "       '454', '254', '28', '263', '333', '312', '371', '99', '252', '760',\n",
              "       '560', '130', '523', '680', '163', '208', '383', '330', '422',\n",
              "       '290', '840', '432', '32', '186', '303', '349', '224', '369', '76',\n",
              "       '231', '309', '416', '465', '256'], dtype=object)"
            ]
          },
          "execution_count": 14,
          "metadata": {},
          "output_type": "execute_result"
        }
      ],
      "source": [
        "df.A14.unique()"
      ]
    },
    {
      "cell_type": "code",
      "execution_count": null,
      "metadata": {
        "id": "4Ar4-uAg-sH9"
      },
      "outputs": [],
      "source": [
        "df = df[df.A14 != \"?\"]\n",
        "df.A14 = df.A14.astype(\"float\")"
      ]
    },
    {
      "cell_type": "code",
      "execution_count": null,
      "metadata": {
        "id": "JvnDFcaP-sH-",
        "outputId": "4b0fcd89-0cda-461f-adb7-f60c86c88742"
      },
      "outputs": [
        {
          "name": "stdout",
          "output_type": "stream",
          "text": [
            "<class 'pandas.core.frame.DataFrame'>\n",
            "Int64Index: 666 entries, 0 to 689\n",
            "Data columns (total 16 columns):\n",
            " #   Column  Non-Null Count  Dtype  \n",
            "---  ------  --------------  -----  \n",
            " 0   A1      666 non-null    object \n",
            " 1   A2      666 non-null    float64\n",
            " 2   A3      666 non-null    float64\n",
            " 3   A4      666 non-null    object \n",
            " 4   A5      666 non-null    object \n",
            " 5   A6      666 non-null    object \n",
            " 6   A7      666 non-null    object \n",
            " 7   A8      666 non-null    float64\n",
            " 8   A9      666 non-null    object \n",
            " 9   A10     666 non-null    object \n",
            " 10  A11     666 non-null    int64  \n",
            " 11  A12     666 non-null    object \n",
            " 12  A13     666 non-null    object \n",
            " 13  A14     666 non-null    float64\n",
            " 14  A15     666 non-null    int64  \n",
            " 15  A16     666 non-null    object \n",
            "dtypes: float64(4), int64(2), object(10)\n",
            "memory usage: 88.5+ KB\n"
          ]
        }
      ],
      "source": [
        "df.info()"
      ]
    },
    {
      "cell_type": "code",
      "execution_count": null,
      "metadata": {
        "id": "VvQnFjYl-sH-",
        "outputId": "14d1b47e-e862-47a4-996e-7192a8ca7c17"
      },
      "outputs": [
        {
          "data": {
            "text/plain": [
              "A1     0\n",
              "A2     0\n",
              "A3     0\n",
              "A4     0\n",
              "A5     0\n",
              "A6     0\n",
              "A7     0\n",
              "A8     0\n",
              "A9     0\n",
              "A10    0\n",
              "A11    0\n",
              "A12    0\n",
              "A13    0\n",
              "A14    0\n",
              "A15    0\n",
              "A16    0\n",
              "dtype: int64"
            ]
          },
          "execution_count": 22,
          "metadata": {},
          "output_type": "execute_result"
        }
      ],
      "source": [
        "df.isnull().sum()"
      ]
    },
    {
      "cell_type": "code",
      "execution_count": null,
      "metadata": {
        "id": "aBbKA7-Z-sH_"
      },
      "outputs": [],
      "source": [
        "X = df.iloc[:, [1,2,7,10,13,14]].values\n",
        "Y = df.iloc[:, [15]].values"
      ]
    },
    {
      "cell_type": "code",
      "execution_count": null,
      "metadata": {
        "id": "RcJybe72-sH_",
        "outputId": "434e5835-86a4-4240-939b-401ef9f81f83"
      },
      "outputs": [
        {
          "data": {
            "text/plain": [
              "PCA(n_components=1)"
            ]
          },
          "execution_count": 35,
          "metadata": {},
          "output_type": "execute_result"
        }
      ],
      "source": [
        "from sklearn.decomposition import PCA\n",
        "pca = PCA(n_components=1)\n",
        "pca"
      ]
    },
    {
      "cell_type": "code",
      "execution_count": null,
      "metadata": {
        "id": "GMfn2a3_-sH_"
      },
      "outputs": [],
      "source": [
        "principalComponents = pca.fit_transform(X)"
      ]
    },
    {
      "cell_type": "code",
      "execution_count": null,
      "metadata": {
        "id": "ymGMmN_q-sH_",
        "outputId": "85a33457-ac10-46c2-afb9-6b225971d3e3"
      },
      "outputs": [
        {
          "data": {
            "text/plain": [
              "(666, 1)"
            ]
          },
          "execution_count": 37,
          "metadata": {},
          "output_type": "execute_result"
        }
      ],
      "source": [
        "principalComponents.shape"
      ]
    },
    {
      "cell_type": "code",
      "execution_count": null,
      "metadata": {
        "id": "IKaHbebQ-sIA",
        "outputId": "505e2a42-27fb-4f15-b5ab-d2af1affb76a"
      },
      "outputs": [
        {
          "data": {
            "text/plain": [
              "array([0.99891275])"
            ]
          },
          "execution_count": 38,
          "metadata": {},
          "output_type": "execute_result"
        }
      ],
      "source": [
        "pca.explained_variance_ratio_"
      ]
    },
    {
      "cell_type": "code",
      "execution_count": null,
      "metadata": {
        "id": "mf2K6jWl-sIA",
        "outputId": "293d0fc8-134f-4b11-d0af-43d49a275df5"
      },
      "outputs": [
        {
          "name": "stderr",
          "output_type": "stream",
          "text": [
            "E:\\Anaconda\\lib\\site-packages\\seaborn\\_decorators.py:36: FutureWarning: Pass the following variable as a keyword arg: x. From version 0.12, the only valid positional argument will be `data`, and passing other arguments without an explicit keyword will result in an error or misinterpretation.\n",
            "  warnings.warn(\n"
          ]
        },
        {
          "data": {
            "text/plain": [
              "<AxesSubplot:xlabel='A14'>"
            ]
          },
          "execution_count": 43,
          "metadata": {},
          "output_type": "execute_result"
        },
        {
          "data": {
            "image/png": "[encoded data removed]",
            "text/plain": [
              "<Figure size 432x288 with 1 Axes>"
            ]
          },
          "metadata": {
            "needs_background": "light"
          },
          "output_type": "display_data"
        }
      ],
      "source": [
        "import seaborn as sns\n",
        "sns.boxplot(df[\"A14\"])"
      ]
    },
    {
      "cell_type": "code",
      "execution_count": null,
      "metadata": {
        "id": "aks5urOm-sIA",
        "outputId": "3d6d5c52-ada3-4df8-9830-c77d71617441"
      },
      "outputs": [
        {
          "data": {
            "text/plain": [
              "<AxesSubplot:>"
            ]
          },
          "execution_count": 44,
          "metadata": {},
          "output_type": "execute_result"
        },
        {
          "data": {
            "image/png": "[encoded data removed]",
            "text/plain": [
              "<Figure size 432x288 with 2 Axes>"
            ]
          },
          "metadata": {
            "needs_background": "light"
          },
          "output_type": "display_data"
        }
      ],
      "source": [
        "import seaborn as sns\n",
        "sns.heatmap(df.corr())"
      ]
    },
    {
      "cell_type": "code",
      "execution_count": null,
      "metadata": {
        "id": "jNuFcFi0-sIB",
        "outputId": "fb3fac0b-f0be-46a1-d8c4-4b0ce9ffc65c"
      },
      "outputs": [
        {
          "data": {
            "text/html": [
              "<div>\n",
              "<style scoped>\n",
              "    .dataframe tbody tr th:only-of-type {\n",
              "        vertical-align: middle;\n",
              "    }\n",
              "\n",
              "    .dataframe tbody tr th {\n",
              "        vertical-align: top;\n",
              "    }\n",
              "\n",
              "    .dataframe thead th {\n",
              "        text-align: right;\n",
              "    }\n",
              "</style>\n",
              "<table border=\"1\" class=\"dataframe\">\n",
              "  <thead>\n",
              "    <tr style=\"text-align: right;\">\n",
              "      <th></th>\n",
              "      <th>A2</th>\n",
              "      <th>A3</th>\n",
              "      <th>A8</th>\n",
              "      <th>A11</th>\n",
              "      <th>A14</th>\n",
              "      <th>A15</th>\n",
              "    </tr>\n",
              "  </thead>\n",
              "  <tbody>\n",
              "    <tr>\n",
              "      <th>A2</th>\n",
              "      <td>1.000000</td>\n",
              "      <td>0.211249</td>\n",
              "      <td>0.404847</td>\n",
              "      <td>0.190790</td>\n",
              "      <td>-0.079812</td>\n",
              "      <td>0.027512</td>\n",
              "    </tr>\n",
              "    <tr>\n",
              "      <th>A3</th>\n",
              "      <td>0.211249</td>\n",
              "      <td>1.000000</td>\n",
              "      <td>0.303990</td>\n",
              "      <td>0.271777</td>\n",
              "      <td>-0.217364</td>\n",
              "      <td>0.120021</td>\n",
              "    </tr>\n",
              "    <tr>\n",
              "      <th>A8</th>\n",
              "      <td>0.404847</td>\n",
              "      <td>0.303990</td>\n",
              "      <td>1.000000</td>\n",
              "      <td>0.329274</td>\n",
              "      <td>-0.069020</td>\n",
              "      <td>0.053009</td>\n",
              "    </tr>\n",
              "    <tr>\n",
              "      <th>A11</th>\n",
              "      <td>0.190790</td>\n",
              "      <td>0.271777</td>\n",
              "      <td>0.329274</td>\n",
              "      <td>1.000000</td>\n",
              "      <td>-0.118024</td>\n",
              "      <td>0.059604</td>\n",
              "    </tr>\n",
              "    <tr>\n",
              "      <th>A14</th>\n",
              "      <td>-0.079812</td>\n",
              "      <td>-0.217364</td>\n",
              "      <td>-0.069020</td>\n",
              "      <td>-0.118024</td>\n",
              "      <td>1.000000</td>\n",
              "      <td>0.069396</td>\n",
              "    </tr>\n",
              "    <tr>\n",
              "      <th>A15</th>\n",
              "      <td>0.027512</td>\n",
              "      <td>0.120021</td>\n",
              "      <td>0.053009</td>\n",
              "      <td>0.059604</td>\n",
              "      <td>0.069396</td>\n",
              "      <td>1.000000</td>\n",
              "    </tr>\n",
              "  </tbody>\n",
              "</table>\n",
              "</div>"
            ],
            "text/plain": [
              "           A2        A3        A8       A11       A14       A15\n",
              "A2   1.000000  0.211249  0.404847  0.190790 -0.079812  0.027512\n",
              "A3   0.211249  1.000000  0.303990  0.271777 -0.217364  0.120021\n",
              "A8   0.404847  0.303990  1.000000  0.329274 -0.069020  0.053009\n",
              "A11  0.190790  0.271777  0.329274  1.000000 -0.118024  0.059604\n",
              "A14 -0.079812 -0.217364 -0.069020 -0.118024  1.000000  0.069396\n",
              "A15  0.027512  0.120021  0.053009  0.059604  0.069396  1.000000"
            ]
          },
          "execution_count": 45,
          "metadata": {},
          "output_type": "execute_result"
        }
      ],
      "source": [
        "df.corr()"
      ]
    },
    {
      "cell_type": "code",
      "execution_count": null,
      "metadata": {
        "id": "R12ea_63-sIB",
        "outputId": "0311a31f-e232-4806-f3c6-2b9ec341869f"
      },
      "outputs": [
        {
          "name": "stdout",
          "output_type": "stream",
          "text": [
            "[[-9.98536645e+02]\n",
            " [-4.38899552e+02]\n",
            " [-1.74360614e+02]\n",
            " [-9.95769892e+02]\n",
            " [-9.98724455e+02]\n",
            " [-9.98174361e+02]\n",
            " [ 3.02862944e+04]\n",
            " [ 3.50181215e+02]\n",
            " [-6.84586262e+02]\n",
            " [ 4.43117432e+02]\n",
            " [-9.98706556e+02]\n",
            " [-7.98404171e+02]\n",
            " [-9.98998048e+02]\n",
            " [ 1.69099546e+03]\n",
            " [-9.98996519e+02]\n",
            " [-9.98265120e+02]\n",
            " [-9.98092421e+02]\n",
            " [-7.53724262e+02]\n",
            " [-9.98999758e+02]\n",
            " [-9.98778764e+02]\n",
            " [ 2.09457474e+02]\n",
            " [-9.98312697e+02]\n",
            " [ 2.61000038e+02]\n",
            " [-9.87722899e+02]\n",
            " [-9.98665662e+02]\n",
            " [-9.98770996e+02]\n",
            " [-9.98996038e+02]\n",
            " [-9.98994013e+02]\n",
            " [-9.98996178e+02]\n",
            " [ 9.00212058e+03]\n",
            " [-9.98612528e+02]\n",
            " [-9.98996685e+02]\n",
            " [ 4.00099076e+03]\n",
            " [ 3.00099136e+03]\n",
            " [-4.38999699e+02]\n",
            " [-9.63004976e+02]\n",
            " [-2.84665586e+02]\n",
            " [-4.47312820e+02]\n",
            " [-4.98405268e+02]\n",
            " [-6.98927648e+02]\n",
            " [-7.77997724e+02]\n",
            " [ 1.28399716e+03]\n",
            " [-8.98449830e+02]\n",
            " [-9.98836180e+02]\n",
            " [-9.83991206e+02]\n",
            " [-7.14997019e+02]\n",
            " [ 2.38041451e+02]\n",
            " [-6.98287008e+02]\n",
            " [-9.98503720e+02]\n",
            " [-9.98770636e+02]\n",
            " [-9.97875282e+02]\n",
            " [-9.98358284e+02]\n",
            " [ 4.80190198e+03]\n",
            " [-7.98452009e+02]\n",
            " [-9.98998428e+02]\n",
            " [-6.98632799e+02]\n",
            " [-9.98999722e+02]\n",
            " [-9.98265492e+02]\n",
            " [-9.97370349e+02]\n",
            " [-9.98814120e+02]\n",
            " [-9.98538007e+02]\n",
            " [-2.68426235e+02]\n",
            " [-5.98817339e+02]\n",
            " [-9.98999692e+02]\n",
            " [-9.98724060e+02]\n",
            " [ 4.90020602e+04]\n",
            " [-5.42999312e+02]\n",
            " [ 1.41095562e+04]\n",
            " [ 1.95517663e+03]\n",
            " [-4.97818130e+02]\n",
            " [-9.98036597e+02]\n",
            " [-9.96753910e+02]\n",
            " [-9.98082133e+02]\n",
            " [-9.96631166e+02]\n",
            " [-9.98632867e+02]\n",
            " [-9.97983991e+02]\n",
            " [-9.98633554e+02]\n",
            " [-9.78587469e+02]\n",
            " [-9.98678153e+02]\n",
            " [-9.98780589e+02]\n",
            " [-9.98156628e+02]\n",
            " [-9.98339205e+02]\n",
            " [-9.98541461e+02]\n",
            " [-9.98357123e+02]\n",
            " [-9.98568732e+02]\n",
            " [-9.98448986e+02]\n",
            " [-9.71769036e+02]\n",
            " [-9.98739169e+02]\n",
            " [-9.98722647e+02]\n",
            " [-8.98539750e+02]\n",
            " [-7.73999742e+02]\n",
            " [-9.98607437e+02]\n",
            " [-9.97587535e+02]\n",
            " [-9.98384783e+02]\n",
            " [-4.98618080e+02]\n",
            " [-5.98624170e+02]\n",
            " [-9.98813755e+02]\n",
            " [-9.60999406e+02]\n",
            " [-9.93723296e+02]\n",
            " [-9.98826941e+02]\n",
            " [-8.68647135e+02]\n",
            " [-9.98358135e+02]\n",
            " [-9.98723435e+02]\n",
            " [-9.98595037e+02]\n",
            " [-9.93679014e+02]\n",
            " [-9.98245377e+02]\n",
            " [-8.51587594e+02]\n",
            " [-9.98402868e+02]\n",
            " [-9.98513374e+02]\n",
            " [-7.88679531e+02]\n",
            " [-9.98541377e+02]\n",
            " [-9.93310345e+02]\n",
            " [ 1.02029745e+04]\n",
            " [ 3.33824837e+02]\n",
            " [-9.48815581e+02]\n",
            " [-6.98540765e+02]\n",
            " [-7.40674436e+02]\n",
            " [-4.31724194e+02]\n",
            " [-9.98997212e+02]\n",
            " [-9.98723342e+02]\n",
            " [ 9.99554977e-01]\n",
            " [ 1.51193500e+03]\n",
            " [-1.89771171e+02]\n",
            " [-3.88372558e+02]\n",
            " [-9.98357874e+02]\n",
            " [-9.98995781e+02]\n",
            " [-8.48770989e+02]\n",
            " [ 5.01017274e+04]\n",
            " [-6.31998866e+02]\n",
            " [ 1.93389758e+00]\n",
            " [-9.98195810e+02]\n",
            " [ 1.45686672e+00]\n",
            " [-9.98531190e+02]\n",
            " [-3.98908503e+02]\n",
            " [ 4.00098919e+03]\n",
            " [-9.98583836e+02]\n",
            " [-7.51995581e+02]\n",
            " [-6.23769958e+02]\n",
            " [-7.20815948e+02]\n",
            " [-1.71087221e+02]\n",
            " [ 1.07336249e+03]\n",
            " [-4.17000829e+02]\n",
            " [ 1.30099724e+03]\n",
            " [ 2.06599395e+03]\n",
            " [ 1.20099906e+03]\n",
            " [-9.91990149e+02]\n",
            " [ 6.03000355e+02]\n",
            " [-9.98784327e+02]\n",
            " [ 1.18513284e+03]\n",
            " [-9.98998591e+02]\n",
            " [-9.98997871e+02]\n",
            " [-9.98838624e+02]\n",
            " [ 2.37699678e+03]\n",
            " [-9.98584518e+02]\n",
            " [ 1.00163685e+03]\n",
            " [ 6.54530174e+03]\n",
            " [-9.83998049e+02]\n",
            " [-9.78094956e+02]\n",
            " [-9.98099153e+02]\n",
            " [ 9.56202520e+03]\n",
            " [-1.61933203e+02]\n",
            " [-5.98862513e+02]\n",
            " [ 1.01789789e+04]\n",
            " [-3.59766335e+02]\n",
            " [-9.98011824e+02]\n",
            " [-9.98152152e+02]\n",
            " [-9.98998069e+02]\n",
            " [ 1.02905367e+03]\n",
            " [-9.98996187e+02]\n",
            " [-9.98769539e+02]\n",
            " [ 6.65931945e+01]\n",
            " [-9.98952273e+02]\n",
            " [-8.48632552e+02]\n",
            " [-4.58862735e+02]\n",
            " [-8.40861154e+02]\n",
            " [ 1.40009640e+04]\n",
            " [-9.98816166e+02]\n",
            " [-9.92770417e+02]\n",
            " [ 2.00099735e+03]\n",
            " [ 2.25828815e+03]\n",
            " [ 6.56413864e+02]\n",
            " [-4.98999054e+02]\n",
            " [ 2.06599445e+03]\n",
            " [ 4.31684225e+02]\n",
            " [-9.98998399e+02]\n",
            " [-9.98998527e+02]\n",
            " [-9.98082501e+02]\n",
            " [-3.97832242e+02]\n",
            " [-9.98815962e+02]\n",
            " [-9.98551388e+02]\n",
            " [-9.91668637e+02]\n",
            " [-9.98128405e+02]\n",
            " [-2.08998143e+02]\n",
            " [-4.38153297e+02]\n",
            " [-6.02861760e+02]\n",
            " [-3.21001296e+02]\n",
            " [-6.98999178e+02]\n",
            " [-9.98886367e+02]\n",
            " [ 1.88112764e+02]\n",
            " [ 5.59098602e+03]\n",
            " [-8.30125874e+02]\n",
            " [ 2.71341965e+02]\n",
            " [ 2.11267618e+02]\n",
            " [-9.98083347e+02]\n",
            " [-9.98769740e+02]\n",
            " [ 1.00310350e+00]\n",
            " [-2.56871511e+02]\n",
            " [-9.98515851e+02]\n",
            " [-9.98471019e+02]\n",
            " [-9.98264763e+02]\n",
            " [ 7.85198082e+03]\n",
            " [-9.98996099e+02]\n",
            " [-4.98816813e+02]\n",
            " [-9.98639157e+02]\n",
            " [-9.98944344e+02]\n",
            " [-9.98998992e+02]\n",
            " [-9.98769935e+02]\n",
            " [-9.98476139e+02]\n",
            " [-9.98632914e+02]\n",
            " [-9.98816226e+02]\n",
            " [-9.98623213e+02]\n",
            " [-9.98816554e+02]\n",
            " [-9.98769542e+02]\n",
            " [ 6.05998264e+03]\n",
            " [ 7.06186552e+02]\n",
            " [-1.41421480e+02]\n",
            " [-4.97883940e+02]\n",
            " [ 5.70098836e+03]\n",
            " [ 1.50449781e+03]\n",
            " [-9.98999507e+02]\n",
            " [ 8.80115850e+03]\n",
            " [-9.98997796e+02]\n",
            " [-8.01807112e+02]\n",
            " [-9.98907070e+02]\n",
            " [-9.84720305e+02]\n",
            " [-9.98838176e+02]\n",
            " [-6.98725662e+02]\n",
            " [ 1.70283661e+04]\n",
            " [ 1.00119939e+03]\n",
            " [-8.99816383e+02]\n",
            " [-5.54831923e+02]\n",
            " [-9.98721150e+02]\n",
            " [ 2.01001978e+02]\n",
            " [-9.97921378e+02]\n",
            " [ 2.00099397e+03]\n",
            " [-9.98769409e+02]\n",
            " [-9.85266183e+02]\n",
            " [-9.98687196e+02]\n",
            " [-9.98670206e+02]\n",
            " [ 1.45651258e+00]\n",
            " [-9.98697207e+02]\n",
            " [-9.98330093e+02]\n",
            " [-9.98997898e+02]\n",
            " [-8.78998300e+02]\n",
            " [-9.66646173e+02]\n",
            " [-9.98665928e+02]\n",
            " [-2.76681454e+02]\n",
            " [-9.98770931e+02]\n",
            " [-9.98375663e+02]\n",
            " [-9.98401948e+02]\n",
            " [-9.58542211e+02]\n",
            " [-9.98357729e+02]\n",
            " [-9.98678722e+02]\n",
            " [-9.98631266e+02]\n",
            " [-9.98220424e+02]\n",
            " [-9.98724585e+02]\n",
            " [-5.14817448e+02]\n",
            " [-9.98220417e+02]\n",
            " [-9.98542142e+02]\n",
            " [-7.94359191e+02]\n",
            " [-9.97450105e+02]\n",
            " [-9.98816381e+02]\n",
            " [-9.00752918e+02]\n",
            " [ 4.55298724e+03]\n",
            " [-9.97724112e+02]\n",
            " [ 1.80477189e+03]\n",
            " [-9.97541972e+02]\n",
            " [-9.98633277e+02]\n",
            " [-9.98266961e+02]\n",
            " [-9.97724041e+02]\n",
            " [-5.54377857e+02]\n",
            " [-9.97494828e+02]\n",
            " [-8.72634073e+02]\n",
            " [-9.94540687e+02]\n",
            " [-9.92835339e+02]\n",
            " [-9.97350139e+02]\n",
            " [-9.77816647e+02]\n",
            " [-8.25586490e+02]\n",
            " [-9.88997074e+02]\n",
            " [-9.98358920e+02]\n",
            " [-9.98358490e+02]\n",
            " [-9.98725096e+02]\n",
            " [-9.97356912e+02]\n",
            " [-9.98995073e+02]\n",
            " [-9.73632964e+02]\n",
            " [-9.98815645e+02]\n",
            " [-9.98678735e+02]\n",
            " [-9.78632555e+02]\n",
            " [-9.92174828e+02]\n",
            " [-9.92743287e+02]\n",
            " [-9.97542211e+02]\n",
            " [-9.56815789e+02]\n",
            " [-9.98862777e+02]\n",
            " [-9.98266961e+02]\n",
            " [-7.94359263e+02]\n",
            " [ 9.90017696e+04]\n",
            " [-9.96855181e+02]\n",
            " [-8.85467915e+02]\n",
            " [-9.90656203e+02]\n",
            " [-9.98312782e+02]\n",
            " [-9.54312244e+02]\n",
            " [ 1.73386539e+03]\n",
            " [-9.98724128e+02]\n",
            " [-9.85358114e+02]\n",
            " [-8.19610397e+02]\n",
            " [-9.96342257e+02]\n",
            " [-9.98540680e+02]\n",
            " [-9.96998721e+02]\n",
            " [-9.81945542e+02]\n",
            " [ 6.34112155e+01]\n",
            " [-9.98201910e+02]\n",
            " [-7.47496299e+02]\n",
            " [-7.70998018e+02]\n",
            " [-9.98632493e+02]\n",
            " [-9.98586548e+02]\n",
            " [-9.31312346e+02]\n",
            " [-9.97899151e+02]\n",
            " [-8.98751005e+02]\n",
            " [ 3.00245560e+03]\n",
            " [-9.98586613e+02]\n",
            " [-9.96311639e+02]\n",
            " [-9.86996455e+02]\n",
            " [-8.76147562e+02]\n",
            " [ 2.11455840e+02]\n",
            " [-9.98584815e+02]\n",
            " [-9.95770173e+02]\n",
            " [-9.97367379e+02]\n",
            " [-9.98770761e+02]\n",
            " [ 3.00099108e+03]\n",
            " [-9.98999045e+02]\n",
            " [-9.98492634e+02]\n",
            " [-9.97267342e+02]\n",
            " [-9.98613779e+02]\n",
            " [-9.98129889e+02]\n",
            " [-9.98724039e+02]\n",
            " [-9.98631990e+02]\n",
            " [-9.98769497e+02]\n",
            " [ 3.20921845e+03]\n",
            " [-9.98770473e+02]\n",
            " [-9.98542151e+02]\n",
            " [ 3.01729953e+02]\n",
            " [-8.86192169e+02]\n",
            " [ 1.50204522e+00]\n",
            " [-9.98082659e+02]\n",
            " [-9.82952520e+02]\n",
            " [-9.96697502e+02]\n",
            " [-9.98357491e+02]\n",
            " [ 1.11319597e+02]\n",
            " [-9.98448283e+02]\n",
            " [-9.98770389e+02]\n",
            " [ 5.59331173e+00]\n",
            " [-9.98404485e+02]\n",
            " [-7.12998453e+02]\n",
            " [-9.98450215e+02]\n",
            " [ 3.50199672e+03]\n",
            " [-9.98037273e+02]\n",
            " [-9.98674978e+02]\n",
            " [-9.98632607e+02]\n",
            " [-5.42542491e+02]\n",
            " [-9.94996954e+02]\n",
            " [ 2.13227353e+02]\n",
            " [-9.98860981e+02]\n",
            " [-9.31724995e+02]\n",
            " [-9.98999834e+02]\n",
            " [-9.98590272e+02]\n",
            " [-9.98999719e+02]\n",
            " [-9.97625628e+02]\n",
            " [-9.97738806e+02]\n",
            " [-9.97349495e+02]\n",
            " [-9.97724780e+02]\n",
            " [-8.03998951e+02]\n",
            " [-9.98998895e+02]\n",
            " [-9.97706003e+02]\n",
            " [-9.11725105e+02]\n",
            " [-9.81998095e+02]\n",
            " [-9.98312109e+02]\n",
            " [-8.14679221e+02]\n",
            " [-8.58495967e+02]\n",
            " [-9.98829917e+02]\n",
            " [-9.98633357e+02]\n",
            " [-9.97899412e+02]\n",
            " [-9.98996113e+02]\n",
            " [-9.92420593e+02]\n",
            " [-9.92999773e+02]\n",
            " [-9.90633528e+02]\n",
            " [-8.52596021e+02]\n",
            " [-9.76999212e+02]\n",
            " [-9.98669961e+02]\n",
            " [-9.98311576e+02]\n",
            " [-9.43358783e+02]\n",
            " [-9.98358441e+02]\n",
            " [-9.28542013e+02]\n",
            " [-9.97688092e+02]\n",
            " [-4.98484714e+02]\n",
            " [-9.38587247e+02]\n",
            " [-9.98517841e+02]\n",
            " [-9.91752464e+02]\n",
            " [-9.98541208e+02]\n",
            " [-9.98770440e+02]\n",
            " [-9.98724011e+02]\n",
            " [-9.98747628e+02]\n",
            " [-9.48587202e+02]\n",
            " [-9.93723986e+02]\n",
            " [-9.95539901e+02]\n",
            " [-9.98586900e+02]\n",
            " [-9.94585405e+02]\n",
            " [ 5.93641810e+01]\n",
            " [-9.98184532e+02]\n",
            " [-9.98541542e+02]\n",
            " [-9.98264427e+02]\n",
            " [-9.97896733e+02]\n",
            " [-2.29200379e+02]\n",
            " [-9.71855922e+02]\n",
            " [-6.98789419e+02]\n",
            " [-9.95600943e+02]\n",
            " [-9.98999076e+02]\n",
            " [-9.97959080e+02]\n",
            " [-9.98815773e+02]\n",
            " [-9.58633520e+02]\n",
            " [-9.98803166e+02]\n",
            " [-9.98697899e+02]\n",
            " [-9.97220810e+02]\n",
            " [-9.79779278e+02]\n",
            " [-9.98999100e+02]\n",
            " [-6.82999289e+02]\n",
            " [-9.47958929e+02]\n",
            " [-9.98312346e+02]\n",
            " [-6.48998502e+02]\n",
            " [ 2.55372651e+03]\n",
            " [-9.98449724e+02]\n",
            " [-3.11519093e+02]\n",
            " [-9.98633147e+02]\n",
            " [-9.98724611e+02]\n",
            " [ 9.51577087e+02]\n",
            " [-9.98175487e+02]\n",
            " [-9.80540410e+02]\n",
            " [-9.45541688e+02]\n",
            " [-9.88357888e+02]\n",
            " [-9.57632445e+02]\n",
            " [-9.65999026e+02]\n",
            " [-9.98587371e+02]\n",
            " [-9.98724919e+02]\n",
            " [-9.93265796e+02]\n",
            " [-8.98679099e+02]\n",
            " [-8.98862220e+02]\n",
            " [ 1.82214191e+00]\n",
            " [-9.54999946e+02]\n",
            " [-9.98816075e+02]\n",
            " [-9.93495902e+02]\n",
            " [-9.98540168e+02]\n",
            " [-9.98998410e+02]\n",
            " [-9.98816032e+02]\n",
            " [-9.63450306e+02]\n",
            " [-9.18358392e+02]\n",
            " [-9.88998399e+02]\n",
            " [-9.92706474e+02]\n",
            " [-9.98934727e+02]\n",
            " [-6.47995086e+02]\n",
            " [ 1.10148963e+03]\n",
            " [-5.23724599e+02]\n",
            " [-9.97587465e+02]\n",
            " [-9.98396045e+02]\n",
            " [-1.06237883e+02]\n",
            " [ 1.00218604e+03]\n",
            " [ 3.60854078e+03]\n",
            " [-9.98219859e+02]\n",
            " [-9.98449883e+02]\n",
            " [ 1.20727012e+03]\n",
            " [ 4.86135144e+03]\n",
            " [-9.70907110e+02]\n",
            " [-9.98284818e+02]\n",
            " [ 3.92455393e+02]\n",
            " [-9.98997466e+02]\n",
            " [-8.98466148e+02]\n",
            " [-9.91036926e+02]\n",
            " [-9.98149406e+02]\n",
            " [ 4.00099102e+03]\n",
            " [-4.07798886e+02]\n",
            " [-4.98999460e+02]\n",
            " [-9.79494081e+02]\n",
            " [-6.98816798e+02]\n",
            " [ 1.27243528e+00]\n",
            " [-3.87713917e+01]\n",
            " [-9.98998307e+02]\n",
            " [-9.98998759e+02]\n",
            " [-9.98999375e+02]\n",
            " [-8.99996667e+02]\n",
            " [-3.08195621e+02]\n",
            " [-9.98815953e+02]\n",
            " [-9.97899226e+02]\n",
            " [-7.64633205e+02]\n",
            " [-4.98772971e+02]\n",
            " [-1.98406110e+02]\n",
            " [-8.81759970e+00]\n",
            " [-9.97991687e+02]\n",
            " [-9.98677537e+02]\n",
            " [-9.98632020e+02]\n",
            " [ 1.19857368e+03]\n",
            " [-9.48767627e+02]\n",
            " [-9.07255628e+02]\n",
            " [-9.97175002e+02]\n",
            " [-9.98083660e+02]\n",
            " [-9.97716005e+02]\n",
            " [-9.97700865e+02]\n",
            " [-9.97801175e+02]\n",
            " [-9.98266193e+02]\n",
            " [-9.98816303e+02]\n",
            " [-9.97441544e+02]\n",
            " [-9.98625612e+02]\n",
            " [-6.58996370e+02]\n",
            " [-9.78770813e+02]\n",
            " [-7.98998637e+02]\n",
            " [-9.98678219e+02]\n",
            " [-9.98540499e+02]\n",
            " [-9.70696435e+02]\n",
            " [-9.98997076e+02]\n",
            " [-6.51523895e+02]\n",
            " [-6.71542043e+02]\n",
            " [ 3.07276919e+03]\n",
            " [-9.98744353e+02]\n",
            " [-8.89993571e+02]\n",
            " [ 2.50000538e+02]\n",
            " [-8.64996925e+02]\n",
            " [ 3.45875937e+02]\n",
            " [-6.77999067e+02]\n",
            " [-5.04969328e+01]\n",
            " [-9.98242866e+02]\n",
            " [ 1.08027123e+03]\n",
            " [ 2.00099417e+03]\n",
            " [ 1.38531526e+03]\n",
            " [-5.40083095e+02]\n",
            " [ 4.29898673e+03]\n",
            " [-7.98033810e+02]\n",
            " [-9.98723417e+02]\n",
            " [-9.98786868e+02]\n",
            " [-9.98770565e+02]\n",
            " [-7.14334474e+02]\n",
            " [-9.98174982e+02]\n",
            " [-8.36311510e+02]\n",
            " [ 5.83997258e+02]\n",
            " [-9.40859553e+02]\n",
            " [-9.97632694e+02]\n",
            " [-9.38076577e+02]\n",
            " [ 4.01001474e+02]\n",
            " [ 4.66112134e+02]\n",
            " [ 7.00196908e+03]\n",
            " [-4.58926700e+02]\n",
            " [-9.98998703e+02]\n",
            " [ 3.70141558e+03]\n",
            " [ 9.82466856e+01]\n",
            " [ 2.29168649e+03]\n",
            " [-9.97716364e+02]\n",
            " [-9.98482475e+02]\n",
            " [-9.98645310e+02]\n",
            " [ 1.22129675e+04]\n",
            " [-9.98994510e+02]\n",
            " [ 1.00363468e+00]\n",
            " [-9.98995405e+02]\n",
            " [ 4.77835214e+03]\n",
            " [ 4.12520720e+03]\n",
            " [ 2.01754434e+02]\n",
            " [-8.48285123e+02]\n",
            " [-9.92334455e+02]\n",
            " [-9.98357634e+02]\n",
            " [-9.75200458e+02]\n",
            " [ 3.16089833e+03]\n",
            " [-8.08181315e+01]\n",
            " [-2.30452333e+02]\n",
            " [ 2.00145110e+03]\n",
            " [-4.98130298e+02]\n",
            " [-9.97654884e+02]\n",
            " [-9.98486283e+02]\n",
            " [-9.98541967e+02]\n",
            " [-9.98587511e+02]\n",
            " [-9.98357989e+02]\n",
            " [-9.99000160e+02]\n",
            " [-9.98467540e+02]\n",
            " [-9.97807096e+02]\n",
            " [-9.94679243e+02]\n",
            " [-9.97153927e+02]\n",
            " [-7.15038755e+02]\n",
            " [-9.91540673e+02]\n",
            " [-9.98631920e+02]\n",
            " [-8.90083511e+02]\n",
            " [-9.89083744e+02]\n",
            " [-9.97631091e+02]\n",
            " [-9.29945612e+02]\n",
            " [-6.23725053e+02]\n",
            " [-9.88633215e+02]\n",
            " [-9.98999661e+02]\n",
            " [-9.97633643e+02]\n",
            " [-9.98633376e+02]\n",
            " [-9.98815064e+02]\n",
            " [ 9.98749520e-01]\n",
            " [-9.98475796e+02]\n",
            " [-9.93496120e+02]\n",
            " [-1.89726966e+02]\n",
            " [-8.90376888e+02]\n",
            " [-9.98824561e+02]\n",
            " [-9.98724141e+02]\n",
            " [-9.94450049e+02]\n",
            " [-4.11634820e+02]\n",
            " [-9.98700884e+02]\n",
            " [-6.48816576e+02]\n",
            " [-9.98769998e+02]\n",
            " [-9.98469908e+02]\n",
            " [-7.98467969e+02]\n",
            " [-8.57541167e+02]\n",
            " [-9.98266318e+02]\n",
            " [-9.98996967e+02]\n",
            " [-9.96291367e+02]\n",
            " [-4.97999838e+02]\n",
            " [-6.47999810e+02]\n",
            " [-9.98998620e+02]\n",
            " [-9.98220952e+02]\n",
            " [-7.98998724e+02]\n",
            " [-9.96768734e+02]\n",
            " [-8.38999668e+02]\n",
            " [-9.98670006e+02]\n",
            " [-9.30769705e+02]\n",
            " [-9.87541642e+02]\n",
            " [-9.98999280e+02]\n",
            " [-9.77046640e+02]\n",
            " [-6.08999559e+02]\n",
            " [-9.80725411e+02]\n",
            " [-8.44907708e+02]\n",
            " [-9.98998741e+02]\n",
            " [-9.98504343e+02]\n",
            " [-9.98633166e+02]\n",
            " [-9.98723899e+02]\n",
            " [-9.98632717e+02]\n",
            " [-9.98999174e+02]\n",
            " [-9.98586322e+02]\n",
            " [-9.93816723e+02]\n",
            " [-9.98422235e+02]\n",
            " [-9.97722883e+02]\n",
            " [-8.47933083e+02]\n",
            " [-9.96998064e+02]\n",
            " [-8.81448710e+02]\n",
            " [-9.81412935e+02]\n",
            " [-7.52403889e+02]\n",
            " [-7.61449543e+02]\n",
            " [-9.95701996e+02]\n",
            " [-9.97770110e+02]\n",
            " [-9.48999009e+02]\n",
            " [-9.98999776e+02]\n",
            " [-6.34359784e+02]\n",
            " [-4.61597658e+02]\n",
            " [-9.96679179e+02]\n",
            " [-9.95449288e+02]\n",
            " [-9.98082290e+02]\n",
            " [-9.98403355e+02]\n",
            " [-6.04542606e+02]\n",
            " [-9.97539994e+02]\n",
            " [-2.48360918e+02]\n",
            " [-9.98998307e+02]]\n"
          ]
        }
      ],
      "source": [
        "print(principalComponents[:])"
      ]
    },
    {
      "cell_type": "code",
      "execution_count": null,
      "metadata": {
        "id": "_zfcA6SY-sIC",
        "outputId": "c80bb018-edab-406c-f35c-eb5b365fe3a6"
      },
      "outputs": [
        {
          "data": {
            "text/plain": [
              "Index(['A1', 'A2', 'A3', 'A4', 'A5', 'A6', 'A7', 'A8', 'A9', 'A10', 'A11',\n",
              "       'A12', 'A13', 'A14', 'A15', 'A16'],\n",
              "      dtype='object')"
            ]
          },
          "execution_count": 47,
          "metadata": {},
          "output_type": "execute_result"
        }
      ],
      "source": [
        "df.columns"
      ]
    },
    {
      "cell_type": "code",
      "execution_count": null,
      "metadata": {
        "id": "iNGAT0g8-sIC",
        "outputId": "0239d483-632e-4e69-d2a9-9825cee662c5"
      },
      "outputs": [
        {
          "ename": "ValueError",
          "evalue": "x and y must have same first dimension, but have shapes (2,) and (1,)",
          "output_type": "error",
          "traceback": [
            "\u001b[1;31m---------------------------------------------------------------------------\u001b[0m",
            "\u001b[1;31mValueError\u001b[0m                                Traceback (most recent call last)",
            "Input \u001b[1;32mIn [48]\u001b[0m, in \u001b[0;36m<cell line: 1>\u001b[1;34m()\u001b[0m\n\u001b[1;32m----> 1\u001b[0m \u001b[43mplt\u001b[49m\u001b[38;5;241;43m.\u001b[39;49m\u001b[43mplot\u001b[49m\u001b[43m(\u001b[49m\u001b[38;5;28;43mrange\u001b[39;49m\u001b[43m(\u001b[49m\u001b[38;5;241;43m2\u001b[39;49m\u001b[43m)\u001b[49m\u001b[43m,\u001b[49m\u001b[43m \u001b[49m\u001b[43mpca\u001b[49m\u001b[38;5;241;43m.\u001b[39;49m\u001b[43mexplained_variance_ratio_\u001b[49m\u001b[43m,\u001b[49m\u001b[43mlabel\u001b[49m\u001b[38;5;241;43m=\u001b[39;49m\u001b[38;5;124;43m\"\u001b[39;49m\u001b[38;5;124;43mVariance-ratio\u001b[39;49m\u001b[38;5;124;43m\"\u001b[39;49m\u001b[43m)\u001b[49m\n\u001b[0;32m      2\u001b[0m plt\u001b[38;5;241m.\u001b[39mplot(\u001b[38;5;28mrange\u001b[39m(\u001b[38;5;241m2\u001b[39m), np\u001b[38;5;241m.\u001b[39mcumsum(pca\u001b[38;5;241m.\u001b[39mexplained_variance_ratio_),label\u001b[38;5;241m=\u001b[39m\u001b[38;5;124m\"\u001b[39m\u001b[38;5;124mcumulative variance-ratio\u001b[39m\u001b[38;5;124m\"\u001b[39m)\n\u001b[0;32m      3\u001b[0m plt\u001b[38;5;241m.\u001b[39mtitle(\u001b[38;5;124m\"\u001b[39m\u001b[38;5;124mComponent-wise and Cumulative Explained Variance\u001b[39m\u001b[38;5;124m\"\u001b[39m)\n",
            "File \u001b[1;32mE:\\Anaconda\\lib\\site-packages\\matplotlib\\pyplot.py:2757\u001b[0m, in \u001b[0;36mplot\u001b[1;34m(scalex, scaley, data, *args, **kwargs)\u001b[0m\n\u001b[0;32m   2755\u001b[0m \u001b[38;5;129m@_copy_docstring_and_deprecators\u001b[39m(Axes\u001b[38;5;241m.\u001b[39mplot)\n\u001b[0;32m   2756\u001b[0m \u001b[38;5;28;01mdef\u001b[39;00m \u001b[38;5;21mplot\u001b[39m(\u001b[38;5;241m*\u001b[39margs, scalex\u001b[38;5;241m=\u001b[39m\u001b[38;5;28;01mTrue\u001b[39;00m, scaley\u001b[38;5;241m=\u001b[39m\u001b[38;5;28;01mTrue\u001b[39;00m, data\u001b[38;5;241m=\u001b[39m\u001b[38;5;28;01mNone\u001b[39;00m, \u001b[38;5;241m*\u001b[39m\u001b[38;5;241m*\u001b[39mkwargs):\n\u001b[1;32m-> 2757\u001b[0m     \u001b[38;5;28;01mreturn\u001b[39;00m gca()\u001b[38;5;241m.\u001b[39mplot(\n\u001b[0;32m   2758\u001b[0m         \u001b[38;5;241m*\u001b[39margs, scalex\u001b[38;5;241m=\u001b[39mscalex, scaley\u001b[38;5;241m=\u001b[39mscaley,\n\u001b[0;32m   2759\u001b[0m         \u001b[38;5;241m*\u001b[39m\u001b[38;5;241m*\u001b[39m({\u001b[38;5;124m\"\u001b[39m\u001b[38;5;124mdata\u001b[39m\u001b[38;5;124m\"\u001b[39m: data} \u001b[38;5;28;01mif\u001b[39;00m data \u001b[38;5;129;01mis\u001b[39;00m \u001b[38;5;129;01mnot\u001b[39;00m \u001b[38;5;28;01mNone\u001b[39;00m \u001b[38;5;28;01melse\u001b[39;00m {}), \u001b[38;5;241m*\u001b[39m\u001b[38;5;241m*\u001b[39mkwargs)\n",
            "File \u001b[1;32mE:\\Anaconda\\lib\\site-packages\\matplotlib\\axes\\_axes.py:1632\u001b[0m, in \u001b[0;36mAxes.plot\u001b[1;34m(self, scalex, scaley, data, *args, **kwargs)\u001b[0m\n\u001b[0;32m   1390\u001b[0m \u001b[38;5;124;03m\"\"\"\u001b[39;00m\n\u001b[0;32m   1391\u001b[0m \u001b[38;5;124;03mPlot y versus x as lines and/or markers.\u001b[39;00m\n\u001b[0;32m   1392\u001b[0m \n\u001b[1;32m   (...)\u001b[0m\n\u001b[0;32m   1629\u001b[0m \u001b[38;5;124;03m(``'green'``) or hex strings (``'#008000'``).\u001b[39;00m\n\u001b[0;32m   1630\u001b[0m \u001b[38;5;124;03m\"\"\"\u001b[39;00m\n\u001b[0;32m   1631\u001b[0m kwargs \u001b[38;5;241m=\u001b[39m cbook\u001b[38;5;241m.\u001b[39mnormalize_kwargs(kwargs, mlines\u001b[38;5;241m.\u001b[39mLine2D)\n\u001b[1;32m-> 1632\u001b[0m lines \u001b[38;5;241m=\u001b[39m [\u001b[38;5;241m*\u001b[39m\u001b[38;5;28mself\u001b[39m\u001b[38;5;241m.\u001b[39m_get_lines(\u001b[38;5;241m*\u001b[39margs, data\u001b[38;5;241m=\u001b[39mdata, \u001b[38;5;241m*\u001b[39m\u001b[38;5;241m*\u001b[39mkwargs)]\n\u001b[0;32m   1633\u001b[0m \u001b[38;5;28;01mfor\u001b[39;00m line \u001b[38;5;129;01min\u001b[39;00m lines:\n\u001b[0;32m   1634\u001b[0m     \u001b[38;5;28mself\u001b[39m\u001b[38;5;241m.\u001b[39madd_line(line)\n",
            "File \u001b[1;32mE:\\Anaconda\\lib\\site-packages\\matplotlib\\axes\\_base.py:312\u001b[0m, in \u001b[0;36m_process_plot_var_args.__call__\u001b[1;34m(self, data, *args, **kwargs)\u001b[0m\n\u001b[0;32m    310\u001b[0m     this \u001b[38;5;241m+\u001b[39m\u001b[38;5;241m=\u001b[39m args[\u001b[38;5;241m0\u001b[39m],\n\u001b[0;32m    311\u001b[0m     args \u001b[38;5;241m=\u001b[39m args[\u001b[38;5;241m1\u001b[39m:]\n\u001b[1;32m--> 312\u001b[0m \u001b[38;5;28;01myield from\u001b[39;00m \u001b[38;5;28;43mself\u001b[39;49m\u001b[38;5;241;43m.\u001b[39;49m\u001b[43m_plot_args\u001b[49m\u001b[43m(\u001b[49m\u001b[43mthis\u001b[49m\u001b[43m,\u001b[49m\u001b[43m \u001b[49m\u001b[43mkwargs\u001b[49m\u001b[43m)\u001b[49m\n",
            "File \u001b[1;32mE:\\Anaconda\\lib\\site-packages\\matplotlib\\axes\\_base.py:498\u001b[0m, in \u001b[0;36m_process_plot_var_args._plot_args\u001b[1;34m(self, tup, kwargs, return_kwargs)\u001b[0m\n\u001b[0;32m    495\u001b[0m     \u001b[38;5;28mself\u001b[39m\u001b[38;5;241m.\u001b[39maxes\u001b[38;5;241m.\u001b[39myaxis\u001b[38;5;241m.\u001b[39mupdate_units(y)\n\u001b[0;32m    497\u001b[0m \u001b[38;5;28;01mif\u001b[39;00m x\u001b[38;5;241m.\u001b[39mshape[\u001b[38;5;241m0\u001b[39m] \u001b[38;5;241m!=\u001b[39m y\u001b[38;5;241m.\u001b[39mshape[\u001b[38;5;241m0\u001b[39m]:\n\u001b[1;32m--> 498\u001b[0m     \u001b[38;5;28;01mraise\u001b[39;00m \u001b[38;5;167;01mValueError\u001b[39;00m(\u001b[38;5;124mf\u001b[39m\u001b[38;5;124m\"\u001b[39m\u001b[38;5;124mx and y must have same first dimension, but \u001b[39m\u001b[38;5;124m\"\u001b[39m\n\u001b[0;32m    499\u001b[0m                      \u001b[38;5;124mf\u001b[39m\u001b[38;5;124m\"\u001b[39m\u001b[38;5;124mhave shapes \u001b[39m\u001b[38;5;132;01m{\u001b[39;00mx\u001b[38;5;241m.\u001b[39mshape\u001b[38;5;132;01m}\u001b[39;00m\u001b[38;5;124m and \u001b[39m\u001b[38;5;132;01m{\u001b[39;00my\u001b[38;5;241m.\u001b[39mshape\u001b[38;5;132;01m}\u001b[39;00m\u001b[38;5;124m\"\u001b[39m)\n\u001b[0;32m    500\u001b[0m \u001b[38;5;28;01mif\u001b[39;00m x\u001b[38;5;241m.\u001b[39mndim \u001b[38;5;241m>\u001b[39m \u001b[38;5;241m2\u001b[39m \u001b[38;5;129;01mor\u001b[39;00m y\u001b[38;5;241m.\u001b[39mndim \u001b[38;5;241m>\u001b[39m \u001b[38;5;241m2\u001b[39m:\n\u001b[0;32m    501\u001b[0m     \u001b[38;5;28;01mraise\u001b[39;00m \u001b[38;5;167;01mValueError\u001b[39;00m(\u001b[38;5;124mf\u001b[39m\u001b[38;5;124m\"\u001b[39m\u001b[38;5;124mx and y can be no greater than 2D, but have \u001b[39m\u001b[38;5;124m\"\u001b[39m\n\u001b[0;32m    502\u001b[0m                      \u001b[38;5;124mf\u001b[39m\u001b[38;5;124m\"\u001b[39m\u001b[38;5;124mshapes \u001b[39m\u001b[38;5;132;01m{\u001b[39;00mx\u001b[38;5;241m.\u001b[39mshape\u001b[38;5;132;01m}\u001b[39;00m\u001b[38;5;124m and \u001b[39m\u001b[38;5;132;01m{\u001b[39;00my\u001b[38;5;241m.\u001b[39mshape\u001b[38;5;132;01m}\u001b[39;00m\u001b[38;5;124m\"\u001b[39m)\n",
            "\u001b[1;31mValueError\u001b[0m: x and y must have same first dimension, but have shapes (2,) and (1,)"
          ]
        },
        {
          "data": {
            "image/png": "[encoded data removed]",
            "text/plain": [
              "<Figure size 432x288 with 1 Axes>"
            ]
          },
          "metadata": {
            "needs_background": "light"
          },
          "output_type": "display_data"
        }
      ],
      "source": [
        "plt.plot(range(2), pca.explained_variance_ratio_,label=\"Variance-ratio\")\n",
        "plt.plot(range(2), np.cumsum(pca.explained_variance_ratio_),label=\"cumulative variance-ratio\")\n",
        "plt.title(\"Component-wise and Cumulative Explained Variance\")\n",
        "plt.xlabel(\"No.of components\")\n",
        "plt.ylabel(\"Data_explained\")"
      ]
    },
    {
      "cell_type": "code",
      "execution_count": null,
      "metadata": {
        "id": "h1og-E3m-sID",
        "outputId": "4e748f15-47d2-4dda-a6b7-4ddcb1291180"
      },
      "outputs": [
        {
          "name": "stderr",
          "output_type": "stream",
          "text": [
            "C:\\Users\\shiny\\AppData\\Local\\Temp\\ipykernel_8944\\1269264156.py:8: DataConversionWarning: A column-vector y was passed when a 1d array was expected. Please change the shape of y to (n_samples,), for example using ravel().\n",
            "  df.fit(X_train,y_train)\n"
          ]
        },
        {
          "data": {
            "text/plain": [
              "RandomForestClassifier(max_depth=8, n_estimators=5)"
            ]
          },
          "execution_count": 78,
          "metadata": {},
          "output_type": "execute_result"
        }
      ],
      "source": [
        "#Random Forests\n",
        "\n",
        "from sklearn.model_selection import train_test_split\n",
        "\n",
        "from sklearn.ensemble import RandomForestClassifier\n",
        "X_train, X_test, Y_train, Y_test = train_test_split(X, Y, test_size = 0.2,random_state=123)\n",
        "df= RandomForestClassifier(max_depth=8,n_estimators=5)\n",
        "df.fit(X_train,y_train)\n"
      ]
    },
    {
      "cell_type": "code",
      "execution_count": null,
      "metadata": {
        "id": "Wf6zFqxp-sID"
      },
      "outputs": [],
      "source": [
        "y_pred = df.predict(X_test)"
      ]
    },
    {
      "cell_type": "code",
      "execution_count": null,
      "metadata": {
        "id": "rPocGjyC-sIE",
        "outputId": "3afd05a0-5e73-40ea-9cc4-7bec4db15497"
      },
      "outputs": [
        {
          "data": {
            "text/plain": [
              "0.7686567164179104"
            ]
          },
          "execution_count": 80,
          "metadata": {},
          "output_type": "execute_result"
        }
      ],
      "source": [
        "df.score(X_test, Y_test)"
      ]
    },
    {
      "cell_type": "code",
      "execution_count": null,
      "metadata": {
        "id": "NU8pMx0b-sIF",
        "outputId": "e6183ba9-3276-41d8-8f1e-1783ab32b9c9"
      },
      "outputs": [
        {
          "name": "stderr",
          "output_type": "stream",
          "text": [
            "E:\\Anaconda\\lib\\site-packages\\sklearn\\model_selection\\_validation.py:680: DataConversionWarning: A column-vector y was passed when a 1d array was expected. Please change the shape of y to (n_samples,), for example using ravel().\n",
            "  estimator.fit(X_train, y_train, **fit_params)\n",
            "E:\\Anaconda\\lib\\site-packages\\sklearn\\model_selection\\_validation.py:680: DataConversionWarning: A column-vector y was passed when a 1d array was expected. Please change the shape of y to (n_samples,), for example using ravel().\n",
            "  estimator.fit(X_train, y_train, **fit_params)\n",
            "E:\\Anaconda\\lib\\site-packages\\sklearn\\model_selection\\_validation.py:680: DataConversionWarning: A column-vector y was passed when a 1d array was expected. Please change the shape of y to (n_samples,), for example using ravel().\n",
            "  estimator.fit(X_train, y_train, **fit_params)\n",
            "E:\\Anaconda\\lib\\site-packages\\sklearn\\model_selection\\_validation.py:680: DataConversionWarning: A column-vector y was passed when a 1d array was expected. Please change the shape of y to (n_samples,), for example using ravel().\n",
            "  estimator.fit(X_train, y_train, **fit_params)\n",
            "E:\\Anaconda\\lib\\site-packages\\sklearn\\model_selection\\_validation.py:680: DataConversionWarning: A column-vector y was passed when a 1d array was expected. Please change the shape of y to (n_samples,), for example using ravel().\n",
            "  estimator.fit(X_train, y_train, **fit_params)\n",
            "E:\\Anaconda\\lib\\site-packages\\sklearn\\model_selection\\_validation.py:680: DataConversionWarning: A column-vector y was passed when a 1d array was expected. Please change the shape of y to (n_samples,), for example using ravel().\n",
            "  estimator.fit(X_train, y_train, **fit_params)\n",
            "E:\\Anaconda\\lib\\site-packages\\sklearn\\model_selection\\_validation.py:680: DataConversionWarning: A column-vector y was passed when a 1d array was expected. Please change the shape of y to (n_samples,), for example using ravel().\n",
            "  estimator.fit(X_train, y_train, **fit_params)\n",
            "E:\\Anaconda\\lib\\site-packages\\sklearn\\model_selection\\_validation.py:680: DataConversionWarning: A column-vector y was passed when a 1d array was expected. Please change the shape of y to (n_samples,), for example using ravel().\n",
            "  estimator.fit(X_train, y_train, **fit_params)\n",
            "E:\\Anaconda\\lib\\site-packages\\sklearn\\model_selection\\_validation.py:680: DataConversionWarning: A column-vector y was passed when a 1d array was expected. Please change the shape of y to (n_samples,), for example using ravel().\n",
            "  estimator.fit(X_train, y_train, **fit_params)\n",
            "E:\\Anaconda\\lib\\site-packages\\sklearn\\model_selection\\_validation.py:680: DataConversionWarning: A column-vector y was passed when a 1d array was expected. Please change the shape of y to (n_samples,), for example using ravel().\n",
            "  estimator.fit(X_train, y_train, **fit_params)\n"
          ]
        },
        {
          "data": {
            "text/plain": [
              "array([0.75925926, 0.66666667, 0.77358491, 0.69811321, 0.73584906,\n",
              "       0.75471698, 0.77358491, 0.8490566 , 0.79245283, 0.77358491])"
            ]
          },
          "execution_count": 97,
          "metadata": {},
          "output_type": "execute_result"
        }
      ],
      "source": [
        "\n",
        "from sklearn.model_selection import cross_val_score\n",
        "\n",
        "scores = cross_val_score(df, X_train, Y_train,cv=10)\n",
        "\n",
        "scores"
      ]
    },
    {
      "cell_type": "code",
      "execution_count": null,
      "metadata": {
        "id": "Aogg61RP-sIG",
        "outputId": "5c2518d2-98b6-4454-afb5-860d29768195"
      },
      "outputs": [
        {
          "name": "stdout",
          "output_type": "stream",
          "text": [
            "Accuracy: 0.76 (+/- 0.14)\n"
          ]
        }
      ],
      "source": [
        "print(\"Accuracy: %0.2f (+/- %0.2f)\" % (scores.mean(), 3* scores.std() ))"
      ]
    },
    {
      "cell_type": "code",
      "execution_count": null,
      "metadata": {
        "id": "VBq3ncQ2-sIG"
      },
      "outputs": [],
      "source": [
        "#knn classification"
      ]
    },
    {
      "cell_type": "code",
      "execution_count": null,
      "metadata": {
        "id": "qysPmhcd-sIH"
      },
      "outputs": [],
      "source": [
        "from sklearn.neighbors import KNeighborsClassifier\n",
        "clf_entropy=KNeighborsClassifier(n_neighbors=19, p=2, weights='distance')"
      ]
    },
    {
      "cell_type": "code",
      "execution_count": null,
      "metadata": {
        "id": "wUYvqeUd-sIH",
        "outputId": "597c20a4-0cd2-46c9-8242-54916eb87385"
      },
      "outputs": [
        {
          "name": "stderr",
          "output_type": "stream",
          "text": [
            "E:\\Anaconda\\lib\\site-packages\\sklearn\\neighbors\\_classification.py:198: DataConversionWarning: A column-vector y was passed when a 1d array was expected. Please change the shape of y to (n_samples,), for example using ravel().\n",
            "  return self._fit(X, y)\n"
          ]
        },
        {
          "data": {
            "text/plain": [
              "KNeighborsClassifier(n_neighbors=19, weights='distance')"
            ]
          },
          "execution_count": 83,
          "metadata": {},
          "output_type": "execute_result"
        }
      ],
      "source": [
        "clf_entropy.fit(X_train,y_train)"
      ]
    },
    {
      "cell_type": "code",
      "execution_count": null,
      "metadata": {
        "id": "hJn3q1Ox-sIH"
      },
      "outputs": [],
      "source": [
        "predicted_entropy = clf_entropy.predict(X_test)"
      ]
    },
    {
      "cell_type": "code",
      "execution_count": null,
      "metadata": {
        "id": "AHp-P1Hc-sIH",
        "outputId": "d61a5bff-7a88-485e-f0ec-9be4b4d636a5"
      },
      "outputs": [
        {
          "name": "stdout",
          "output_type": "stream",
          "text": [
            "[[30 34]\n",
            " [ 6 64]]\n"
          ]
        }
      ],
      "source": [
        "from  sklearn.metrics import confusion_matrix\n",
        "cM = confusion_matrix(Y_test,predicted_entropy)\n",
        "print(cM)"
      ]
    },
    {
      "cell_type": "code",
      "execution_count": null,
      "metadata": {
        "id": "sWQFMlYH-sII",
        "outputId": "2ec76852-6a36-46cc-d332-6407ff67f62e"
      },
      "outputs": [
        {
          "name": "stdout",
          "output_type": "stream",
          "text": [
            "Accuracy= 0.7014925373134329\n"
          ]
        }
      ],
      "source": [
        "tn, fn, fp, tp = cM.ravel()\n",
        "print(\"Accuracy=\",(tp+tn)/(tp+tn+fp+fn))"
      ]
    },
    {
      "cell_type": "code",
      "execution_count": null,
      "metadata": {
        "id": "rAztzEvm-sIJ",
        "outputId": "b7b7f65a-f034-41ec-e79f-5e9809940f37"
      },
      "outputs": [
        {
          "name": "stdout",
          "output_type": "stream",
          "text": [
            "Recall = Sensitivity =  0.6530612244897959\n",
            "Specificity = 0.8333333333333334\n",
            "Precision= 0.9142857142857143\n",
            "f1 score= 0.7619047619047618\n"
          ]
        }
      ],
      "source": [
        "recall = tp/(tp+fn)\n",
        "precision=tp/(tp+fp)\n",
        "print(\"Recall = Sensitivity = \",tp/(tp+fn))\n",
        "print(\"Specificity =\", tn/(tn+fp))\n",
        "\n",
        "print(\"Precision=\",tp/(tp+fp))\n",
        "f1score= 2 *(recall*precision)/(precision+recall)\n",
        "print(\"f1 score=\", f1score)"
      ]
    },
    {
      "cell_type": "code",
      "execution_count": null,
      "metadata": {
        "id": "4xQRtKid-sIK",
        "outputId": "d281e36e-d399-48bb-bb7c-1d2767d0fa02"
      },
      "outputs": [
        {
          "ename": "ValueError",
          "evalue": "y_true takes value in {'+', '-'} and pos_label is not specified: either make y_true take value in {0, 1} or {-1, 1} or pass pos_label explicitly.",
          "output_type": "error",
          "traceback": [
            "\u001b[1;31m---------------------------------------------------------------------------\u001b[0m",
            "\u001b[1;31mValueError\u001b[0m                                Traceback (most recent call last)",
            "Input \u001b[1;32mIn [88]\u001b[0m, in \u001b[0;36m<cell line: 3>\u001b[1;34m()\u001b[0m\n\u001b[0;32m      1\u001b[0m \u001b[38;5;28;01mfrom\u001b[39;00m \u001b[38;5;21;01msklearn\u001b[39;00m\u001b[38;5;21;01m.\u001b[39;00m\u001b[38;5;21;01mmetrics\u001b[39;00m \u001b[38;5;28;01mimport\u001b[39;00m roc_curve\n\u001b[0;32m      2\u001b[0m \u001b[38;5;28;01mfrom\u001b[39;00m  \u001b[38;5;21;01msklearn\u001b[39;00m\u001b[38;5;21;01m.\u001b[39;00m\u001b[38;5;21;01mmetrics\u001b[39;00m \u001b[38;5;28;01mimport\u001b[39;00m auc\n\u001b[1;32m----> 3\u001b[0m fpr, tpr, thresholds \u001b[38;5;241m=\u001b[39m \u001b[43mroc_curve\u001b[49m\u001b[43m(\u001b[49m\u001b[43mY_test\u001b[49m\u001b[43m,\u001b[49m\u001b[43mpredicted_entropy\u001b[49m\u001b[43m)\u001b[49m\n\u001b[0;32m      4\u001b[0m aucP\u001b[38;5;241m=\u001b[39mauc(fpr, tpr)\n\u001b[0;32m      6\u001b[0m \u001b[38;5;28mprint\u001b[39m(\u001b[38;5;124m'\u001b[39m\u001b[38;5;124mauc of ROC curve = \u001b[39m\u001b[38;5;124m'\u001b[39m, aucP)\n",
            "File \u001b[1;32mE:\\Anaconda\\lib\\site-packages\\sklearn\\metrics\\_ranking.py:962\u001b[0m, in \u001b[0;36mroc_curve\u001b[1;34m(y_true, y_score, pos_label, sample_weight, drop_intermediate)\u001b[0m\n\u001b[0;32m    873\u001b[0m \u001b[38;5;28;01mdef\u001b[39;00m \u001b[38;5;21mroc_curve\u001b[39m(\n\u001b[0;32m    874\u001b[0m     y_true, y_score, \u001b[38;5;241m*\u001b[39m, pos_label\u001b[38;5;241m=\u001b[39m\u001b[38;5;28;01mNone\u001b[39;00m, sample_weight\u001b[38;5;241m=\u001b[39m\u001b[38;5;28;01mNone\u001b[39;00m, drop_intermediate\u001b[38;5;241m=\u001b[39m\u001b[38;5;28;01mTrue\u001b[39;00m\n\u001b[0;32m    875\u001b[0m ):\n\u001b[0;32m    876\u001b[0m     \u001b[38;5;124;03m\"\"\"Compute Receiver operating characteristic (ROC).\u001b[39;00m\n\u001b[0;32m    877\u001b[0m \n\u001b[0;32m    878\u001b[0m \u001b[38;5;124;03m    Note: this implementation is restricted to the binary classification task.\u001b[39;00m\n\u001b[1;32m   (...)\u001b[0m\n\u001b[0;32m    960\u001b[0m \n\u001b[0;32m    961\u001b[0m \u001b[38;5;124;03m    \"\"\"\u001b[39;00m\n\u001b[1;32m--> 962\u001b[0m     fps, tps, thresholds \u001b[38;5;241m=\u001b[39m \u001b[43m_binary_clf_curve\u001b[49m\u001b[43m(\u001b[49m\n\u001b[0;32m    963\u001b[0m \u001b[43m        \u001b[49m\u001b[43my_true\u001b[49m\u001b[43m,\u001b[49m\u001b[43m \u001b[49m\u001b[43my_score\u001b[49m\u001b[43m,\u001b[49m\u001b[43m \u001b[49m\u001b[43mpos_label\u001b[49m\u001b[38;5;241;43m=\u001b[39;49m\u001b[43mpos_label\u001b[49m\u001b[43m,\u001b[49m\u001b[43m \u001b[49m\u001b[43msample_weight\u001b[49m\u001b[38;5;241;43m=\u001b[39;49m\u001b[43msample_weight\u001b[49m\n\u001b[0;32m    964\u001b[0m \u001b[43m    \u001b[49m\u001b[43m)\u001b[49m\n\u001b[0;32m    966\u001b[0m     \u001b[38;5;66;03m# Attempt to drop thresholds corresponding to points in between and\u001b[39;00m\n\u001b[0;32m    967\u001b[0m     \u001b[38;5;66;03m# collinear with other points. These are always suboptimal and do not\u001b[39;00m\n\u001b[0;32m    968\u001b[0m     \u001b[38;5;66;03m# appear on a plotted ROC curve (and thus do not affect the AUC).\u001b[39;00m\n\u001b[1;32m   (...)\u001b[0m\n\u001b[0;32m    973\u001b[0m     \u001b[38;5;66;03m# but does not drop more complicated cases like fps = [1, 3, 7],\u001b[39;00m\n\u001b[0;32m    974\u001b[0m     \u001b[38;5;66;03m# tps = [1, 2, 4]; there is no harm in keeping too many thresholds.\u001b[39;00m\n\u001b[0;32m    975\u001b[0m     \u001b[38;5;28;01mif\u001b[39;00m drop_intermediate \u001b[38;5;129;01mand\u001b[39;00m \u001b[38;5;28mlen\u001b[39m(fps) \u001b[38;5;241m>\u001b[39m \u001b[38;5;241m2\u001b[39m:\n",
            "File \u001b[1;32mE:\\Anaconda\\lib\\site-packages\\sklearn\\metrics\\_ranking.py:748\u001b[0m, in \u001b[0;36m_binary_clf_curve\u001b[1;34m(y_true, y_score, pos_label, sample_weight)\u001b[0m\n\u001b[0;32m    745\u001b[0m     y_score \u001b[38;5;241m=\u001b[39m y_score[nonzero_weight_mask]\n\u001b[0;32m    746\u001b[0m     sample_weight \u001b[38;5;241m=\u001b[39m sample_weight[nonzero_weight_mask]\n\u001b[1;32m--> 748\u001b[0m pos_label \u001b[38;5;241m=\u001b[39m \u001b[43m_check_pos_label_consistency\u001b[49m\u001b[43m(\u001b[49m\u001b[43mpos_label\u001b[49m\u001b[43m,\u001b[49m\u001b[43m \u001b[49m\u001b[43my_true\u001b[49m\u001b[43m)\u001b[49m\n\u001b[0;32m    750\u001b[0m \u001b[38;5;66;03m# make y_true a boolean vector\u001b[39;00m\n\u001b[0;32m    751\u001b[0m y_true \u001b[38;5;241m=\u001b[39m y_true \u001b[38;5;241m==\u001b[39m pos_label\n",
            "File \u001b[1;32mE:\\Anaconda\\lib\\site-packages\\sklearn\\metrics\\_base.py:243\u001b[0m, in \u001b[0;36m_check_pos_label_consistency\u001b[1;34m(pos_label, y_true)\u001b[0m\n\u001b[0;32m    232\u001b[0m \u001b[38;5;28;01mif\u001b[39;00m pos_label \u001b[38;5;129;01mis\u001b[39;00m \u001b[38;5;28;01mNone\u001b[39;00m \u001b[38;5;129;01mand\u001b[39;00m (\n\u001b[0;32m    233\u001b[0m     classes\u001b[38;5;241m.\u001b[39mdtype\u001b[38;5;241m.\u001b[39mkind \u001b[38;5;129;01min\u001b[39;00m \u001b[38;5;124m\"\u001b[39m\u001b[38;5;124mOUS\u001b[39m\u001b[38;5;124m\"\u001b[39m\n\u001b[0;32m    234\u001b[0m     \u001b[38;5;129;01mor\u001b[39;00m \u001b[38;5;129;01mnot\u001b[39;00m (\n\u001b[1;32m   (...)\u001b[0m\n\u001b[0;32m    240\u001b[0m     )\n\u001b[0;32m    241\u001b[0m ):\n\u001b[0;32m    242\u001b[0m     classes_repr \u001b[38;5;241m=\u001b[39m \u001b[38;5;124m\"\u001b[39m\u001b[38;5;124m, \u001b[39m\u001b[38;5;124m\"\u001b[39m\u001b[38;5;241m.\u001b[39mjoin(\u001b[38;5;28mrepr\u001b[39m(c) \u001b[38;5;28;01mfor\u001b[39;00m c \u001b[38;5;129;01min\u001b[39;00m classes)\n\u001b[1;32m--> 243\u001b[0m     \u001b[38;5;28;01mraise\u001b[39;00m \u001b[38;5;167;01mValueError\u001b[39;00m(\n\u001b[0;32m    244\u001b[0m         \u001b[38;5;124mf\u001b[39m\u001b[38;5;124m\"\u001b[39m\u001b[38;5;124my_true takes value in \u001b[39m\u001b[38;5;130;01m{{\u001b[39;00m\u001b[38;5;132;01m{\u001b[39;00mclasses_repr\u001b[38;5;132;01m}\u001b[39;00m\u001b[38;5;130;01m}}\u001b[39;00m\u001b[38;5;124m and pos_label is not \u001b[39m\u001b[38;5;124m\"\u001b[39m\n\u001b[0;32m    245\u001b[0m         \u001b[38;5;124m\"\u001b[39m\u001b[38;5;124mspecified: either make y_true take value in \u001b[39m\u001b[38;5;124m{\u001b[39m\u001b[38;5;124m0, 1} or \u001b[39m\u001b[38;5;124m\"\u001b[39m\n\u001b[0;32m    246\u001b[0m         \u001b[38;5;124m\"\u001b[39m\u001b[38;5;124m{\u001b[39m\u001b[38;5;124m-1, 1} or pass pos_label explicitly.\u001b[39m\u001b[38;5;124m\"\u001b[39m\n\u001b[0;32m    247\u001b[0m     )\n\u001b[0;32m    248\u001b[0m \u001b[38;5;28;01melif\u001b[39;00m pos_label \u001b[38;5;129;01mis\u001b[39;00m \u001b[38;5;28;01mNone\u001b[39;00m:\n\u001b[0;32m    249\u001b[0m     pos_label \u001b[38;5;241m=\u001b[39m \u001b[38;5;241m1\u001b[39m\n",
            "\u001b[1;31mValueError\u001b[0m: y_true takes value in {'+', '-'} and pos_label is not specified: either make y_true take value in {0, 1} or {-1, 1} or pass pos_label explicitly."
          ]
        }
      ],
      "source": [
        "from sklearn.metrics import roc_curve\n",
        "from  sklearn.metrics import auc\n",
        "fpr, tpr, thresholds = roc_curve(Y_test,predicted_entropy)\n",
        "aucP=auc(fpr, tpr)\n",
        "\n",
        "print('auc of ROC curve = ', aucP)"
      ]
    },
    {
      "cell_type": "code",
      "execution_count": null,
      "metadata": {
        "id": "3W1_XuYV-sIK",
        "outputId": "be87af76-9067-4828-eb8d-fc93bbb98109"
      },
      "outputs": [
        {
          "name": "stderr",
          "output_type": "stream",
          "text": [
            "E:\\Anaconda\\lib\\site-packages\\sklearn\\model_selection\\_validation.py:680: DataConversionWarning: A column-vector y was passed when a 1d array was expected. Please change the shape of y to (n_samples,), for example using ravel().\n",
            "  estimator.fit(X_train, y_train, **fit_params)\n",
            "E:\\Anaconda\\lib\\site-packages\\sklearn\\model_selection\\_validation.py:680: DataConversionWarning: A column-vector y was passed when a 1d array was expected. Please change the shape of y to (n_samples,), for example using ravel().\n",
            "  estimator.fit(X_train, y_train, **fit_params)\n",
            "E:\\Anaconda\\lib\\site-packages\\sklearn\\model_selection\\_validation.py:680: DataConversionWarning: A column-vector y was passed when a 1d array was expected. Please change the shape of y to (n_samples,), for example using ravel().\n",
            "  estimator.fit(X_train, y_train, **fit_params)\n",
            "E:\\Anaconda\\lib\\site-packages\\sklearn\\model_selection\\_validation.py:680: DataConversionWarning: A column-vector y was passed when a 1d array was expected. Please change the shape of y to (n_samples,), for example using ravel().\n",
            "  estimator.fit(X_train, y_train, **fit_params)\n",
            "E:\\Anaconda\\lib\\site-packages\\sklearn\\model_selection\\_validation.py:680: DataConversionWarning: A column-vector y was passed when a 1d array was expected. Please change the shape of y to (n_samples,), for example using ravel().\n",
            "  estimator.fit(X_train, y_train, **fit_params)\n",
            "E:\\Anaconda\\lib\\site-packages\\sklearn\\model_selection\\_validation.py:680: DataConversionWarning: A column-vector y was passed when a 1d array was expected. Please change the shape of y to (n_samples,), for example using ravel().\n",
            "  estimator.fit(X_train, y_train, **fit_params)\n",
            "E:\\Anaconda\\lib\\site-packages\\sklearn\\model_selection\\_validation.py:680: DataConversionWarning: A column-vector y was passed when a 1d array was expected. Please change the shape of y to (n_samples,), for example using ravel().\n",
            "  estimator.fit(X_train, y_train, **fit_params)\n",
            "E:\\Anaconda\\lib\\site-packages\\sklearn\\model_selection\\_validation.py:680: DataConversionWarning: A column-vector y was passed when a 1d array was expected. Please change the shape of y to (n_samples,), for example using ravel().\n",
            "  estimator.fit(X_train, y_train, **fit_params)\n",
            "E:\\Anaconda\\lib\\site-packages\\sklearn\\model_selection\\_validation.py:680: DataConversionWarning: A column-vector y was passed when a 1d array was expected. Please change the shape of y to (n_samples,), for example using ravel().\n",
            "  estimator.fit(X_train, y_train, **fit_params)\n",
            "E:\\Anaconda\\lib\\site-packages\\sklearn\\model_selection\\_validation.py:680: DataConversionWarning: A column-vector y was passed when a 1d array was expected. Please change the shape of y to (n_samples,), for example using ravel().\n",
            "  estimator.fit(X_train, y_train, **fit_params)\n"
          ]
        },
        {
          "data": {
            "text/plain": [
              "array([0.7962963 , 0.72222222, 0.73584906, 0.67924528, 0.67924528,\n",
              "       0.66037736, 0.79245283, 0.8490566 , 0.64150943, 0.81132075])"
            ]
          },
          "execution_count": 100,
          "metadata": {},
          "output_type": "execute_result"
        }
      ],
      "source": [
        "\n",
        "from sklearn.model_selection import cross_val_score\n",
        "\n",
        "scores = cross_val_score(df, X_train, Y_train,cv=10)\n",
        "\n",
        "scores"
      ]
    },
    {
      "cell_type": "code",
      "execution_count": null,
      "metadata": {
        "id": "ho730IBR-sIK",
        "outputId": "dd0f3e03-78e8-45ea-d475-8b250b2fd866"
      },
      "outputs": [
        {
          "name": "stdout",
          "output_type": "stream",
          "text": [
            "Accuracy: 0.74 (+/- 0.20)\n"
          ]
        }
      ],
      "source": [
        "print(\"Accuracy: %0.2f (+/- %0.2f)\" % (scores.mean(), 3* scores.std() ))"
      ]
    },
    {
      "cell_type": "code",
      "execution_count": null,
      "metadata": {
        "id": "eoicDmyX-sIL"
      },
      "outputs": [],
      "source": [
        "#Logistic Regression"
      ]
    },
    {
      "cell_type": "code",
      "execution_count": null,
      "metadata": {
        "id": "QxH4PKue-sIL"
      },
      "outputs": [],
      "source": [
        "from sklearn.linear_model import LogisticRegression\n",
        "clf_entropy = LogisticRegression()"
      ]
    },
    {
      "cell_type": "code",
      "execution_count": null,
      "metadata": {
        "id": "Kl-ClEWS-sIM",
        "outputId": "affefb4c-eef9-42b6-88c1-c40188b475f7"
      },
      "outputs": [
        {
          "name": "stderr",
          "output_type": "stream",
          "text": [
            "E:\\Anaconda\\lib\\site-packages\\sklearn\\utils\\validation.py:993: DataConversionWarning: A column-vector y was passed when a 1d array was expected. Please change the shape of y to (n_samples, ), for example using ravel().\n",
            "  y = column_or_1d(y, warn=True)\n",
            "E:\\Anaconda\\lib\\site-packages\\sklearn\\linear_model\\_logistic.py:814: ConvergenceWarning: lbfgs failed to converge (status=1):\n",
            "STOP: TOTAL NO. of ITERATIONS REACHED LIMIT.\n",
            "\n",
            "Increase the number of iterations (max_iter) or scale the data as shown in:\n",
            "    https://scikit-learn.org/stable/modules/preprocessing.html\n",
            "Please also refer to the documentation for alternative solver options:\n",
            "    https://scikit-learn.org/stable/modules/linear_model.html#logistic-regression\n",
            "  n_iter_i = _check_optimize_result(\n"
          ]
        },
        {
          "data": {
            "text/plain": [
              "LogisticRegression()"
            ]
          },
          "execution_count": 104,
          "metadata": {},
          "output_type": "execute_result"
        }
      ],
      "source": [
        "clf_entropy.fit(X_train,Y_train)"
      ]
    },
    {
      "cell_type": "code",
      "execution_count": null,
      "metadata": {
        "id": "UP7pYRPK-sIM"
      },
      "outputs": [],
      "source": [
        "predicted_entropy = clf_entropy.predict(X_test)"
      ]
    },
    {
      "cell_type": "code",
      "execution_count": null,
      "metadata": {
        "id": "gVEfkjOq-sIM",
        "outputId": "5acd6eab-67e8-4db8-ba59-911d973aa001"
      },
      "outputs": [
        {
          "name": "stdout",
          "output_type": "stream",
          "text": [
            "[[37 27]\n",
            " [ 5 65]]\n"
          ]
        }
      ],
      "source": [
        "from  sklearn.metrics import confusion_matrix\n",
        "cM = confusion_matrix(Y_test,predicted_entropy)\n",
        "print(cM)"
      ]
    },
    {
      "cell_type": "code",
      "execution_count": null,
      "metadata": {
        "id": "en1TttZy-sIN",
        "outputId": "79296f55-3d9f-49e1-8e5e-aa2f914c5031"
      },
      "outputs": [
        {
          "name": "stdout",
          "output_type": "stream",
          "text": [
            "Accuracy= 0.7611940298507462\n"
          ]
        }
      ],
      "source": [
        "tn, fn, fp, tp = cM.ravel()\n",
        "print(\"Accuracy=\",(tp+tn)/(tp+tn+fp+fn))\n"
      ]
    },
    {
      "cell_type": "code",
      "execution_count": null,
      "metadata": {
        "id": "KtO6Kn59-sIN",
        "outputId": "df249eb8-c0fe-4a17-c59e-abf9334f0598"
      },
      "outputs": [
        {
          "name": "stdout",
          "output_type": "stream",
          "text": [
            "Recall = Sensitivity =  0.7065217391304348\n",
            "Specificity = 0.8809523809523809\n",
            "Precision= 0.9285714285714286\n",
            "f1 score= 0.8024691358024691\n"
          ]
        }
      ],
      "source": [
        "recall = tp/(tp+fn)\n",
        "precision=tp/(tp+fp)\n",
        "print(\"Recall = Sensitivity = \",tp/(tp+fn))\n",
        "print(\"Specificity =\", tn/(tn+fp))\n",
        "\n",
        "print(\"Precision=\",tp/(tp+fp))\n",
        "f1score= 2 *(recall*precision)/(precision+recall)\n",
        "print(\"f1 score=\", f1score)"
      ]
    },
    {
      "cell_type": "code",
      "execution_count": null,
      "metadata": {
        "id": "5dP-uZJR-sIO",
        "outputId": "b4c60872-018d-49bc-e19e-24433c19480b"
      },
      "outputs": [
        {
          "ename": "ValueError",
          "evalue": "y_true takes value in {1, 2} and pos_label is not specified: either make y_true take value in {0, 1} or {-1, 1} or pass pos_label explicitly.",
          "output_type": "error",
          "traceback": [
            "\u001b[1;31m---------------------------------------------------------------------------\u001b[0m",
            "\u001b[1;31mValueError\u001b[0m                                Traceback (most recent call last)",
            "Input \u001b[1;32mIn [46]\u001b[0m, in \u001b[0;36m<cell line: 3>\u001b[1;34m()\u001b[0m\n\u001b[0;32m      1\u001b[0m \u001b[38;5;28;01mfrom\u001b[39;00m \u001b[38;5;21;01msklearn\u001b[39;00m\u001b[38;5;21;01m.\u001b[39;00m\u001b[38;5;21;01mmetrics\u001b[39;00m \u001b[38;5;28;01mimport\u001b[39;00m roc_curve\n\u001b[0;32m      2\u001b[0m \u001b[38;5;28;01mfrom\u001b[39;00m  \u001b[38;5;21;01msklearn\u001b[39;00m\u001b[38;5;21;01m.\u001b[39;00m\u001b[38;5;21;01mmetrics\u001b[39;00m \u001b[38;5;28;01mimport\u001b[39;00m auc\n\u001b[1;32m----> 3\u001b[0m fpr, tpr, thresholds \u001b[38;5;241m=\u001b[39m \u001b[43mroc_curve\u001b[49m\u001b[43m(\u001b[49m\u001b[43mY_test\u001b[49m\u001b[43m,\u001b[49m\u001b[43mpredicted_entropy\u001b[49m\u001b[43m)\u001b[49m\n\u001b[0;32m      4\u001b[0m aucP\u001b[38;5;241m=\u001b[39mauc(fpr, tpr)\n\u001b[0;32m      6\u001b[0m \u001b[38;5;28mprint\u001b[39m(\u001b[38;5;124m'\u001b[39m\u001b[38;5;124mauc of ROC curve = \u001b[39m\u001b[38;5;124m'\u001b[39m, aucP)\n",
            "File \u001b[1;32mE:\\Anaconda\\lib\\site-packages\\sklearn\\metrics\\_ranking.py:962\u001b[0m, in \u001b[0;36mroc_curve\u001b[1;34m(y_true, y_score, pos_label, sample_weight, drop_intermediate)\u001b[0m\n\u001b[0;32m    873\u001b[0m \u001b[38;5;28;01mdef\u001b[39;00m \u001b[38;5;21mroc_curve\u001b[39m(\n\u001b[0;32m    874\u001b[0m     y_true, y_score, \u001b[38;5;241m*\u001b[39m, pos_label\u001b[38;5;241m=\u001b[39m\u001b[38;5;28;01mNone\u001b[39;00m, sample_weight\u001b[38;5;241m=\u001b[39m\u001b[38;5;28;01mNone\u001b[39;00m, drop_intermediate\u001b[38;5;241m=\u001b[39m\u001b[38;5;28;01mTrue\u001b[39;00m\n\u001b[0;32m    875\u001b[0m ):\n\u001b[0;32m    876\u001b[0m     \u001b[38;5;124;03m\"\"\"Compute Receiver operating characteristic (ROC).\u001b[39;00m\n\u001b[0;32m    877\u001b[0m \n\u001b[0;32m    878\u001b[0m \u001b[38;5;124;03m    Note: this implementation is restricted to the binary classification task.\u001b[39;00m\n\u001b[1;32m   (...)\u001b[0m\n\u001b[0;32m    960\u001b[0m \n\u001b[0;32m    961\u001b[0m \u001b[38;5;124;03m    \"\"\"\u001b[39;00m\n\u001b[1;32m--> 962\u001b[0m     fps, tps, thresholds \u001b[38;5;241m=\u001b[39m \u001b[43m_binary_clf_curve\u001b[49m\u001b[43m(\u001b[49m\n\u001b[0;32m    963\u001b[0m \u001b[43m        \u001b[49m\u001b[43my_true\u001b[49m\u001b[43m,\u001b[49m\u001b[43m \u001b[49m\u001b[43my_score\u001b[49m\u001b[43m,\u001b[49m\u001b[43m \u001b[49m\u001b[43mpos_label\u001b[49m\u001b[38;5;241;43m=\u001b[39;49m\u001b[43mpos_label\u001b[49m\u001b[43m,\u001b[49m\u001b[43m \u001b[49m\u001b[43msample_weight\u001b[49m\u001b[38;5;241;43m=\u001b[39;49m\u001b[43msample_weight\u001b[49m\n\u001b[0;32m    964\u001b[0m \u001b[43m    \u001b[49m\u001b[43m)\u001b[49m\n\u001b[0;32m    966\u001b[0m     \u001b[38;5;66;03m# Attempt to drop thresholds corresponding to points in between and\u001b[39;00m\n\u001b[0;32m    967\u001b[0m     \u001b[38;5;66;03m# collinear with other points. These are always suboptimal and do not\u001b[39;00m\n\u001b[0;32m    968\u001b[0m     \u001b[38;5;66;03m# appear on a plotted ROC curve (and thus do not affect the AUC).\u001b[39;00m\n\u001b[1;32m   (...)\u001b[0m\n\u001b[0;32m    973\u001b[0m     \u001b[38;5;66;03m# but does not drop more complicated cases like fps = [1, 3, 7],\u001b[39;00m\n\u001b[0;32m    974\u001b[0m     \u001b[38;5;66;03m# tps = [1, 2, 4]; there is no harm in keeping too many thresholds.\u001b[39;00m\n\u001b[0;32m    975\u001b[0m     \u001b[38;5;28;01mif\u001b[39;00m drop_intermediate \u001b[38;5;129;01mand\u001b[39;00m \u001b[38;5;28mlen\u001b[39m(fps) \u001b[38;5;241m>\u001b[39m \u001b[38;5;241m2\u001b[39m:\n",
            "File \u001b[1;32mE:\\Anaconda\\lib\\site-packages\\sklearn\\metrics\\_ranking.py:748\u001b[0m, in \u001b[0;36m_binary_clf_curve\u001b[1;34m(y_true, y_score, pos_label, sample_weight)\u001b[0m\n\u001b[0;32m    745\u001b[0m     y_score \u001b[38;5;241m=\u001b[39m y_score[nonzero_weight_mask]\n\u001b[0;32m    746\u001b[0m     sample_weight \u001b[38;5;241m=\u001b[39m sample_weight[nonzero_weight_mask]\n\u001b[1;32m--> 748\u001b[0m pos_label \u001b[38;5;241m=\u001b[39m \u001b[43m_check_pos_label_consistency\u001b[49m\u001b[43m(\u001b[49m\u001b[43mpos_label\u001b[49m\u001b[43m,\u001b[49m\u001b[43m \u001b[49m\u001b[43my_true\u001b[49m\u001b[43m)\u001b[49m\n\u001b[0;32m    750\u001b[0m \u001b[38;5;66;03m# make y_true a boolean vector\u001b[39;00m\n\u001b[0;32m    751\u001b[0m y_true \u001b[38;5;241m=\u001b[39m y_true \u001b[38;5;241m==\u001b[39m pos_label\n",
            "File \u001b[1;32mE:\\Anaconda\\lib\\site-packages\\sklearn\\metrics\\_base.py:243\u001b[0m, in \u001b[0;36m_check_pos_label_consistency\u001b[1;34m(pos_label, y_true)\u001b[0m\n\u001b[0;32m    232\u001b[0m \u001b[38;5;28;01mif\u001b[39;00m pos_label \u001b[38;5;129;01mis\u001b[39;00m \u001b[38;5;28;01mNone\u001b[39;00m \u001b[38;5;129;01mand\u001b[39;00m (\n\u001b[0;32m    233\u001b[0m     classes\u001b[38;5;241m.\u001b[39mdtype\u001b[38;5;241m.\u001b[39mkind \u001b[38;5;129;01min\u001b[39;00m \u001b[38;5;124m\"\u001b[39m\u001b[38;5;124mOUS\u001b[39m\u001b[38;5;124m\"\u001b[39m\n\u001b[0;32m    234\u001b[0m     \u001b[38;5;129;01mor\u001b[39;00m \u001b[38;5;129;01mnot\u001b[39;00m (\n\u001b[1;32m   (...)\u001b[0m\n\u001b[0;32m    240\u001b[0m     )\n\u001b[0;32m    241\u001b[0m ):\n\u001b[0;32m    242\u001b[0m     classes_repr \u001b[38;5;241m=\u001b[39m \u001b[38;5;124m\"\u001b[39m\u001b[38;5;124m, \u001b[39m\u001b[38;5;124m\"\u001b[39m\u001b[38;5;241m.\u001b[39mjoin(\u001b[38;5;28mrepr\u001b[39m(c) \u001b[38;5;28;01mfor\u001b[39;00m c \u001b[38;5;129;01min\u001b[39;00m classes)\n\u001b[1;32m--> 243\u001b[0m     \u001b[38;5;28;01mraise\u001b[39;00m \u001b[38;5;167;01mValueError\u001b[39;00m(\n\u001b[0;32m    244\u001b[0m         \u001b[38;5;124mf\u001b[39m\u001b[38;5;124m\"\u001b[39m\u001b[38;5;124my_true takes value in \u001b[39m\u001b[38;5;130;01m{{\u001b[39;00m\u001b[38;5;132;01m{\u001b[39;00mclasses_repr\u001b[38;5;132;01m}\u001b[39;00m\u001b[38;5;130;01m}}\u001b[39;00m\u001b[38;5;124m and pos_label is not \u001b[39m\u001b[38;5;124m\"\u001b[39m\n\u001b[0;32m    245\u001b[0m         \u001b[38;5;124m\"\u001b[39m\u001b[38;5;124mspecified: either make y_true take value in \u001b[39m\u001b[38;5;124m{\u001b[39m\u001b[38;5;124m0, 1} or \u001b[39m\u001b[38;5;124m\"\u001b[39m\n\u001b[0;32m    246\u001b[0m         \u001b[38;5;124m\"\u001b[39m\u001b[38;5;124m{\u001b[39m\u001b[38;5;124m-1, 1} or pass pos_label explicitly.\u001b[39m\u001b[38;5;124m\"\u001b[39m\n\u001b[0;32m    247\u001b[0m     )\n\u001b[0;32m    248\u001b[0m \u001b[38;5;28;01melif\u001b[39;00m pos_label \u001b[38;5;129;01mis\u001b[39;00m \u001b[38;5;28;01mNone\u001b[39;00m:\n\u001b[0;32m    249\u001b[0m     pos_label \u001b[38;5;241m=\u001b[39m \u001b[38;5;241m1\u001b[39m\n",
            "\u001b[1;31mValueError\u001b[0m: y_true takes value in {1, 2} and pos_label is not specified: either make y_true take value in {0, 1} or {-1, 1} or pass pos_label explicitly."
          ]
        }
      ],
      "source": [
        "from sklearn.metrics import roc_curve\n",
        "from  sklearn.metrics import auc\n",
        "fpr, tpr, thresholds = roc_curve(Y_test,predicted_entropy)\n",
        "aucP=auc(fpr, tpr)\n",
        "\n",
        "print('auc of ROC curve = ', aucP)"
      ]
    },
    {
      "cell_type": "code",
      "execution_count": null,
      "metadata": {
        "id": "4dfZK4AB-sIO",
        "outputId": "f85faa7f-b3ec-407e-a671-8b9cf5cca49b"
      },
      "outputs": [
        {
          "name": "stderr",
          "output_type": "stream",
          "text": [
            "E:\\Anaconda\\lib\\site-packages\\sklearn\\model_selection\\_validation.py:680: DataConversionWarning: A column-vector y was passed when a 1d array was expected. Please change the shape of y to (n_samples,), for example using ravel().\n",
            "  estimator.fit(X_train, y_train, **fit_params)\n",
            "E:\\Anaconda\\lib\\site-packages\\sklearn\\model_selection\\_validation.py:680: DataConversionWarning: A column-vector y was passed when a 1d array was expected. Please change the shape of y to (n_samples,), for example using ravel().\n",
            "  estimator.fit(X_train, y_train, **fit_params)\n",
            "E:\\Anaconda\\lib\\site-packages\\sklearn\\model_selection\\_validation.py:680: DataConversionWarning: A column-vector y was passed when a 1d array was expected. Please change the shape of y to (n_samples,), for example using ravel().\n",
            "  estimator.fit(X_train, y_train, **fit_params)\n",
            "E:\\Anaconda\\lib\\site-packages\\sklearn\\model_selection\\_validation.py:680: DataConversionWarning: A column-vector y was passed when a 1d array was expected. Please change the shape of y to (n_samples,), for example using ravel().\n",
            "  estimator.fit(X_train, y_train, **fit_params)\n",
            "E:\\Anaconda\\lib\\site-packages\\sklearn\\model_selection\\_validation.py:680: DataConversionWarning: A column-vector y was passed when a 1d array was expected. Please change the shape of y to (n_samples,), for example using ravel().\n",
            "  estimator.fit(X_train, y_train, **fit_params)\n",
            "E:\\Anaconda\\lib\\site-packages\\sklearn\\model_selection\\_validation.py:680: DataConversionWarning: A column-vector y was passed when a 1d array was expected. Please change the shape of y to (n_samples,), for example using ravel().\n",
            "  estimator.fit(X_train, y_train, **fit_params)\n",
            "E:\\Anaconda\\lib\\site-packages\\sklearn\\model_selection\\_validation.py:680: DataConversionWarning: A column-vector y was passed when a 1d array was expected. Please change the shape of y to (n_samples,), for example using ravel().\n",
            "  estimator.fit(X_train, y_train, **fit_params)\n",
            "E:\\Anaconda\\lib\\site-packages\\sklearn\\model_selection\\_validation.py:680: DataConversionWarning: A column-vector y was passed when a 1d array was expected. Please change the shape of y to (n_samples,), for example using ravel().\n",
            "  estimator.fit(X_train, y_train, **fit_params)\n",
            "E:\\Anaconda\\lib\\site-packages\\sklearn\\model_selection\\_validation.py:680: DataConversionWarning: A column-vector y was passed when a 1d array was expected. Please change the shape of y to (n_samples,), for example using ravel().\n",
            "  estimator.fit(X_train, y_train, **fit_params)\n",
            "E:\\Anaconda\\lib\\site-packages\\sklearn\\model_selection\\_validation.py:680: DataConversionWarning: A column-vector y was passed when a 1d array was expected. Please change the shape of y to (n_samples,), for example using ravel().\n",
            "  estimator.fit(X_train, y_train, **fit_params)\n"
          ]
        },
        {
          "data": {
            "text/plain": [
              "array([0.75925926, 0.64814815, 0.81132075, 0.79245283, 0.75471698,\n",
              "       0.75471698, 0.71698113, 0.81132075, 0.75471698, 0.77358491])"
            ]
          },
          "execution_count": 110,
          "metadata": {},
          "output_type": "execute_result"
        }
      ],
      "source": [
        "\n",
        "from sklearn.model_selection import cross_val_score\n",
        "\n",
        "scores = cross_val_score(df, X_train, Y_train,cv=10)\n",
        "\n",
        "scores"
      ]
    },
    {
      "cell_type": "code",
      "execution_count": null,
      "metadata": {
        "id": "7ybMd1dV-sIP",
        "outputId": "e2d85114-eb61-4aa4-a2f3-c32fb8c278e4"
      },
      "outputs": [
        {
          "name": "stdout",
          "output_type": "stream",
          "text": [
            "Accuracy: 0.76 (+/- 0.14)\n"
          ]
        }
      ],
      "source": [
        "print(\"Accuracy: %0.2f (+/- %0.2f)\" % (scores.mean(), 3* scores.std() ))"
      ]
    },
    {
      "cell_type": "code",
      "execution_count": null,
      "metadata": {
        "id": "JRlMoEp9-sIP"
      },
      "outputs": [],
      "source": [
        "#decision trees"
      ]
    },
    {
      "cell_type": "code",
      "execution_count": null,
      "metadata": {
        "id": "g2j-R5GL-sIQ"
      },
      "outputs": [],
      "source": [
        "#entropy"
      ]
    },
    {
      "cell_type": "code",
      "execution_count": null,
      "metadata": {
        "id": "L_vwy4S0-sIQ"
      },
      "outputs": [],
      "source": [
        "from sklearn.tree import DecisionTreeClassifier"
      ]
    },
    {
      "cell_type": "code",
      "execution_count": null,
      "metadata": {
        "id": "6i1u2Vl6-sIR"
      },
      "outputs": [],
      "source": [
        "clf_entropy = DecisionTreeClassifier(criterion='entropy',\n",
        "                                    min_samples_leaf=6,\n",
        "                                    min_weight_fraction_leaf=0.1,\n",
        "                                   min_samples_split=5)"
      ]
    },
    {
      "cell_type": "code",
      "execution_count": null,
      "metadata": {
        "id": "Sg1LEdeG-sIR",
        "outputId": "9c59e6b1-62d2-4ba8-dfef-369fb410a988"
      },
      "outputs": [
        {
          "data": {
            "text/plain": [
              "DecisionTreeClassifier(criterion='entropy', min_samples_leaf=6,\n",
              "                       min_samples_split=5, min_weight_fraction_leaf=0.1)"
            ]
          },
          "execution_count": 116,
          "metadata": {},
          "output_type": "execute_result"
        }
      ],
      "source": [
        "clf_entropy.fit(X_train,Y_train)"
      ]
    },
    {
      "cell_type": "code",
      "execution_count": null,
      "metadata": {
        "id": "YO9Cyjva-sIR",
        "outputId": "6a05cd81-b7f1-4d5f-c979-e5b242b5eca0"
      },
      "outputs": [
        {
          "name": "stdout",
          "output_type": "stream",
          "text": [
            "Train Accuracy =  0.7725563909774437\n"
          ]
        }
      ],
      "source": [
        "train_entropy = clf_entropy.predict(X_train)\n",
        "from sklearn.metrics import accuracy_score\n",
        "acc = accuracy_score(Y_train,train_entropy)\n",
        "print(\"Train Accuracy = \" ,acc)"
      ]
    },
    {
      "cell_type": "code",
      "execution_count": null,
      "metadata": {
        "scrolled": true,
        "id": "JKJutNzZ-sIS"
      },
      "outputs": [],
      "source": [
        "predicted_entropy = clf_entropy.predict(X_test)\n"
      ]
    },
    {
      "cell_type": "code",
      "execution_count": null,
      "metadata": {
        "id": "xK3WpVcN-sIS",
        "outputId": "b31ac891-3077-434c-cacc-dd2600447da6"
      },
      "outputs": [
        {
          "name": "stdout",
          "output_type": "stream",
          "text": [
            "Accuracy =  0.7611940298507462\n"
          ]
        }
      ],
      "source": [
        "from sklearn.metrics import accuracy_score\n",
        "acc = accuracy_score(Y_test,predicted_entropy)\n",
        "print(\"Accuracy = \" ,acc)\n"
      ]
    },
    {
      "cell_type": "code",
      "execution_count": null,
      "metadata": {
        "id": "BdDIhIR--sIT",
        "outputId": "bb6b26c6-2c03-4fac-eedd-f8ec9bcfd1d2"
      },
      "outputs": [
        {
          "name": "stdout",
          "output_type": "stream",
          "text": [
            "[[43 21]\n",
            " [11 59]]\n"
          ]
        }
      ],
      "source": [
        "from  sklearn.metrics import confusion_matrix\n",
        "cM = confusion_matrix(Y_test,predicted_entropy)\n",
        "print(cM)"
      ]
    },
    {
      "cell_type": "code",
      "execution_count": null,
      "metadata": {
        "id": "8MHlfeRh-sIT",
        "outputId": "b4060e63-715e-4f93-bacc-859f2ee26ae2"
      },
      "outputs": [
        {
          "name": "stdout",
          "output_type": "stream",
          "text": [
            "Accuracy= 0.7611940298507462\n"
          ]
        }
      ],
      "source": [
        "tn, fn, fp, tp = cM.ravel()\n",
        "print(\"Accuracy=\",(tp+tn)/(tp+tn+fp+fn))"
      ]
    },
    {
      "cell_type": "code",
      "execution_count": null,
      "metadata": {
        "id": "3rDhVuB7-sIU",
        "outputId": "7aade712-533d-4038-e9bd-5f41c1fa21ea"
      },
      "outputs": [
        {
          "name": "stdout",
          "output_type": "stream",
          "text": [
            "Recall = Sensitivity =  0.7375\n",
            "Specificity = 0.7962962962962963\n",
            "Precision= 0.8428571428571429\n",
            "f1 score= 0.7866666666666667\n"
          ]
        }
      ],
      "source": [
        "recall = tp/(tp+fn)\n",
        "precision=tp/(tp+fp)\n",
        "print(\"Recall = Sensitivity = \",tp/(tp+fn))\n",
        "print(\"Specificity =\", tn/(tn+fp))\n",
        "\n",
        "print(\"Precision=\",tp/(tp+fp))\n",
        "f1score= 2 *(recall*precision)/(precision+recall)\n",
        "print(\"f1 score=\", f1score)"
      ]
    },
    {
      "cell_type": "code",
      "execution_count": null,
      "metadata": {
        "id": "yb5xpq0w-sIU",
        "outputId": "7b0d8895-7532-4b95-8eb5-c99aebe01f68"
      },
      "outputs": [
        {
          "ename": "ValueError",
          "evalue": "y_true takes value in {'+', '-'} and pos_label is not specified: either make y_true take value in {0, 1} or {-1, 1} or pass pos_label explicitly.",
          "output_type": "error",
          "traceback": [
            "\u001b[1;31m---------------------------------------------------------------------------\u001b[0m",
            "\u001b[1;31mValueError\u001b[0m                                Traceback (most recent call last)",
            "Input \u001b[1;32mIn [123]\u001b[0m, in \u001b[0;36m<cell line: 3>\u001b[1;34m()\u001b[0m\n\u001b[0;32m      1\u001b[0m \u001b[38;5;28;01mfrom\u001b[39;00m \u001b[38;5;21;01msklearn\u001b[39;00m\u001b[38;5;21;01m.\u001b[39;00m\u001b[38;5;21;01mmetrics\u001b[39;00m \u001b[38;5;28;01mimport\u001b[39;00m roc_curve\n\u001b[0;32m      2\u001b[0m \u001b[38;5;28;01mfrom\u001b[39;00m  \u001b[38;5;21;01msklearn\u001b[39;00m\u001b[38;5;21;01m.\u001b[39;00m\u001b[38;5;21;01mmetrics\u001b[39;00m \u001b[38;5;28;01mimport\u001b[39;00m auc\n\u001b[1;32m----> 3\u001b[0m fpr, tpr, thresholds \u001b[38;5;241m=\u001b[39m \u001b[43mroc_curve\u001b[49m\u001b[43m(\u001b[49m\u001b[43mY_test\u001b[49m\u001b[43m,\u001b[49m\u001b[43mpredicted_entropy\u001b[49m\u001b[43m)\u001b[49m\n\u001b[0;32m      4\u001b[0m aucP\u001b[38;5;241m=\u001b[39mauc(fpr, tpr)\n\u001b[0;32m      6\u001b[0m \u001b[38;5;28mprint\u001b[39m(\u001b[38;5;124m'\u001b[39m\u001b[38;5;124mauc of ROC curve = \u001b[39m\u001b[38;5;124m'\u001b[39m, aucP)\n",
            "File \u001b[1;32mE:\\Anaconda\\lib\\site-packages\\sklearn\\metrics\\_ranking.py:962\u001b[0m, in \u001b[0;36mroc_curve\u001b[1;34m(y_true, y_score, pos_label, sample_weight, drop_intermediate)\u001b[0m\n\u001b[0;32m    873\u001b[0m \u001b[38;5;28;01mdef\u001b[39;00m \u001b[38;5;21mroc_curve\u001b[39m(\n\u001b[0;32m    874\u001b[0m     y_true, y_score, \u001b[38;5;241m*\u001b[39m, pos_label\u001b[38;5;241m=\u001b[39m\u001b[38;5;28;01mNone\u001b[39;00m, sample_weight\u001b[38;5;241m=\u001b[39m\u001b[38;5;28;01mNone\u001b[39;00m, drop_intermediate\u001b[38;5;241m=\u001b[39m\u001b[38;5;28;01mTrue\u001b[39;00m\n\u001b[0;32m    875\u001b[0m ):\n\u001b[0;32m    876\u001b[0m     \u001b[38;5;124;03m\"\"\"Compute Receiver operating characteristic (ROC).\u001b[39;00m\n\u001b[0;32m    877\u001b[0m \n\u001b[0;32m    878\u001b[0m \u001b[38;5;124;03m    Note: this implementation is restricted to the binary classification task.\u001b[39;00m\n\u001b[1;32m   (...)\u001b[0m\n\u001b[0;32m    960\u001b[0m \n\u001b[0;32m    961\u001b[0m \u001b[38;5;124;03m    \"\"\"\u001b[39;00m\n\u001b[1;32m--> 962\u001b[0m     fps, tps, thresholds \u001b[38;5;241m=\u001b[39m \u001b[43m_binary_clf_curve\u001b[49m\u001b[43m(\u001b[49m\n\u001b[0;32m    963\u001b[0m \u001b[43m        \u001b[49m\u001b[43my_true\u001b[49m\u001b[43m,\u001b[49m\u001b[43m \u001b[49m\u001b[43my_score\u001b[49m\u001b[43m,\u001b[49m\u001b[43m \u001b[49m\u001b[43mpos_label\u001b[49m\u001b[38;5;241;43m=\u001b[39;49m\u001b[43mpos_label\u001b[49m\u001b[43m,\u001b[49m\u001b[43m \u001b[49m\u001b[43msample_weight\u001b[49m\u001b[38;5;241;43m=\u001b[39;49m\u001b[43msample_weight\u001b[49m\n\u001b[0;32m    964\u001b[0m \u001b[43m    \u001b[49m\u001b[43m)\u001b[49m\n\u001b[0;32m    966\u001b[0m     \u001b[38;5;66;03m# Attempt to drop thresholds corresponding to points in between and\u001b[39;00m\n\u001b[0;32m    967\u001b[0m     \u001b[38;5;66;03m# collinear with other points. These are always suboptimal and do not\u001b[39;00m\n\u001b[0;32m    968\u001b[0m     \u001b[38;5;66;03m# appear on a plotted ROC curve (and thus do not affect the AUC).\u001b[39;00m\n\u001b[1;32m   (...)\u001b[0m\n\u001b[0;32m    973\u001b[0m     \u001b[38;5;66;03m# but does not drop more complicated cases like fps = [1, 3, 7],\u001b[39;00m\n\u001b[0;32m    974\u001b[0m     \u001b[38;5;66;03m# tps = [1, 2, 4]; there is no harm in keeping too many thresholds.\u001b[39;00m\n\u001b[0;32m    975\u001b[0m     \u001b[38;5;28;01mif\u001b[39;00m drop_intermediate \u001b[38;5;129;01mand\u001b[39;00m \u001b[38;5;28mlen\u001b[39m(fps) \u001b[38;5;241m>\u001b[39m \u001b[38;5;241m2\u001b[39m:\n",
            "File \u001b[1;32mE:\\Anaconda\\lib\\site-packages\\sklearn\\metrics\\_ranking.py:748\u001b[0m, in \u001b[0;36m_binary_clf_curve\u001b[1;34m(y_true, y_score, pos_label, sample_weight)\u001b[0m\n\u001b[0;32m    745\u001b[0m     y_score \u001b[38;5;241m=\u001b[39m y_score[nonzero_weight_mask]\n\u001b[0;32m    746\u001b[0m     sample_weight \u001b[38;5;241m=\u001b[39m sample_weight[nonzero_weight_mask]\n\u001b[1;32m--> 748\u001b[0m pos_label \u001b[38;5;241m=\u001b[39m \u001b[43m_check_pos_label_consistency\u001b[49m\u001b[43m(\u001b[49m\u001b[43mpos_label\u001b[49m\u001b[43m,\u001b[49m\u001b[43m \u001b[49m\u001b[43my_true\u001b[49m\u001b[43m)\u001b[49m\n\u001b[0;32m    750\u001b[0m \u001b[38;5;66;03m# make y_true a boolean vector\u001b[39;00m\n\u001b[0;32m    751\u001b[0m y_true \u001b[38;5;241m=\u001b[39m y_true \u001b[38;5;241m==\u001b[39m pos_label\n",
            "File \u001b[1;32mE:\\Anaconda\\lib\\site-packages\\sklearn\\metrics\\_base.py:243\u001b[0m, in \u001b[0;36m_check_pos_label_consistency\u001b[1;34m(pos_label, y_true)\u001b[0m\n\u001b[0;32m    232\u001b[0m \u001b[38;5;28;01mif\u001b[39;00m pos_label \u001b[38;5;129;01mis\u001b[39;00m \u001b[38;5;28;01mNone\u001b[39;00m \u001b[38;5;129;01mand\u001b[39;00m (\n\u001b[0;32m    233\u001b[0m     classes\u001b[38;5;241m.\u001b[39mdtype\u001b[38;5;241m.\u001b[39mkind \u001b[38;5;129;01min\u001b[39;00m \u001b[38;5;124m\"\u001b[39m\u001b[38;5;124mOUS\u001b[39m\u001b[38;5;124m\"\u001b[39m\n\u001b[0;32m    234\u001b[0m     \u001b[38;5;129;01mor\u001b[39;00m \u001b[38;5;129;01mnot\u001b[39;00m (\n\u001b[1;32m   (...)\u001b[0m\n\u001b[0;32m    240\u001b[0m     )\n\u001b[0;32m    241\u001b[0m ):\n\u001b[0;32m    242\u001b[0m     classes_repr \u001b[38;5;241m=\u001b[39m \u001b[38;5;124m\"\u001b[39m\u001b[38;5;124m, \u001b[39m\u001b[38;5;124m\"\u001b[39m\u001b[38;5;241m.\u001b[39mjoin(\u001b[38;5;28mrepr\u001b[39m(c) \u001b[38;5;28;01mfor\u001b[39;00m c \u001b[38;5;129;01min\u001b[39;00m classes)\n\u001b[1;32m--> 243\u001b[0m     \u001b[38;5;28;01mraise\u001b[39;00m \u001b[38;5;167;01mValueError\u001b[39;00m(\n\u001b[0;32m    244\u001b[0m         \u001b[38;5;124mf\u001b[39m\u001b[38;5;124m\"\u001b[39m\u001b[38;5;124my_true takes value in \u001b[39m\u001b[38;5;130;01m{{\u001b[39;00m\u001b[38;5;132;01m{\u001b[39;00mclasses_repr\u001b[38;5;132;01m}\u001b[39;00m\u001b[38;5;130;01m}}\u001b[39;00m\u001b[38;5;124m and pos_label is not \u001b[39m\u001b[38;5;124m\"\u001b[39m\n\u001b[0;32m    245\u001b[0m         \u001b[38;5;124m\"\u001b[39m\u001b[38;5;124mspecified: either make y_true take value in \u001b[39m\u001b[38;5;124m{\u001b[39m\u001b[38;5;124m0, 1} or \u001b[39m\u001b[38;5;124m\"\u001b[39m\n\u001b[0;32m    246\u001b[0m         \u001b[38;5;124m\"\u001b[39m\u001b[38;5;124m{\u001b[39m\u001b[38;5;124m-1, 1} or pass pos_label explicitly.\u001b[39m\u001b[38;5;124m\"\u001b[39m\n\u001b[0;32m    247\u001b[0m     )\n\u001b[0;32m    248\u001b[0m \u001b[38;5;28;01melif\u001b[39;00m pos_label \u001b[38;5;129;01mis\u001b[39;00m \u001b[38;5;28;01mNone\u001b[39;00m:\n\u001b[0;32m    249\u001b[0m     pos_label \u001b[38;5;241m=\u001b[39m \u001b[38;5;241m1\u001b[39m\n",
            "\u001b[1;31mValueError\u001b[0m: y_true takes value in {'+', '-'} and pos_label is not specified: either make y_true take value in {0, 1} or {-1, 1} or pass pos_label explicitly."
          ]
        }
      ],
      "source": [
        "from sklearn.metrics import roc_curve\n",
        "from  sklearn.metrics import auc\n",
        "fpr, tpr, thresholds = roc_curve(Y_test,predicted_entropy)\n",
        "aucP=auc(fpr, tpr)\n",
        "\n",
        "print('auc of ROC curve = ', aucP)"
      ]
    },
    {
      "cell_type": "code",
      "execution_count": null,
      "metadata": {
        "id": "bWXPjicj-sIV",
        "outputId": "3e546b1f-0402-4fde-f137-f4ea815f2fa9"
      },
      "outputs": [
        {
          "name": "stderr",
          "output_type": "stream",
          "text": [
            "E:\\Anaconda\\lib\\site-packages\\sklearn\\model_selection\\_validation.py:680: DataConversionWarning: A column-vector y was passed when a 1d array was expected. Please change the shape of y to (n_samples,), for example using ravel().\n",
            "  estimator.fit(X_train, y_train, **fit_params)\n",
            "E:\\Anaconda\\lib\\site-packages\\sklearn\\model_selection\\_validation.py:680: DataConversionWarning: A column-vector y was passed when a 1d array was expected. Please change the shape of y to (n_samples,), for example using ravel().\n",
            "  estimator.fit(X_train, y_train, **fit_params)\n",
            "E:\\Anaconda\\lib\\site-packages\\sklearn\\model_selection\\_validation.py:680: DataConversionWarning: A column-vector y was passed when a 1d array was expected. Please change the shape of y to (n_samples,), for example using ravel().\n",
            "  estimator.fit(X_train, y_train, **fit_params)\n",
            "E:\\Anaconda\\lib\\site-packages\\sklearn\\model_selection\\_validation.py:680: DataConversionWarning: A column-vector y was passed when a 1d array was expected. Please change the shape of y to (n_samples,), for example using ravel().\n",
            "  estimator.fit(X_train, y_train, **fit_params)\n",
            "E:\\Anaconda\\lib\\site-packages\\sklearn\\model_selection\\_validation.py:680: DataConversionWarning: A column-vector y was passed when a 1d array was expected. Please change the shape of y to (n_samples,), for example using ravel().\n",
            "  estimator.fit(X_train, y_train, **fit_params)\n",
            "E:\\Anaconda\\lib\\site-packages\\sklearn\\model_selection\\_validation.py:680: DataConversionWarning: A column-vector y was passed when a 1d array was expected. Please change the shape of y to (n_samples,), for example using ravel().\n",
            "  estimator.fit(X_train, y_train, **fit_params)\n",
            "E:\\Anaconda\\lib\\site-packages\\sklearn\\model_selection\\_validation.py:680: DataConversionWarning: A column-vector y was passed when a 1d array was expected. Please change the shape of y to (n_samples,), for example using ravel().\n",
            "  estimator.fit(X_train, y_train, **fit_params)\n",
            "E:\\Anaconda\\lib\\site-packages\\sklearn\\model_selection\\_validation.py:680: DataConversionWarning: A column-vector y was passed when a 1d array was expected. Please change the shape of y to (n_samples,), for example using ravel().\n",
            "  estimator.fit(X_train, y_train, **fit_params)\n",
            "E:\\Anaconda\\lib\\site-packages\\sklearn\\model_selection\\_validation.py:680: DataConversionWarning: A column-vector y was passed when a 1d array was expected. Please change the shape of y to (n_samples,), for example using ravel().\n",
            "  estimator.fit(X_train, y_train, **fit_params)\n",
            "E:\\Anaconda\\lib\\site-packages\\sklearn\\model_selection\\_validation.py:680: DataConversionWarning: A column-vector y was passed when a 1d array was expected. Please change the shape of y to (n_samples,), for example using ravel().\n",
            "  estimator.fit(X_train, y_train, **fit_params)\n"
          ]
        },
        {
          "data": {
            "text/plain": [
              "array([0.74074074, 0.74074074, 0.83018868, 0.71698113, 0.71698113,\n",
              "       0.81132075, 0.73584906, 0.77358491, 0.67924528, 0.75471698])"
            ]
          },
          "execution_count": 125,
          "metadata": {},
          "output_type": "execute_result"
        }
      ],
      "source": [
        "\n",
        "from sklearn.model_selection import cross_val_score\n",
        "\n",
        "scores = cross_val_score(df, X_train, Y_train,cv=10)\n",
        "\n",
        "scores"
      ]
    },
    {
      "cell_type": "code",
      "execution_count": null,
      "metadata": {
        "id": "1cjBIU0p-sIV",
        "outputId": "611b350b-4687-4642-a84c-97ffe64653b1"
      },
      "outputs": [
        {
          "name": "stdout",
          "output_type": "stream",
          "text": [
            "Accuracy: 0.75 (+/- 0.13)\n"
          ]
        }
      ],
      "source": [
        "print(\"Accuracy: %0.2f (+/- %0.2f)\" % (scores.mean(), 3* scores.std() ))"
      ]
    },
    {
      "cell_type": "code",
      "execution_count": null,
      "metadata": {
        "id": "tNsMoEM_-sIX",
        "outputId": "b3477709-0d67-4be5-947c-9fe693a21064"
      },
      "outputs": [
        {
          "data": {
            "text/plain": [
              "[Text(0.625, 0.9, 'X[3] <= 2.5\\nentropy = 0.99\\nsamples = 532\\nvalue = [235, 297]'),\n",
              " Text(0.4166666666666667, 0.7, 'X[2] <= 1.207\\nentropy = 0.867\\nsamples = 391\\nvalue = [113, 278]'),\n",
              " Text(0.25, 0.5, 'X[4] <= 230.0\\nentropy = 0.684\\nsamples = 242\\nvalue = [44, 198]'),\n",
              " Text(0.16666666666666666, 0.3, 'X[4] <= 104.0\\nentropy = 0.552\\nsamples = 164\\nvalue = [21, 143]'),\n",
              " Text(0.08333333333333333, 0.1, 'entropy = 0.783\\nsamples = 73\\nvalue = [17, 56]'),\n",
              " Text(0.25, 0.1, 'entropy = 0.26\\nsamples = 91\\nvalue = [4, 87]'),\n",
              " Text(0.3333333333333333, 0.3, 'entropy = 0.875\\nsamples = 78\\nvalue = [23, 55]'),\n",
              " Text(0.5833333333333334, 0.5, 'X[4] <= 132.0\\nentropy = 0.996\\nsamples = 149\\nvalue = [69, 80]'),\n",
              " Text(0.5, 0.3, 'entropy = 0.978\\nsamples = 63\\nvalue = [37, 26]'),\n",
              " Text(0.6666666666666666, 0.3, 'entropy = 0.952\\nsamples = 86\\nvalue = [32, 54]'),\n",
              " Text(0.8333333333333334, 0.7, 'X[5] <= 227.5\\nentropy = 0.57\\nsamples = 141\\nvalue = [122, 19]'),\n",
              " Text(0.75, 0.5, 'entropy = 0.852\\nsamples = 54\\nvalue = [39, 15]'),\n",
              " Text(0.9166666666666666, 0.5, 'entropy = 0.269\\nsamples = 87\\nvalue = [83, 4]')]"
            ]
          },
          "execution_count": 127,
          "metadata": {},
          "output_type": "execute_result"
        },
        {
          "data": {
            "image/png": "[encoded data removed]",
            "text/plain": [
              "<Figure size 432x288 with 1 Axes>"
            ]
          },
          "metadata": {
            "needs_background": "light"
          },
          "output_type": "display_data"
        }
      ],
      "source": [
        "from sklearn.tree import plot_tree\n",
        "plot_tree(clf_entropy)"
      ]
    },
    {
      "cell_type": "code",
      "execution_count": null,
      "metadata": {
        "id": "gi3ahGyI-sIX"
      },
      "outputs": [],
      "source": [
        "#gini"
      ]
    },
    {
      "cell_type": "code",
      "execution_count": null,
      "metadata": {
        "id": "NvvTmFlC-sIX"
      },
      "outputs": [],
      "source": [
        "clf_entropy = DecisionTreeClassifier(\n",
        "                                     min_samples_leaf=4,\n",
        "                                    min_weight_fraction_leaf=0.1,\n",
        "                                   min_samples_split=4)"
      ]
    },
    {
      "cell_type": "code",
      "execution_count": null,
      "metadata": {
        "id": "5RDcEYrR-sIY",
        "outputId": "8a890488-a62d-436b-8273-f3f8ca57b0dd"
      },
      "outputs": [
        {
          "data": {
            "text/plain": [
              "DecisionTreeClassifier(min_samples_leaf=4, min_samples_split=4,\n",
              "                       min_weight_fraction_leaf=0.1)"
            ]
          },
          "execution_count": 130,
          "metadata": {},
          "output_type": "execute_result"
        }
      ],
      "source": [
        "clf_entropy.fit(X_train,Y_train)"
      ]
    },
    {
      "cell_type": "code",
      "execution_count": null,
      "metadata": {
        "scrolled": true,
        "id": "8TBRbLKn-sIY",
        "outputId": "1de203fb-47d5-4e13-941f-5238a2eb574c"
      },
      "outputs": [
        {
          "name": "stdout",
          "output_type": "stream",
          "text": [
            "Train Accuracy =  0.7725563909774437\n"
          ]
        }
      ],
      "source": [
        "train_entropy = clf_entropy.predict(X_train)\n",
        "from sklearn.metrics import accuracy_score\n",
        "acc = accuracy_score(Y_train,train_entropy)\n",
        "print(\"Train Accuracy = \" ,acc)"
      ]
    },
    {
      "cell_type": "code",
      "execution_count": null,
      "metadata": {
        "id": "L5LUmtL5-sIZ"
      },
      "outputs": [],
      "source": [
        "predicted_entropy = clf_entropy.predict(X_test)"
      ]
    },
    {
      "cell_type": "code",
      "execution_count": null,
      "metadata": {
        "id": "CPv80nYq-sIZ",
        "outputId": "003964a1-5205-4b5e-d591-b19a1dd52f86"
      },
      "outputs": [
        {
          "name": "stdout",
          "output_type": "stream",
          "text": [
            "Accuracy =  0.7611940298507462\n"
          ]
        }
      ],
      "source": [
        "from sklearn.metrics import accuracy_score\n",
        "acc = accuracy_score(Y_test,predicted_entropy)\n",
        "print(\"Accuracy = \" ,acc)"
      ]
    },
    {
      "cell_type": "code",
      "execution_count": null,
      "metadata": {
        "id": "TygurwAJ-sIa",
        "outputId": "8d7350e5-80b5-4847-b1ec-9197a7b18fcb"
      },
      "outputs": [
        {
          "name": "stdout",
          "output_type": "stream",
          "text": [
            "[[43 21]\n",
            " [11 59]]\n"
          ]
        }
      ],
      "source": [
        "from  sklearn.metrics import confusion_matrix\n",
        "cM = confusion_matrix(Y_test,predicted_entropy)\n",
        "print(cM)"
      ]
    },
    {
      "cell_type": "code",
      "execution_count": null,
      "metadata": {
        "id": "FHU5CfpN-sIb",
        "outputId": "fe85b096-5e9d-462d-8a5b-bbdaddb04d05"
      },
      "outputs": [
        {
          "name": "stdout",
          "output_type": "stream",
          "text": [
            "Accuracy= 0.7611940298507462\n"
          ]
        }
      ],
      "source": [
        "tn, fn, fp, tp = cM.ravel()\n",
        "print(\"Accuracy=\",(tp+tn)/(tp+tn+fp+fn))"
      ]
    },
    {
      "cell_type": "code",
      "execution_count": null,
      "metadata": {
        "id": "RI8sHwhd-sIb",
        "outputId": "6d597991-d853-4540-95b0-40e6fe7cee54"
      },
      "outputs": [
        {
          "name": "stdout",
          "output_type": "stream",
          "text": [
            "Recall = Sensitivity =  0.7375\n",
            "Specificity = 0.7962962962962963\n",
            "Precision= 0.8428571428571429\n",
            "f1 score= 0.7866666666666667\n"
          ]
        }
      ],
      "source": [
        "recall = tp/(tp+fn)\n",
        "precision=tp/(tp+fp)\n",
        "print(\"Recall = Sensitivity = \",tp/(tp+fn))\n",
        "print(\"Specificity =\", tn/(tn+fp))\n",
        "\n",
        "print(\"Precision=\",tp/(tp+fp))\n",
        "f1score= 2 *(recall*precision)/(precision+recall)\n",
        "print(\"f1 score=\", f1score)"
      ]
    },
    {
      "cell_type": "code",
      "execution_count": null,
      "metadata": {
        "id": "-xnGgsXU-sIc",
        "outputId": "06cee153-0608-4449-d859-4081ac96917a"
      },
      "outputs": [
        {
          "ename": "ValueError",
          "evalue": "y_true takes value in {'+', '-'} and pos_label is not specified: either make y_true take value in {0, 1} or {-1, 1} or pass pos_label explicitly.",
          "output_type": "error",
          "traceback": [
            "\u001b[1;31m---------------------------------------------------------------------------\u001b[0m",
            "\u001b[1;31mValueError\u001b[0m                                Traceback (most recent call last)",
            "Input \u001b[1;32mIn [137]\u001b[0m, in \u001b[0;36m<cell line: 3>\u001b[1;34m()\u001b[0m\n\u001b[0;32m      1\u001b[0m \u001b[38;5;28;01mfrom\u001b[39;00m \u001b[38;5;21;01msklearn\u001b[39;00m\u001b[38;5;21;01m.\u001b[39;00m\u001b[38;5;21;01mmetrics\u001b[39;00m \u001b[38;5;28;01mimport\u001b[39;00m roc_curve\n\u001b[0;32m      2\u001b[0m \u001b[38;5;28;01mfrom\u001b[39;00m  \u001b[38;5;21;01msklearn\u001b[39;00m\u001b[38;5;21;01m.\u001b[39;00m\u001b[38;5;21;01mmetrics\u001b[39;00m \u001b[38;5;28;01mimport\u001b[39;00m auc\n\u001b[1;32m----> 3\u001b[0m fpr, tpr, thresholds \u001b[38;5;241m=\u001b[39m \u001b[43mroc_curve\u001b[49m\u001b[43m(\u001b[49m\u001b[43mY_test\u001b[49m\u001b[43m,\u001b[49m\u001b[43mpredicted_entropy\u001b[49m\u001b[43m)\u001b[49m\n\u001b[0;32m      4\u001b[0m aucP\u001b[38;5;241m=\u001b[39mauc(fpr, tpr)\n\u001b[0;32m      6\u001b[0m \u001b[38;5;28mprint\u001b[39m(\u001b[38;5;124m'\u001b[39m\u001b[38;5;124mauc of ROC curve = \u001b[39m\u001b[38;5;124m'\u001b[39m, aucP)\n",
            "File \u001b[1;32mE:\\Anaconda\\lib\\site-packages\\sklearn\\metrics\\_ranking.py:962\u001b[0m, in \u001b[0;36mroc_curve\u001b[1;34m(y_true, y_score, pos_label, sample_weight, drop_intermediate)\u001b[0m\n\u001b[0;32m    873\u001b[0m \u001b[38;5;28;01mdef\u001b[39;00m \u001b[38;5;21mroc_curve\u001b[39m(\n\u001b[0;32m    874\u001b[0m     y_true, y_score, \u001b[38;5;241m*\u001b[39m, pos_label\u001b[38;5;241m=\u001b[39m\u001b[38;5;28;01mNone\u001b[39;00m, sample_weight\u001b[38;5;241m=\u001b[39m\u001b[38;5;28;01mNone\u001b[39;00m, drop_intermediate\u001b[38;5;241m=\u001b[39m\u001b[38;5;28;01mTrue\u001b[39;00m\n\u001b[0;32m    875\u001b[0m ):\n\u001b[0;32m    876\u001b[0m     \u001b[38;5;124;03m\"\"\"Compute Receiver operating characteristic (ROC).\u001b[39;00m\n\u001b[0;32m    877\u001b[0m \n\u001b[0;32m    878\u001b[0m \u001b[38;5;124;03m    Note: this implementation is restricted to the binary classification task.\u001b[39;00m\n\u001b[1;32m   (...)\u001b[0m\n\u001b[0;32m    960\u001b[0m \n\u001b[0;32m    961\u001b[0m \u001b[38;5;124;03m    \"\"\"\u001b[39;00m\n\u001b[1;32m--> 962\u001b[0m     fps, tps, thresholds \u001b[38;5;241m=\u001b[39m \u001b[43m_binary_clf_curve\u001b[49m\u001b[43m(\u001b[49m\n\u001b[0;32m    963\u001b[0m \u001b[43m        \u001b[49m\u001b[43my_true\u001b[49m\u001b[43m,\u001b[49m\u001b[43m \u001b[49m\u001b[43my_score\u001b[49m\u001b[43m,\u001b[49m\u001b[43m \u001b[49m\u001b[43mpos_label\u001b[49m\u001b[38;5;241;43m=\u001b[39;49m\u001b[43mpos_label\u001b[49m\u001b[43m,\u001b[49m\u001b[43m \u001b[49m\u001b[43msample_weight\u001b[49m\u001b[38;5;241;43m=\u001b[39;49m\u001b[43msample_weight\u001b[49m\n\u001b[0;32m    964\u001b[0m \u001b[43m    \u001b[49m\u001b[43m)\u001b[49m\n\u001b[0;32m    966\u001b[0m     \u001b[38;5;66;03m# Attempt to drop thresholds corresponding to points in between and\u001b[39;00m\n\u001b[0;32m    967\u001b[0m     \u001b[38;5;66;03m# collinear with other points. These are always suboptimal and do not\u001b[39;00m\n\u001b[0;32m    968\u001b[0m     \u001b[38;5;66;03m# appear on a plotted ROC curve (and thus do not affect the AUC).\u001b[39;00m\n\u001b[1;32m   (...)\u001b[0m\n\u001b[0;32m    973\u001b[0m     \u001b[38;5;66;03m# but does not drop more complicated cases like fps = [1, 3, 7],\u001b[39;00m\n\u001b[0;32m    974\u001b[0m     \u001b[38;5;66;03m# tps = [1, 2, 4]; there is no harm in keeping too many thresholds.\u001b[39;00m\n\u001b[0;32m    975\u001b[0m     \u001b[38;5;28;01mif\u001b[39;00m drop_intermediate \u001b[38;5;129;01mand\u001b[39;00m \u001b[38;5;28mlen\u001b[39m(fps) \u001b[38;5;241m>\u001b[39m \u001b[38;5;241m2\u001b[39m:\n",
            "File \u001b[1;32mE:\\Anaconda\\lib\\site-packages\\sklearn\\metrics\\_ranking.py:748\u001b[0m, in \u001b[0;36m_binary_clf_curve\u001b[1;34m(y_true, y_score, pos_label, sample_weight)\u001b[0m\n\u001b[0;32m    745\u001b[0m     y_score \u001b[38;5;241m=\u001b[39m y_score[nonzero_weight_mask]\n\u001b[0;32m    746\u001b[0m     sample_weight \u001b[38;5;241m=\u001b[39m sample_weight[nonzero_weight_mask]\n\u001b[1;32m--> 748\u001b[0m pos_label \u001b[38;5;241m=\u001b[39m \u001b[43m_check_pos_label_consistency\u001b[49m\u001b[43m(\u001b[49m\u001b[43mpos_label\u001b[49m\u001b[43m,\u001b[49m\u001b[43m \u001b[49m\u001b[43my_true\u001b[49m\u001b[43m)\u001b[49m\n\u001b[0;32m    750\u001b[0m \u001b[38;5;66;03m# make y_true a boolean vector\u001b[39;00m\n\u001b[0;32m    751\u001b[0m y_true \u001b[38;5;241m=\u001b[39m y_true \u001b[38;5;241m==\u001b[39m pos_label\n",
            "File \u001b[1;32mE:\\Anaconda\\lib\\site-packages\\sklearn\\metrics\\_base.py:243\u001b[0m, in \u001b[0;36m_check_pos_label_consistency\u001b[1;34m(pos_label, y_true)\u001b[0m\n\u001b[0;32m    232\u001b[0m \u001b[38;5;28;01mif\u001b[39;00m pos_label \u001b[38;5;129;01mis\u001b[39;00m \u001b[38;5;28;01mNone\u001b[39;00m \u001b[38;5;129;01mand\u001b[39;00m (\n\u001b[0;32m    233\u001b[0m     classes\u001b[38;5;241m.\u001b[39mdtype\u001b[38;5;241m.\u001b[39mkind \u001b[38;5;129;01min\u001b[39;00m \u001b[38;5;124m\"\u001b[39m\u001b[38;5;124mOUS\u001b[39m\u001b[38;5;124m\"\u001b[39m\n\u001b[0;32m    234\u001b[0m     \u001b[38;5;129;01mor\u001b[39;00m \u001b[38;5;129;01mnot\u001b[39;00m (\n\u001b[1;32m   (...)\u001b[0m\n\u001b[0;32m    240\u001b[0m     )\n\u001b[0;32m    241\u001b[0m ):\n\u001b[0;32m    242\u001b[0m     classes_repr \u001b[38;5;241m=\u001b[39m \u001b[38;5;124m\"\u001b[39m\u001b[38;5;124m, \u001b[39m\u001b[38;5;124m\"\u001b[39m\u001b[38;5;241m.\u001b[39mjoin(\u001b[38;5;28mrepr\u001b[39m(c) \u001b[38;5;28;01mfor\u001b[39;00m c \u001b[38;5;129;01min\u001b[39;00m classes)\n\u001b[1;32m--> 243\u001b[0m     \u001b[38;5;28;01mraise\u001b[39;00m \u001b[38;5;167;01mValueError\u001b[39;00m(\n\u001b[0;32m    244\u001b[0m         \u001b[38;5;124mf\u001b[39m\u001b[38;5;124m\"\u001b[39m\u001b[38;5;124my_true takes value in \u001b[39m\u001b[38;5;130;01m{{\u001b[39;00m\u001b[38;5;132;01m{\u001b[39;00mclasses_repr\u001b[38;5;132;01m}\u001b[39;00m\u001b[38;5;130;01m}}\u001b[39;00m\u001b[38;5;124m and pos_label is not \u001b[39m\u001b[38;5;124m\"\u001b[39m\n\u001b[0;32m    245\u001b[0m         \u001b[38;5;124m\"\u001b[39m\u001b[38;5;124mspecified: either make y_true take value in \u001b[39m\u001b[38;5;124m{\u001b[39m\u001b[38;5;124m0, 1} or \u001b[39m\u001b[38;5;124m\"\u001b[39m\n\u001b[0;32m    246\u001b[0m         \u001b[38;5;124m\"\u001b[39m\u001b[38;5;124m{\u001b[39m\u001b[38;5;124m-1, 1} or pass pos_label explicitly.\u001b[39m\u001b[38;5;124m\"\u001b[39m\n\u001b[0;32m    247\u001b[0m     )\n\u001b[0;32m    248\u001b[0m \u001b[38;5;28;01melif\u001b[39;00m pos_label \u001b[38;5;129;01mis\u001b[39;00m \u001b[38;5;28;01mNone\u001b[39;00m:\n\u001b[0;32m    249\u001b[0m     pos_label \u001b[38;5;241m=\u001b[39m \u001b[38;5;241m1\u001b[39m\n",
            "\u001b[1;31mValueError\u001b[0m: y_true takes value in {'+', '-'} and pos_label is not specified: either make y_true take value in {0, 1} or {-1, 1} or pass pos_label explicitly."
          ]
        }
      ],
      "source": [
        "from sklearn.metrics import roc_curve\n",
        "from  sklearn.metrics import auc\n",
        "fpr, tpr, thresholds = roc_curve(Y_test,predicted_entropy)\n",
        "aucP=auc(fpr, tpr)\n",
        "\n",
        "print('auc of ROC curve = ', aucP)"
      ]
    },
    {
      "cell_type": "code",
      "execution_count": null,
      "metadata": {
        "id": "xwzrI9Ma-sIc",
        "outputId": "5c668e8a-83e6-43f2-984d-d395ade257ff"
      },
      "outputs": [
        {
          "name": "stderr",
          "output_type": "stream",
          "text": [
            "E:\\Anaconda\\lib\\site-packages\\sklearn\\model_selection\\_validation.py:680: DataConversionWarning: A column-vector y was passed when a 1d array was expected. Please change the shape of y to (n_samples,), for example using ravel().\n",
            "  estimator.fit(X_train, y_train, **fit_params)\n",
            "E:\\Anaconda\\lib\\site-packages\\sklearn\\model_selection\\_validation.py:680: DataConversionWarning: A column-vector y was passed when a 1d array was expected. Please change the shape of y to (n_samples,), for example using ravel().\n",
            "  estimator.fit(X_train, y_train, **fit_params)\n",
            "E:\\Anaconda\\lib\\site-packages\\sklearn\\model_selection\\_validation.py:680: DataConversionWarning: A column-vector y was passed when a 1d array was expected. Please change the shape of y to (n_samples,), for example using ravel().\n",
            "  estimator.fit(X_train, y_train, **fit_params)\n",
            "E:\\Anaconda\\lib\\site-packages\\sklearn\\model_selection\\_validation.py:680: DataConversionWarning: A column-vector y was passed when a 1d array was expected. Please change the shape of y to (n_samples,), for example using ravel().\n",
            "  estimator.fit(X_train, y_train, **fit_params)\n",
            "E:\\Anaconda\\lib\\site-packages\\sklearn\\model_selection\\_validation.py:680: DataConversionWarning: A column-vector y was passed when a 1d array was expected. Please change the shape of y to (n_samples,), for example using ravel().\n",
            "  estimator.fit(X_train, y_train, **fit_params)\n",
            "E:\\Anaconda\\lib\\site-packages\\sklearn\\model_selection\\_validation.py:680: DataConversionWarning: A column-vector y was passed when a 1d array was expected. Please change the shape of y to (n_samples,), for example using ravel().\n",
            "  estimator.fit(X_train, y_train, **fit_params)\n",
            "E:\\Anaconda\\lib\\site-packages\\sklearn\\model_selection\\_validation.py:680: DataConversionWarning: A column-vector y was passed when a 1d array was expected. Please change the shape of y to (n_samples,), for example using ravel().\n",
            "  estimator.fit(X_train, y_train, **fit_params)\n",
            "E:\\Anaconda\\lib\\site-packages\\sklearn\\model_selection\\_validation.py:680: DataConversionWarning: A column-vector y was passed when a 1d array was expected. Please change the shape of y to (n_samples,), for example using ravel().\n",
            "  estimator.fit(X_train, y_train, **fit_params)\n",
            "E:\\Anaconda\\lib\\site-packages\\sklearn\\model_selection\\_validation.py:680: DataConversionWarning: A column-vector y was passed when a 1d array was expected. Please change the shape of y to (n_samples,), for example using ravel().\n",
            "  estimator.fit(X_train, y_train, **fit_params)\n",
            "E:\\Anaconda\\lib\\site-packages\\sklearn\\model_selection\\_validation.py:680: DataConversionWarning: A column-vector y was passed when a 1d array was expected. Please change the shape of y to (n_samples,), for example using ravel().\n",
            "  estimator.fit(X_train, y_train, **fit_params)\n"
          ]
        },
        {
          "data": {
            "text/plain": [
              "array([0.75925926, 0.74074074, 0.75471698, 0.69811321, 0.67924528,\n",
              "       0.71698113, 0.73584906, 0.88679245, 0.77358491, 0.79245283])"
            ]
          },
          "execution_count": 139,
          "metadata": {},
          "output_type": "execute_result"
        }
      ],
      "source": [
        "\n",
        "from sklearn.model_selection import cross_val_score\n",
        "\n",
        "scores = cross_val_score(df, X_train, Y_train,cv=10)\n",
        "\n",
        "scores"
      ]
    },
    {
      "cell_type": "code",
      "execution_count": null,
      "metadata": {
        "id": "nwYv9z0H-sId",
        "outputId": "1c71627d-b623-45e7-eb23-0d767507380c"
      },
      "outputs": [
        {
          "name": "stdout",
          "output_type": "stream",
          "text": [
            "Accuracy: 0.75 (+/- 0.16)\n"
          ]
        }
      ],
      "source": [
        "print(\"Accuracy: %0.2f (+/- %0.2f)\" % (scores.mean(), 3* scores.std() ))"
      ]
    },
    {
      "cell_type": "code",
      "execution_count": null,
      "metadata": {
        "id": "wZIgdztG-sIe"
      },
      "outputs": [],
      "source": [
        "#MLP Classification"
      ]
    },
    {
      "cell_type": "code",
      "execution_count": null,
      "metadata": {
        "id": "Os5NnVLq-sIe"
      },
      "outputs": [],
      "source": [
        "from sklearn.neural_network import MLPClassifier\n",
        "clf_entropy=MLPClassifier (hidden_layer_sizes=(15), activation='logistic')"
      ]
    },
    {
      "cell_type": "code",
      "execution_count": null,
      "metadata": {
        "id": "w7jwXREY-sIf",
        "outputId": "a9405c88-3517-4014-9aea-d855a52ee8e9"
      },
      "outputs": [
        {
          "name": "stderr",
          "output_type": "stream",
          "text": [
            "E:\\Anaconda\\lib\\site-packages\\sklearn\\neural_network\\_multilayer_perceptron.py:1109: DataConversionWarning: A column-vector y was passed when a 1d array was expected. Please change the shape of y to (n_samples, ), for example using ravel().\n",
            "  y = column_or_1d(y, warn=True)\n"
          ]
        },
        {
          "data": {
            "text/plain": [
              "MLPClassifier(activation='logistic', hidden_layer_sizes=15)"
            ]
          },
          "execution_count": 143,
          "metadata": {},
          "output_type": "execute_result"
        }
      ],
      "source": [
        "clf_entropy.fit(X_train,Y_train)"
      ]
    },
    {
      "cell_type": "code",
      "execution_count": null,
      "metadata": {
        "scrolled": true,
        "id": "1niR1atv-sIf",
        "outputId": "b6f8480c-16d7-4639-a5c8-dc7203377889"
      },
      "outputs": [
        {
          "name": "stdout",
          "output_type": "stream",
          "text": [
            "Train Accuracy =  0.7593984962406015\n"
          ]
        }
      ],
      "source": [
        "train_entropy = clf_entropy.predict(X_train)\n",
        "from sklearn.metrics import accuracy_score\n",
        "acc = accuracy_score(Y_train,train_entropy)\n",
        "print(\"Train Accuracy = \" ,acc)\n"
      ]
    },
    {
      "cell_type": "code",
      "execution_count": null,
      "metadata": {
        "id": "zTNEaalj-sIg",
        "outputId": "4e0a18ce-981a-47e0-ac28-8d3c89a8e315"
      },
      "outputs": [
        {
          "name": "stdout",
          "output_type": "stream",
          "text": [
            "[[43 21]\n",
            " [11 59]]\n"
          ]
        }
      ],
      "source": [
        "from  sklearn.metrics import confusion_matrix\n",
        "cM = confusion_matrix(Y_test,predicted_entropy)\n",
        "print(cM)"
      ]
    },
    {
      "cell_type": "code",
      "execution_count": null,
      "metadata": {
        "id": "Z7C7V5uf-sIg",
        "outputId": "3f338391-5652-4c74-d822-6757a270e7b0"
      },
      "outputs": [
        {
          "name": "stdout",
          "output_type": "stream",
          "text": [
            "Accuracy= 0.7611940298507462\n"
          ]
        }
      ],
      "source": [
        "tn, fn, fp, tp = cM.ravel()\n",
        "print(\"Accuracy=\",(tp+tn)/(tp+tn+fp+fn))"
      ]
    },
    {
      "cell_type": "code",
      "execution_count": null,
      "metadata": {
        "scrolled": true,
        "id": "jaVct0Sa-sIh",
        "outputId": "04ef9fb5-0265-443f-f4cf-f7a1fd29ee4c"
      },
      "outputs": [
        {
          "name": "stdout",
          "output_type": "stream",
          "text": [
            "Recall = Sensitivity =  0.7375\n",
            "Specificity = 0.7962962962962963\n",
            "Precision= 0.8428571428571429\n",
            "f1 score= 0.7866666666666667\n"
          ]
        }
      ],
      "source": [
        "recall = tp/(tp+fn)\n",
        "precision=tp/(tp+fp)\n",
        "print(\"Recall = Sensitivity = \",tp/(tp+fn))\n",
        "print(\"Specificity =\", tn/(tn+fp))\n",
        "\n",
        "print(\"Precision=\",tp/(tp+fp))\n",
        "f1score= 2 *(recall*precision)/(precision+recall)\n",
        "print(\"f1 score=\", f1score)"
      ]
    },
    {
      "cell_type": "code",
      "execution_count": null,
      "metadata": {
        "id": "2pOI3xdP-sIh",
        "outputId": "33b1ad05-39a4-45db-ab69-c1d927208a3e"
      },
      "outputs": [
        {
          "ename": "ValueError",
          "evalue": "y_true takes value in {'+', '-'} and pos_label is not specified: either make y_true take value in {0, 1} or {-1, 1} or pass pos_label explicitly.",
          "output_type": "error",
          "traceback": [
            "\u001b[1;31m---------------------------------------------------------------------------\u001b[0m",
            "\u001b[1;31mValueError\u001b[0m                                Traceback (most recent call last)",
            "Input \u001b[1;32mIn [148]\u001b[0m, in \u001b[0;36m<cell line: 3>\u001b[1;34m()\u001b[0m\n\u001b[0;32m      1\u001b[0m \u001b[38;5;28;01mfrom\u001b[39;00m \u001b[38;5;21;01msklearn\u001b[39;00m\u001b[38;5;21;01m.\u001b[39;00m\u001b[38;5;21;01mmetrics\u001b[39;00m \u001b[38;5;28;01mimport\u001b[39;00m roc_curve\n\u001b[0;32m      2\u001b[0m \u001b[38;5;28;01mfrom\u001b[39;00m  \u001b[38;5;21;01msklearn\u001b[39;00m\u001b[38;5;21;01m.\u001b[39;00m\u001b[38;5;21;01mmetrics\u001b[39;00m \u001b[38;5;28;01mimport\u001b[39;00m auc\n\u001b[1;32m----> 3\u001b[0m fpr, tpr, thresholds \u001b[38;5;241m=\u001b[39m \u001b[43mroc_curve\u001b[49m\u001b[43m(\u001b[49m\u001b[43mY_test\u001b[49m\u001b[43m,\u001b[49m\u001b[43mpredicted_entropy\u001b[49m\u001b[43m)\u001b[49m\n\u001b[0;32m      4\u001b[0m aucP\u001b[38;5;241m=\u001b[39mauc(fpr, tpr)\n\u001b[0;32m      6\u001b[0m \u001b[38;5;28mprint\u001b[39m(\u001b[38;5;124m'\u001b[39m\u001b[38;5;124mauc of ROC curve = \u001b[39m\u001b[38;5;124m'\u001b[39m, aucP)\n",
            "File \u001b[1;32mE:\\Anaconda\\lib\\site-packages\\sklearn\\metrics\\_ranking.py:962\u001b[0m, in \u001b[0;36mroc_curve\u001b[1;34m(y_true, y_score, pos_label, sample_weight, drop_intermediate)\u001b[0m\n\u001b[0;32m    873\u001b[0m \u001b[38;5;28;01mdef\u001b[39;00m \u001b[38;5;21mroc_curve\u001b[39m(\n\u001b[0;32m    874\u001b[0m     y_true, y_score, \u001b[38;5;241m*\u001b[39m, pos_label\u001b[38;5;241m=\u001b[39m\u001b[38;5;28;01mNone\u001b[39;00m, sample_weight\u001b[38;5;241m=\u001b[39m\u001b[38;5;28;01mNone\u001b[39;00m, drop_intermediate\u001b[38;5;241m=\u001b[39m\u001b[38;5;28;01mTrue\u001b[39;00m\n\u001b[0;32m    875\u001b[0m ):\n\u001b[0;32m    876\u001b[0m     \u001b[38;5;124;03m\"\"\"Compute Receiver operating characteristic (ROC).\u001b[39;00m\n\u001b[0;32m    877\u001b[0m \n\u001b[0;32m    878\u001b[0m \u001b[38;5;124;03m    Note: this implementation is restricted to the binary classification task.\u001b[39;00m\n\u001b[1;32m   (...)\u001b[0m\n\u001b[0;32m    960\u001b[0m \n\u001b[0;32m    961\u001b[0m \u001b[38;5;124;03m    \"\"\"\u001b[39;00m\n\u001b[1;32m--> 962\u001b[0m     fps, tps, thresholds \u001b[38;5;241m=\u001b[39m \u001b[43m_binary_clf_curve\u001b[49m\u001b[43m(\u001b[49m\n\u001b[0;32m    963\u001b[0m \u001b[43m        \u001b[49m\u001b[43my_true\u001b[49m\u001b[43m,\u001b[49m\u001b[43m \u001b[49m\u001b[43my_score\u001b[49m\u001b[43m,\u001b[49m\u001b[43m \u001b[49m\u001b[43mpos_label\u001b[49m\u001b[38;5;241;43m=\u001b[39;49m\u001b[43mpos_label\u001b[49m\u001b[43m,\u001b[49m\u001b[43m \u001b[49m\u001b[43msample_weight\u001b[49m\u001b[38;5;241;43m=\u001b[39;49m\u001b[43msample_weight\u001b[49m\n\u001b[0;32m    964\u001b[0m \u001b[43m    \u001b[49m\u001b[43m)\u001b[49m\n\u001b[0;32m    966\u001b[0m     \u001b[38;5;66;03m# Attempt to drop thresholds corresponding to points in between and\u001b[39;00m\n\u001b[0;32m    967\u001b[0m     \u001b[38;5;66;03m# collinear with other points. These are always suboptimal and do not\u001b[39;00m\n\u001b[0;32m    968\u001b[0m     \u001b[38;5;66;03m# appear on a plotted ROC curve (and thus do not affect the AUC).\u001b[39;00m\n\u001b[1;32m   (...)\u001b[0m\n\u001b[0;32m    973\u001b[0m     \u001b[38;5;66;03m# but does not drop more complicated cases like fps = [1, 3, 7],\u001b[39;00m\n\u001b[0;32m    974\u001b[0m     \u001b[38;5;66;03m# tps = [1, 2, 4]; there is no harm in keeping too many thresholds.\u001b[39;00m\n\u001b[0;32m    975\u001b[0m     \u001b[38;5;28;01mif\u001b[39;00m drop_intermediate \u001b[38;5;129;01mand\u001b[39;00m \u001b[38;5;28mlen\u001b[39m(fps) \u001b[38;5;241m>\u001b[39m \u001b[38;5;241m2\u001b[39m:\n",
            "File \u001b[1;32mE:\\Anaconda\\lib\\site-packages\\sklearn\\metrics\\_ranking.py:748\u001b[0m, in \u001b[0;36m_binary_clf_curve\u001b[1;34m(y_true, y_score, pos_label, sample_weight)\u001b[0m\n\u001b[0;32m    745\u001b[0m     y_score \u001b[38;5;241m=\u001b[39m y_score[nonzero_weight_mask]\n\u001b[0;32m    746\u001b[0m     sample_weight \u001b[38;5;241m=\u001b[39m sample_weight[nonzero_weight_mask]\n\u001b[1;32m--> 748\u001b[0m pos_label \u001b[38;5;241m=\u001b[39m \u001b[43m_check_pos_label_consistency\u001b[49m\u001b[43m(\u001b[49m\u001b[43mpos_label\u001b[49m\u001b[43m,\u001b[49m\u001b[43m \u001b[49m\u001b[43my_true\u001b[49m\u001b[43m)\u001b[49m\n\u001b[0;32m    750\u001b[0m \u001b[38;5;66;03m# make y_true a boolean vector\u001b[39;00m\n\u001b[0;32m    751\u001b[0m y_true \u001b[38;5;241m=\u001b[39m y_true \u001b[38;5;241m==\u001b[39m pos_label\n",
            "File \u001b[1;32mE:\\Anaconda\\lib\\site-packages\\sklearn\\metrics\\_base.py:243\u001b[0m, in \u001b[0;36m_check_pos_label_consistency\u001b[1;34m(pos_label, y_true)\u001b[0m\n\u001b[0;32m    232\u001b[0m \u001b[38;5;28;01mif\u001b[39;00m pos_label \u001b[38;5;129;01mis\u001b[39;00m \u001b[38;5;28;01mNone\u001b[39;00m \u001b[38;5;129;01mand\u001b[39;00m (\n\u001b[0;32m    233\u001b[0m     classes\u001b[38;5;241m.\u001b[39mdtype\u001b[38;5;241m.\u001b[39mkind \u001b[38;5;129;01min\u001b[39;00m \u001b[38;5;124m\"\u001b[39m\u001b[38;5;124mOUS\u001b[39m\u001b[38;5;124m\"\u001b[39m\n\u001b[0;32m    234\u001b[0m     \u001b[38;5;129;01mor\u001b[39;00m \u001b[38;5;129;01mnot\u001b[39;00m (\n\u001b[1;32m   (...)\u001b[0m\n\u001b[0;32m    240\u001b[0m     )\n\u001b[0;32m    241\u001b[0m ):\n\u001b[0;32m    242\u001b[0m     classes_repr \u001b[38;5;241m=\u001b[39m \u001b[38;5;124m\"\u001b[39m\u001b[38;5;124m, \u001b[39m\u001b[38;5;124m\"\u001b[39m\u001b[38;5;241m.\u001b[39mjoin(\u001b[38;5;28mrepr\u001b[39m(c) \u001b[38;5;28;01mfor\u001b[39;00m c \u001b[38;5;129;01min\u001b[39;00m classes)\n\u001b[1;32m--> 243\u001b[0m     \u001b[38;5;28;01mraise\u001b[39;00m \u001b[38;5;167;01mValueError\u001b[39;00m(\n\u001b[0;32m    244\u001b[0m         \u001b[38;5;124mf\u001b[39m\u001b[38;5;124m\"\u001b[39m\u001b[38;5;124my_true takes value in \u001b[39m\u001b[38;5;130;01m{{\u001b[39;00m\u001b[38;5;132;01m{\u001b[39;00mclasses_repr\u001b[38;5;132;01m}\u001b[39;00m\u001b[38;5;130;01m}}\u001b[39;00m\u001b[38;5;124m and pos_label is not \u001b[39m\u001b[38;5;124m\"\u001b[39m\n\u001b[0;32m    245\u001b[0m         \u001b[38;5;124m\"\u001b[39m\u001b[38;5;124mspecified: either make y_true take value in \u001b[39m\u001b[38;5;124m{\u001b[39m\u001b[38;5;124m0, 1} or \u001b[39m\u001b[38;5;124m\"\u001b[39m\n\u001b[0;32m    246\u001b[0m         \u001b[38;5;124m\"\u001b[39m\u001b[38;5;124m{\u001b[39m\u001b[38;5;124m-1, 1} or pass pos_label explicitly.\u001b[39m\u001b[38;5;124m\"\u001b[39m\n\u001b[0;32m    247\u001b[0m     )\n\u001b[0;32m    248\u001b[0m \u001b[38;5;28;01melif\u001b[39;00m pos_label \u001b[38;5;129;01mis\u001b[39;00m \u001b[38;5;28;01mNone\u001b[39;00m:\n\u001b[0;32m    249\u001b[0m     pos_label \u001b[38;5;241m=\u001b[39m \u001b[38;5;241m1\u001b[39m\n",
            "\u001b[1;31mValueError\u001b[0m: y_true takes value in {'+', '-'} and pos_label is not specified: either make y_true take value in {0, 1} or {-1, 1} or pass pos_label explicitly."
          ]
        }
      ],
      "source": [
        "from sklearn.metrics import roc_curve\n",
        "from  sklearn.metrics import auc\n",
        "fpr, tpr, thresholds = roc_curve(Y_test,predicted_entropy)\n",
        "aucP=auc(fpr, tpr)\n",
        "\n",
        "print('auc of ROC curve = ', aucP)"
      ]
    },
    {
      "cell_type": "code",
      "execution_count": null,
      "metadata": {
        "id": "7iNG__Sv-sIi",
        "outputId": "0af3eb5e-49f8-4776-f907-68838195d4ee"
      },
      "outputs": [
        {
          "name": "stderr",
          "output_type": "stream",
          "text": [
            "E:\\Anaconda\\lib\\site-packages\\sklearn\\model_selection\\_validation.py:680: DataConversionWarning: A column-vector y was passed when a 1d array was expected. Please change the shape of y to (n_samples,), for example using ravel().\n",
            "  estimator.fit(X_train, y_train, **fit_params)\n",
            "E:\\Anaconda\\lib\\site-packages\\sklearn\\model_selection\\_validation.py:680: DataConversionWarning: A column-vector y was passed when a 1d array was expected. Please change the shape of y to (n_samples,), for example using ravel().\n",
            "  estimator.fit(X_train, y_train, **fit_params)\n",
            "E:\\Anaconda\\lib\\site-packages\\sklearn\\model_selection\\_validation.py:680: DataConversionWarning: A column-vector y was passed when a 1d array was expected. Please change the shape of y to (n_samples,), for example using ravel().\n",
            "  estimator.fit(X_train, y_train, **fit_params)\n",
            "E:\\Anaconda\\lib\\site-packages\\sklearn\\model_selection\\_validation.py:680: DataConversionWarning: A column-vector y was passed when a 1d array was expected. Please change the shape of y to (n_samples,), for example using ravel().\n",
            "  estimator.fit(X_train, y_train, **fit_params)\n",
            "E:\\Anaconda\\lib\\site-packages\\sklearn\\model_selection\\_validation.py:680: DataConversionWarning: A column-vector y was passed when a 1d array was expected. Please change the shape of y to (n_samples,), for example using ravel().\n",
            "  estimator.fit(X_train, y_train, **fit_params)\n",
            "E:\\Anaconda\\lib\\site-packages\\sklearn\\model_selection\\_validation.py:680: DataConversionWarning: A column-vector y was passed when a 1d array was expected. Please change the shape of y to (n_samples,), for example using ravel().\n",
            "  estimator.fit(X_train, y_train, **fit_params)\n",
            "E:\\Anaconda\\lib\\site-packages\\sklearn\\model_selection\\_validation.py:680: DataConversionWarning: A column-vector y was passed when a 1d array was expected. Please change the shape of y to (n_samples,), for example using ravel().\n",
            "  estimator.fit(X_train, y_train, **fit_params)\n",
            "E:\\Anaconda\\lib\\site-packages\\sklearn\\model_selection\\_validation.py:680: DataConversionWarning: A column-vector y was passed when a 1d array was expected. Please change the shape of y to (n_samples,), for example using ravel().\n",
            "  estimator.fit(X_train, y_train, **fit_params)\n",
            "E:\\Anaconda\\lib\\site-packages\\sklearn\\model_selection\\_validation.py:680: DataConversionWarning: A column-vector y was passed when a 1d array was expected. Please change the shape of y to (n_samples,), for example using ravel().\n",
            "  estimator.fit(X_train, y_train, **fit_params)\n",
            "E:\\Anaconda\\lib\\site-packages\\sklearn\\model_selection\\_validation.py:680: DataConversionWarning: A column-vector y was passed when a 1d array was expected. Please change the shape of y to (n_samples,), for example using ravel().\n",
            "  estimator.fit(X_train, y_train, **fit_params)\n"
          ]
        },
        {
          "data": {
            "text/plain": [
              "array([0.7962963 , 0.7037037 , 0.79245283, 0.75471698, 0.64150943,\n",
              "       0.75471698, 0.69811321, 0.81132075, 0.79245283, 0.83018868])"
            ]
          },
          "execution_count": 150,
          "metadata": {},
          "output_type": "execute_result"
        }
      ],
      "source": [
        "\n",
        "from sklearn.model_selection import cross_val_score\n",
        "\n",
        "scores = cross_val_score(df, X_train, Y_train,cv=10)\n",
        "\n",
        "scores"
      ]
    },
    {
      "cell_type": "code",
      "execution_count": null,
      "metadata": {
        "id": "eogIIdOb-sIj",
        "outputId": "2586698e-8226-47ba-9dee-388837d19e98"
      },
      "outputs": [
        {
          "name": "stdout",
          "output_type": "stream",
          "text": [
            "Accuracy: 0.76 (+/- 0.17)\n"
          ]
        }
      ],
      "source": [
        "print(\"Accuracy: %0.2f (+/- %0.2f)\" % (scores.mean(), 3* scores.std() ))"
      ]
    },
    {
      "cell_type": "code",
      "execution_count": null,
      "metadata": {
        "id": "SMfcao0p-sIj"
      },
      "outputs": [],
      "source": [
        "#Support Vector Machines"
      ]
    },
    {
      "cell_type": "code",
      "execution_count": null,
      "metadata": {
        "id": "LBcoRhnp-sIk"
      },
      "outputs": [],
      "source": [
        "from sklearn.svm import SVC\n",
        "clf_entropy = SVC(kernel='sigmoid')"
      ]
    },
    {
      "cell_type": "code",
      "execution_count": null,
      "metadata": {
        "id": "1isTg1E0-sIk",
        "outputId": "97a1ea5f-312c-46a5-a0a6-382af9516a1d"
      },
      "outputs": [
        {
          "name": "stderr",
          "output_type": "stream",
          "text": [
            "E:\\Anaconda\\lib\\site-packages\\sklearn\\utils\\validation.py:993: DataConversionWarning: A column-vector y was passed when a 1d array was expected. Please change the shape of y to (n_samples, ), for example using ravel().\n",
            "  y = column_or_1d(y, warn=True)\n"
          ]
        },
        {
          "data": {
            "text/plain": [
              "SVC(kernel='sigmoid')"
            ]
          },
          "execution_count": 154,
          "metadata": {},
          "output_type": "execute_result"
        }
      ],
      "source": [
        "clf_entropy.fit(X_train,Y_train)"
      ]
    },
    {
      "cell_type": "code",
      "execution_count": null,
      "metadata": {
        "id": "MlvcWbAf-sIl",
        "outputId": "7d2a4b50-9c3d-4230-96de-929197ca880c"
      },
      "outputs": [
        {
          "name": "stdout",
          "output_type": "stream",
          "text": [
            "Train Accuracy =  0.6597744360902256\n"
          ]
        }
      ],
      "source": [
        "train_entropy = clf_entropy.predict(X_train)\n",
        "from sklearn.metrics import accuracy_score\n",
        "acc = accuracy_score(Y_train,train_entropy)\n",
        "print(\"Train Accuracy = \" ,acc)"
      ]
    },
    {
      "cell_type": "code",
      "execution_count": null,
      "metadata": {
        "scrolled": true,
        "id": "tydMrq0N-sIl",
        "outputId": "a4ba4724-5737-4a78-9d34-296e61593d5f"
      },
      "outputs": [
        {
          "name": "stdout",
          "output_type": "stream",
          "text": [
            "[[43 21]\n",
            " [11 59]]\n"
          ]
        }
      ],
      "source": [
        "from  sklearn.metrics import confusion_matrix\n",
        "cM = confusion_matrix(Y_test,predicted_entropy)\n",
        "print(cM)"
      ]
    },
    {
      "cell_type": "code",
      "execution_count": null,
      "metadata": {
        "id": "CrGf28lW-sIm",
        "outputId": "8941ffb5-43aa-4ef6-a67a-0a932e310b87"
      },
      "outputs": [
        {
          "name": "stdout",
          "output_type": "stream",
          "text": [
            "Accuracy= 0.7611940298507462\n"
          ]
        }
      ],
      "source": [
        "tn, fn, fp, tp = cM.ravel()\n",
        "print(\"Accuracy=\",(tp+tn)/(tp+tn+fp+fn))"
      ]
    },
    {
      "cell_type": "code",
      "execution_count": null,
      "metadata": {
        "id": "1z8qO_OT-sIn",
        "outputId": "2e60f1d0-6d50-465e-d0d8-edb16065eba7"
      },
      "outputs": [
        {
          "name": "stdout",
          "output_type": "stream",
          "text": [
            "Recall = Sensitivity =  0.7375\n",
            "Specificity = 0.7962962962962963\n",
            "Precision= 0.8428571428571429\n",
            "f1 score= 0.7866666666666667\n"
          ]
        }
      ],
      "source": [
        "recall = tp/(tp+fn)\n",
        "precision=tp/(tp+fp)\n",
        "print(\"Recall = Sensitivity = \",tp/(tp+fn))\n",
        "print(\"Specificity =\", tn/(tn+fp))\n",
        "\n",
        "print(\"Precision=\",tp/(tp+fp))\n",
        "f1score= 2 *(recall*precision)/(precision+recall)\n",
        "print(\"f1 score=\", f1score)"
      ]
    },
    {
      "cell_type": "code",
      "execution_count": null,
      "metadata": {
        "scrolled": true,
        "id": "-fzYsmcw-sIo",
        "outputId": "28408866-55b6-4d68-bac7-3c57580d2da4"
      },
      "outputs": [
        {
          "ename": "ValueError",
          "evalue": "y_true takes value in {'+', '-'} and pos_label is not specified: either make y_true take value in {0, 1} or {-1, 1} or pass pos_label explicitly.",
          "output_type": "error",
          "traceback": [
            "\u001b[1;31m---------------------------------------------------------------------------\u001b[0m",
            "\u001b[1;31mValueError\u001b[0m                                Traceback (most recent call last)",
            "Input \u001b[1;32mIn [159]\u001b[0m, in \u001b[0;36m<cell line: 3>\u001b[1;34m()\u001b[0m\n\u001b[0;32m      1\u001b[0m \u001b[38;5;28;01mfrom\u001b[39;00m \u001b[38;5;21;01msklearn\u001b[39;00m\u001b[38;5;21;01m.\u001b[39;00m\u001b[38;5;21;01mmetrics\u001b[39;00m \u001b[38;5;28;01mimport\u001b[39;00m roc_curve\n\u001b[0;32m      2\u001b[0m \u001b[38;5;28;01mfrom\u001b[39;00m  \u001b[38;5;21;01msklearn\u001b[39;00m\u001b[38;5;21;01m.\u001b[39;00m\u001b[38;5;21;01mmetrics\u001b[39;00m \u001b[38;5;28;01mimport\u001b[39;00m auc\n\u001b[1;32m----> 3\u001b[0m fpr, tpr, thresholds \u001b[38;5;241m=\u001b[39m \u001b[43mroc_curve\u001b[49m\u001b[43m(\u001b[49m\u001b[43mY_test\u001b[49m\u001b[43m,\u001b[49m\u001b[43mpredicted_entropy\u001b[49m\u001b[43m)\u001b[49m\n\u001b[0;32m      4\u001b[0m aucP\u001b[38;5;241m=\u001b[39mauc(fpr, tpr)\n\u001b[0;32m      6\u001b[0m \u001b[38;5;28mprint\u001b[39m(\u001b[38;5;124m'\u001b[39m\u001b[38;5;124mauc of ROC curve = \u001b[39m\u001b[38;5;124m'\u001b[39m, aucP)\n",
            "File \u001b[1;32mE:\\Anaconda\\lib\\site-packages\\sklearn\\metrics\\_ranking.py:962\u001b[0m, in \u001b[0;36mroc_curve\u001b[1;34m(y_true, y_score, pos_label, sample_weight, drop_intermediate)\u001b[0m\n\u001b[0;32m    873\u001b[0m \u001b[38;5;28;01mdef\u001b[39;00m \u001b[38;5;21mroc_curve\u001b[39m(\n\u001b[0;32m    874\u001b[0m     y_true, y_score, \u001b[38;5;241m*\u001b[39m, pos_label\u001b[38;5;241m=\u001b[39m\u001b[38;5;28;01mNone\u001b[39;00m, sample_weight\u001b[38;5;241m=\u001b[39m\u001b[38;5;28;01mNone\u001b[39;00m, drop_intermediate\u001b[38;5;241m=\u001b[39m\u001b[38;5;28;01mTrue\u001b[39;00m\n\u001b[0;32m    875\u001b[0m ):\n\u001b[0;32m    876\u001b[0m     \u001b[38;5;124;03m\"\"\"Compute Receiver operating characteristic (ROC).\u001b[39;00m\n\u001b[0;32m    877\u001b[0m \n\u001b[0;32m    878\u001b[0m \u001b[38;5;124;03m    Note: this implementation is restricted to the binary classification task.\u001b[39;00m\n\u001b[1;32m   (...)\u001b[0m\n\u001b[0;32m    960\u001b[0m \n\u001b[0;32m    961\u001b[0m \u001b[38;5;124;03m    \"\"\"\u001b[39;00m\n\u001b[1;32m--> 962\u001b[0m     fps, tps, thresholds \u001b[38;5;241m=\u001b[39m \u001b[43m_binary_clf_curve\u001b[49m\u001b[43m(\u001b[49m\n\u001b[0;32m    963\u001b[0m \u001b[43m        \u001b[49m\u001b[43my_true\u001b[49m\u001b[43m,\u001b[49m\u001b[43m \u001b[49m\u001b[43my_score\u001b[49m\u001b[43m,\u001b[49m\u001b[43m \u001b[49m\u001b[43mpos_label\u001b[49m\u001b[38;5;241;43m=\u001b[39;49m\u001b[43mpos_label\u001b[49m\u001b[43m,\u001b[49m\u001b[43m \u001b[49m\u001b[43msample_weight\u001b[49m\u001b[38;5;241;43m=\u001b[39;49m\u001b[43msample_weight\u001b[49m\n\u001b[0;32m    964\u001b[0m \u001b[43m    \u001b[49m\u001b[43m)\u001b[49m\n\u001b[0;32m    966\u001b[0m     \u001b[38;5;66;03m# Attempt to drop thresholds corresponding to points in between and\u001b[39;00m\n\u001b[0;32m    967\u001b[0m     \u001b[38;5;66;03m# collinear with other points. These are always suboptimal and do not\u001b[39;00m\n\u001b[0;32m    968\u001b[0m     \u001b[38;5;66;03m# appear on a plotted ROC curve (and thus do not affect the AUC).\u001b[39;00m\n\u001b[1;32m   (...)\u001b[0m\n\u001b[0;32m    973\u001b[0m     \u001b[38;5;66;03m# but does not drop more complicated cases like fps = [1, 3, 7],\u001b[39;00m\n\u001b[0;32m    974\u001b[0m     \u001b[38;5;66;03m# tps = [1, 2, 4]; there is no harm in keeping too many thresholds.\u001b[39;00m\n\u001b[0;32m    975\u001b[0m     \u001b[38;5;28;01mif\u001b[39;00m drop_intermediate \u001b[38;5;129;01mand\u001b[39;00m \u001b[38;5;28mlen\u001b[39m(fps) \u001b[38;5;241m>\u001b[39m \u001b[38;5;241m2\u001b[39m:\n",
            "File \u001b[1;32mE:\\Anaconda\\lib\\site-packages\\sklearn\\metrics\\_ranking.py:748\u001b[0m, in \u001b[0;36m_binary_clf_curve\u001b[1;34m(y_true, y_score, pos_label, sample_weight)\u001b[0m\n\u001b[0;32m    745\u001b[0m     y_score \u001b[38;5;241m=\u001b[39m y_score[nonzero_weight_mask]\n\u001b[0;32m    746\u001b[0m     sample_weight \u001b[38;5;241m=\u001b[39m sample_weight[nonzero_weight_mask]\n\u001b[1;32m--> 748\u001b[0m pos_label \u001b[38;5;241m=\u001b[39m \u001b[43m_check_pos_label_consistency\u001b[49m\u001b[43m(\u001b[49m\u001b[43mpos_label\u001b[49m\u001b[43m,\u001b[49m\u001b[43m \u001b[49m\u001b[43my_true\u001b[49m\u001b[43m)\u001b[49m\n\u001b[0;32m    750\u001b[0m \u001b[38;5;66;03m# make y_true a boolean vector\u001b[39;00m\n\u001b[0;32m    751\u001b[0m y_true \u001b[38;5;241m=\u001b[39m y_true \u001b[38;5;241m==\u001b[39m pos_label\n",
            "File \u001b[1;32mE:\\Anaconda\\lib\\site-packages\\sklearn\\metrics\\_base.py:243\u001b[0m, in \u001b[0;36m_check_pos_label_consistency\u001b[1;34m(pos_label, y_true)\u001b[0m\n\u001b[0;32m    232\u001b[0m \u001b[38;5;28;01mif\u001b[39;00m pos_label \u001b[38;5;129;01mis\u001b[39;00m \u001b[38;5;28;01mNone\u001b[39;00m \u001b[38;5;129;01mand\u001b[39;00m (\n\u001b[0;32m    233\u001b[0m     classes\u001b[38;5;241m.\u001b[39mdtype\u001b[38;5;241m.\u001b[39mkind \u001b[38;5;129;01min\u001b[39;00m \u001b[38;5;124m\"\u001b[39m\u001b[38;5;124mOUS\u001b[39m\u001b[38;5;124m\"\u001b[39m\n\u001b[0;32m    234\u001b[0m     \u001b[38;5;129;01mor\u001b[39;00m \u001b[38;5;129;01mnot\u001b[39;00m (\n\u001b[1;32m   (...)\u001b[0m\n\u001b[0;32m    240\u001b[0m     )\n\u001b[0;32m    241\u001b[0m ):\n\u001b[0;32m    242\u001b[0m     classes_repr \u001b[38;5;241m=\u001b[39m \u001b[38;5;124m\"\u001b[39m\u001b[38;5;124m, \u001b[39m\u001b[38;5;124m\"\u001b[39m\u001b[38;5;241m.\u001b[39mjoin(\u001b[38;5;28mrepr\u001b[39m(c) \u001b[38;5;28;01mfor\u001b[39;00m c \u001b[38;5;129;01min\u001b[39;00m classes)\n\u001b[1;32m--> 243\u001b[0m     \u001b[38;5;28;01mraise\u001b[39;00m \u001b[38;5;167;01mValueError\u001b[39;00m(\n\u001b[0;32m    244\u001b[0m         \u001b[38;5;124mf\u001b[39m\u001b[38;5;124m\"\u001b[39m\u001b[38;5;124my_true takes value in \u001b[39m\u001b[38;5;130;01m{{\u001b[39;00m\u001b[38;5;132;01m{\u001b[39;00mclasses_repr\u001b[38;5;132;01m}\u001b[39;00m\u001b[38;5;130;01m}}\u001b[39;00m\u001b[38;5;124m and pos_label is not \u001b[39m\u001b[38;5;124m\"\u001b[39m\n\u001b[0;32m    245\u001b[0m         \u001b[38;5;124m\"\u001b[39m\u001b[38;5;124mspecified: either make y_true take value in \u001b[39m\u001b[38;5;124m{\u001b[39m\u001b[38;5;124m0, 1} or \u001b[39m\u001b[38;5;124m\"\u001b[39m\n\u001b[0;32m    246\u001b[0m         \u001b[38;5;124m\"\u001b[39m\u001b[38;5;124m{\u001b[39m\u001b[38;5;124m-1, 1} or pass pos_label explicitly.\u001b[39m\u001b[38;5;124m\"\u001b[39m\n\u001b[0;32m    247\u001b[0m     )\n\u001b[0;32m    248\u001b[0m \u001b[38;5;28;01melif\u001b[39;00m pos_label \u001b[38;5;129;01mis\u001b[39;00m \u001b[38;5;28;01mNone\u001b[39;00m:\n\u001b[0;32m    249\u001b[0m     pos_label \u001b[38;5;241m=\u001b[39m \u001b[38;5;241m1\u001b[39m\n",
            "\u001b[1;31mValueError\u001b[0m: y_true takes value in {'+', '-'} and pos_label is not specified: either make y_true take value in {0, 1} or {-1, 1} or pass pos_label explicitly."
          ]
        }
      ],
      "source": [
        "from sklearn.metrics import roc_curve\n",
        "from  sklearn.metrics import auc\n",
        "fpr, tpr, thresholds = roc_curve(Y_test,predicted_entropy)\n",
        "aucP=auc(fpr, tpr)\n",
        "\n",
        "print('auc of ROC curve = ', aucP)"
      ]
    },
    {
      "cell_type": "code",
      "execution_count": null,
      "metadata": {
        "id": "iDJ9DDH1-sIo",
        "outputId": "b9b164f9-0197-4be6-8c4b-ce87c47287ac"
      },
      "outputs": [
        {
          "name": "stderr",
          "output_type": "stream",
          "text": [
            "E:\\Anaconda\\lib\\site-packages\\sklearn\\model_selection\\_validation.py:680: DataConversionWarning: A column-vector y was passed when a 1d array was expected. Please change the shape of y to (n_samples,), for example using ravel().\n",
            "  estimator.fit(X_train, y_train, **fit_params)\n",
            "E:\\Anaconda\\lib\\site-packages\\sklearn\\model_selection\\_validation.py:680: DataConversionWarning: A column-vector y was passed when a 1d array was expected. Please change the shape of y to (n_samples,), for example using ravel().\n",
            "  estimator.fit(X_train, y_train, **fit_params)\n",
            "E:\\Anaconda\\lib\\site-packages\\sklearn\\model_selection\\_validation.py:680: DataConversionWarning: A column-vector y was passed when a 1d array was expected. Please change the shape of y to (n_samples,), for example using ravel().\n",
            "  estimator.fit(X_train, y_train, **fit_params)\n",
            "E:\\Anaconda\\lib\\site-packages\\sklearn\\model_selection\\_validation.py:680: DataConversionWarning: A column-vector y was passed when a 1d array was expected. Please change the shape of y to (n_samples,), for example using ravel().\n",
            "  estimator.fit(X_train, y_train, **fit_params)\n",
            "E:\\Anaconda\\lib\\site-packages\\sklearn\\model_selection\\_validation.py:680: DataConversionWarning: A column-vector y was passed when a 1d array was expected. Please change the shape of y to (n_samples,), for example using ravel().\n",
            "  estimator.fit(X_train, y_train, **fit_params)\n",
            "E:\\Anaconda\\lib\\site-packages\\sklearn\\model_selection\\_validation.py:680: DataConversionWarning: A column-vector y was passed when a 1d array was expected. Please change the shape of y to (n_samples,), for example using ravel().\n",
            "  estimator.fit(X_train, y_train, **fit_params)\n",
            "E:\\Anaconda\\lib\\site-packages\\sklearn\\model_selection\\_validation.py:680: DataConversionWarning: A column-vector y was passed when a 1d array was expected. Please change the shape of y to (n_samples,), for example using ravel().\n",
            "  estimator.fit(X_train, y_train, **fit_params)\n",
            "E:\\Anaconda\\lib\\site-packages\\sklearn\\model_selection\\_validation.py:680: DataConversionWarning: A column-vector y was passed when a 1d array was expected. Please change the shape of y to (n_samples,), for example using ravel().\n",
            "  estimator.fit(X_train, y_train, **fit_params)\n",
            "E:\\Anaconda\\lib\\site-packages\\sklearn\\model_selection\\_validation.py:680: DataConversionWarning: A column-vector y was passed when a 1d array was expected. Please change the shape of y to (n_samples,), for example using ravel().\n",
            "  estimator.fit(X_train, y_train, **fit_params)\n",
            "E:\\Anaconda\\lib\\site-packages\\sklearn\\model_selection\\_validation.py:680: DataConversionWarning: A column-vector y was passed when a 1d array was expected. Please change the shape of y to (n_samples,), for example using ravel().\n",
            "  estimator.fit(X_train, y_train, **fit_params)\n"
          ]
        },
        {
          "data": {
            "text/plain": [
              "array([0.81481481, 0.7037037 , 0.81132075, 0.69811321, 0.67924528,\n",
              "       0.73584906, 0.79245283, 0.73584906, 0.77358491, 0.79245283])"
            ]
          },
          "execution_count": 161,
          "metadata": {},
          "output_type": "execute_result"
        }
      ],
      "source": [
        "\n",
        "from sklearn.model_selection import cross_val_score\n",
        "\n",
        "scores = cross_val_score(df, X_train, Y_train,cv=10)\n",
        "\n",
        "scores"
      ]
    },
    {
      "cell_type": "code",
      "execution_count": null,
      "metadata": {
        "id": "xcRU67DK-sIp",
        "outputId": "81622370-93c4-4543-f8f8-951d92d82e40"
      },
      "outputs": [
        {
          "name": "stdout",
          "output_type": "stream",
          "text": [
            "Accuracy: 0.75 (+/- 0.14)\n"
          ]
        }
      ],
      "source": [
        "print(\"Accuracy: %0.2f (+/- %0.2f)\" % (scores.mean(), 3* scores.std() ))"
      ]
    },
    {
      "cell_type": "code",
      "execution_count": null,
      "metadata": {
        "id": "Wgq8nlDO-sIp"
      },
      "outputs": [],
      "source": []
    },
    {
      "cell_type": "code",
      "execution_count": null,
      "metadata": {
        "id": "HoiTtBRE-sIp"
      },
      "outputs": [],
      "source": []
    },
    {
      "cell_type": "code",
      "execution_count": null,
      "metadata": {
        "id": "EXpMyymW-sIq"
      },
      "outputs": [],
      "source": []
    },
    {
      "cell_type": "code",
      "execution_count": null,
      "metadata": {
        "id": "6cBCctmM-sIq"
      },
      "outputs": [],
      "source": []
    },
    {
      "cell_type": "code",
      "execution_count": null,
      "metadata": {
        "id": "wsQb1el1-sIq"
      },
      "outputs": [],
      "source": []
    },
    {
      "cell_type": "code",
      "execution_count": null,
      "metadata": {
        "id": "AxjtdV6d-sIq"
      },
      "outputs": [],
      "source": []
    },
    {
      "cell_type": "code",
      "execution_count": null,
      "metadata": {
        "id": "u4-fMp0Y-sIq"
      },
      "outputs": [],
      "source": []
    },
    {
      "cell_type": "code",
      "execution_count": null,
      "metadata": {
        "id": "LkxbPud--sIr"
      },
      "outputs": [],
      "source": []
    },
    {
      "cell_type": "code",
      "execution_count": null,
      "metadata": {
        "id": "HeCJXpG8-sIr"
      },
      "outputs": [],
      "source": []
    },
    {
      "cell_type": "code",
      "execution_count": null,
      "metadata": {
        "id": "3j614b53-sIr"
      },
      "outputs": [],
      "source": []
    },
    {
      "cell_type": "code",
      "execution_count": null,
      "metadata": {
        "id": "5cJjfRb9-sIr"
      },
      "outputs": [],
      "source": []
    },
    {
      "cell_type": "code",
      "execution_count": null,
      "metadata": {
        "id": "iKochhbE-sIs"
      },
      "outputs": [],
      "source": []
    },
    {
      "cell_type": "code",
      "execution_count": null,
      "metadata": {
        "id": "RYcrMckb-sIs"
      },
      "outputs": [],
      "source": []
    },
    {
      "cell_type": "code",
      "execution_count": null,
      "metadata": {
        "id": "iuT8zobw-sIs"
      },
      "outputs": [],
      "source": []
    },
    {
      "cell_type": "code",
      "execution_count": null,
      "metadata": {
        "id": "5gGTDRfv-sIs"
      },
      "outputs": [],
      "source": []
    },
    {
      "cell_type": "code",
      "execution_count": null,
      "metadata": {
        "id": "UqGTsQEf-sIt"
      },
      "outputs": [],
      "source": []
    }
  ],
  "metadata": {
    "kernelspec": {
      "display_name": "Python 3 (ipykernel)",
      "language": "python",
      "name": "python3"
    },
    "language_info": {
      "codemirror_mode": {
        "name": "ipython",
        "version": 3
      },
      "file_extension": ".py",
      "mimetype": "text/x-python",
      "name": "python",
      "nbconvert_exporter": "python",
      "pygments_lexer": "ipython3",
      "version": "3.9.12"
    },
    "colab": {
      "provenance": []
    }
  },
  "nbformat": 4,
  "nbformat_minor": 0
}